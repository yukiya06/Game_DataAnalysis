{
  "nbformat": 4,
  "nbformat_minor": 0,
  "metadata": {
    "colab": {
      "name": "Untitled17.ipynb",
      "provenance": [],
      "authorship_tag": "ABX9TyP2MDg8baAXlitYy0R1hUsZ",
      "include_colab_link": true
    },
    "kernelspec": {
      "name": "python3",
      "display_name": "Python 3"
    },
    "language_info": {
      "name": "python"
    }
  },
  "cells": [
    {
      "cell_type": "markdown",
      "metadata": {
        "id": "view-in-github",
        "colab_type": "text"
      },
      "source": [
        "<a href=\"https://colab.research.google.com/github/yukiya06/Game_DataAnalysis/blob/main/Game_DataAnalysis.ipynb\" target=\"_parent\"><img src=\"https://colab.research.google.com/assets/colab-badge.svg\" alt=\"Open In Colab\"/></a>"
      ]
    },
    {
      "cell_type": "code",
      "execution_count": null,
      "metadata": {
        "id": "7X3Vi_FucPp8"
      },
      "outputs": [],
      "source": [
        "# matplotlib 세팅\n",
        "!sudo apt-get install -y fonts-nanum\n",
        "!sudo fc-cache -fv\n",
        "!rm ~/.cache/matplotlib -rf"
      ]
    },
    {
      "cell_type": "code",
      "source": [
        "pip install pingouin"
      ],
      "metadata": {
        "id": "WDg9yQNth9h7"
      },
      "execution_count": null,
      "outputs": []
    },
    {
      "cell_type": "code",
      "source": [
        "# Python modules setting\n",
        "import pandas as pd\n",
        "import numpy as np\n",
        "import matplotlib as mpl\n",
        "import matplotlib.pyplot as plt\n",
        "import matplotlib.patches as patches\n",
        "import seaborn as sns\n",
        "from scipy import stats\n",
        "import pingouin as pg"
      ],
      "metadata": {
        "id": "wwEjE2F9eVhy"
      },
      "execution_count": 46,
      "outputs": []
    },
    {
      "cell_type": "markdown",
      "source": [
        "## [1] 데이터 전처리"
      ],
      "metadata": {
        "id": "z4vsO9SzjsP0"
      }
    },
    {
      "cell_type": "markdown",
      "source": [
        "## 데이터 불러오기"
      ],
      "metadata": {
        "id": "b9fmMn09fM7J"
      }
    },
    {
      "cell_type": "code",
      "source": [
        "from google.colab import drive\n",
        "drive.mount('/content/drive')"
      ],
      "metadata": {
        "id": "kenxTcjIepMD",
        "outputId": "081ff32e-10a9-47e7-81af-d6cdeaf909f8",
        "colab": {
          "base_uri": "https://localhost:8080/"
        }
      },
      "execution_count": 2,
      "outputs": [
        {
          "output_type": "stream",
          "name": "stdout",
          "text": [
            "Mounted at /content/drive\n"
          ]
        }
      ]
    },
    {
      "cell_type": "code",
      "source": [
        "df = pd.read_csv('/content/drive/MyDrive/vgames2.csv', index_col='Unnamed: 0')\n",
        "df.head(1)"
      ],
      "metadata": {
        "colab": {
          "base_uri": "https://localhost:8080/",
          "height": 81
        },
        "id": "Czv55cj6faiG",
        "outputId": "7f6a650a-4669-4bd8-be1f-fc049f960114"
      },
      "execution_count": 2,
      "outputs": [
        {
          "output_type": "execute_result",
          "data": {
            "text/plain": [
              "                           Name Platform    Year   Genre  Publisher NA_Sales  \\\n",
              "1  Candace Kane's Candy Factory       DS  2008.0  Action  Destineer     0.04   \n",
              "\n",
              "  EU_Sales JP_Sales Other_Sales  \n",
              "1        0        0           0  "
            ],
            "text/html": [
              "\n",
              "  <div id=\"df-1f392819-2b4f-4a10-a164-af4b0df03dc6\">\n",
              "    <div class=\"colab-df-container\">\n",
              "      <div>\n",
              "<style scoped>\n",
              "    .dataframe tbody tr th:only-of-type {\n",
              "        vertical-align: middle;\n",
              "    }\n",
              "\n",
              "    .dataframe tbody tr th {\n",
              "        vertical-align: top;\n",
              "    }\n",
              "\n",
              "    .dataframe thead th {\n",
              "        text-align: right;\n",
              "    }\n",
              "</style>\n",
              "<table border=\"1\" class=\"dataframe\">\n",
              "  <thead>\n",
              "    <tr style=\"text-align: right;\">\n",
              "      <th></th>\n",
              "      <th>Name</th>\n",
              "      <th>Platform</th>\n",
              "      <th>Year</th>\n",
              "      <th>Genre</th>\n",
              "      <th>Publisher</th>\n",
              "      <th>NA_Sales</th>\n",
              "      <th>EU_Sales</th>\n",
              "      <th>JP_Sales</th>\n",
              "      <th>Other_Sales</th>\n",
              "    </tr>\n",
              "  </thead>\n",
              "  <tbody>\n",
              "    <tr>\n",
              "      <th>1</th>\n",
              "      <td>Candace Kane's Candy Factory</td>\n",
              "      <td>DS</td>\n",
              "      <td>2008.0</td>\n",
              "      <td>Action</td>\n",
              "      <td>Destineer</td>\n",
              "      <td>0.04</td>\n",
              "      <td>0</td>\n",
              "      <td>0</td>\n",
              "      <td>0</td>\n",
              "    </tr>\n",
              "  </tbody>\n",
              "</table>\n",
              "</div>\n",
              "      <button class=\"colab-df-convert\" onclick=\"convertToInteractive('df-1f392819-2b4f-4a10-a164-af4b0df03dc6')\"\n",
              "              title=\"Convert this dataframe to an interactive table.\"\n",
              "              style=\"display:none;\">\n",
              "        \n",
              "  <svg xmlns=\"http://www.w3.org/2000/svg\" height=\"24px\"viewBox=\"0 0 24 24\"\n",
              "       width=\"24px\">\n",
              "    <path d=\"M0 0h24v24H0V0z\" fill=\"none\"/>\n",
              "    <path d=\"M18.56 5.44l.94 2.06.94-2.06 2.06-.94-2.06-.94-.94-2.06-.94 2.06-2.06.94zm-11 1L8.5 8.5l.94-2.06 2.06-.94-2.06-.94L8.5 2.5l-.94 2.06-2.06.94zm10 10l.94 2.06.94-2.06 2.06-.94-2.06-.94-.94-2.06-.94 2.06-2.06.94z\"/><path d=\"M17.41 7.96l-1.37-1.37c-.4-.4-.92-.59-1.43-.59-.52 0-1.04.2-1.43.59L10.3 9.45l-7.72 7.72c-.78.78-.78 2.05 0 2.83L4 21.41c.39.39.9.59 1.41.59.51 0 1.02-.2 1.41-.59l7.78-7.78 2.81-2.81c.8-.78.8-2.07 0-2.86zM5.41 20L4 18.59l7.72-7.72 1.47 1.35L5.41 20z\"/>\n",
              "  </svg>\n",
              "      </button>\n",
              "      \n",
              "  <style>\n",
              "    .colab-df-container {\n",
              "      display:flex;\n",
              "      flex-wrap:wrap;\n",
              "      gap: 12px;\n",
              "    }\n",
              "\n",
              "    .colab-df-convert {\n",
              "      background-color: #E8F0FE;\n",
              "      border: none;\n",
              "      border-radius: 50%;\n",
              "      cursor: pointer;\n",
              "      display: none;\n",
              "      fill: #1967D2;\n",
              "      height: 32px;\n",
              "      padding: 0 0 0 0;\n",
              "      width: 32px;\n",
              "    }\n",
              "\n",
              "    .colab-df-convert:hover {\n",
              "      background-color: #E2EBFA;\n",
              "      box-shadow: 0px 1px 2px rgba(60, 64, 67, 0.3), 0px 1px 3px 1px rgba(60, 64, 67, 0.15);\n",
              "      fill: #174EA6;\n",
              "    }\n",
              "\n",
              "    [theme=dark] .colab-df-convert {\n",
              "      background-color: #3B4455;\n",
              "      fill: #D2E3FC;\n",
              "    }\n",
              "\n",
              "    [theme=dark] .colab-df-convert:hover {\n",
              "      background-color: #434B5C;\n",
              "      box-shadow: 0px 1px 3px 1px rgba(0, 0, 0, 0.15);\n",
              "      filter: drop-shadow(0px 1px 2px rgba(0, 0, 0, 0.3));\n",
              "      fill: #FFFFFF;\n",
              "    }\n",
              "  </style>\n",
              "\n",
              "      <script>\n",
              "        const buttonEl =\n",
              "          document.querySelector('#df-1f392819-2b4f-4a10-a164-af4b0df03dc6 button.colab-df-convert');\n",
              "        buttonEl.style.display =\n",
              "          google.colab.kernel.accessAllowed ? 'block' : 'none';\n",
              "\n",
              "        async function convertToInteractive(key) {\n",
              "          const element = document.querySelector('#df-1f392819-2b4f-4a10-a164-af4b0df03dc6');\n",
              "          const dataTable =\n",
              "            await google.colab.kernel.invokeFunction('convertToInteractive',\n",
              "                                                     [key], {});\n",
              "          if (!dataTable) return;\n",
              "\n",
              "          const docLinkHtml = 'Like what you see? Visit the ' +\n",
              "            '<a target=\"_blank\" href=https://colab.research.google.com/notebooks/data_table.ipynb>data table notebook</a>'\n",
              "            + ' to learn more about interactive tables.';\n",
              "          element.innerHTML = '';\n",
              "          dataTable['output_type'] = 'display_data';\n",
              "          await google.colab.output.renderOutput(dataTable, element);\n",
              "          const docLink = document.createElement('div');\n",
              "          docLink.innerHTML = docLinkHtml;\n",
              "          element.appendChild(docLink);\n",
              "        }\n",
              "      </script>\n",
              "    </div>\n",
              "  </div>\n",
              "  "
            ]
          },
          "metadata": {},
          "execution_count": 2
        }
      ]
    },
    {
      "cell_type": "markdown",
      "source": [
        "##데이터 구조확인 (파악용)"
      ],
      "metadata": {
        "id": "2LrC942qfnDJ"
      }
    },
    {
      "cell_type": "code",
      "source": [
        "df.shape # 데이터 크기: (16598, 9)\n",
        "df.info() # 데이터 종류: year만 float, 나머지 obj → 수치변환 필요\n",
        "df.isnull().sum() # 데이터Null값 : Year  271개 / Genre 50개 / Publisher 58개"
      ],
      "metadata": {
        "id": "jOPRT6KQf67Z",
        "outputId": "2a7d401f-ddf5-4817-fd89-1686d65d00fd",
        "colab": {
          "base_uri": "https://localhost:8080/"
        }
      },
      "execution_count": 3,
      "outputs": [
        {
          "output_type": "stream",
          "name": "stdout",
          "text": [
            "<class 'pandas.core.frame.DataFrame'>\n",
            "Int64Index: 16598 entries, 1 to 16598\n",
            "Data columns (total 9 columns):\n",
            " #   Column       Non-Null Count  Dtype  \n",
            "---  ------       --------------  -----  \n",
            " 0   Name         16598 non-null  object \n",
            " 1   Platform     16598 non-null  object \n",
            " 2   Year         16327 non-null  float64\n",
            " 3   Genre        16548 non-null  object \n",
            " 4   Publisher    16540 non-null  object \n",
            " 5   NA_Sales     16598 non-null  object \n",
            " 6   EU_Sales     16598 non-null  object \n",
            " 7   JP_Sales     16598 non-null  object \n",
            " 8   Other_Sales  16598 non-null  object \n",
            "dtypes: float64(1), object(8)\n",
            "memory usage: 1.3+ MB\n"
          ]
        },
        {
          "output_type": "execute_result",
          "data": {
            "text/plain": [
              "Name             0\n",
              "Platform         0\n",
              "Year           271\n",
              "Genre           50\n",
              "Publisher       58\n",
              "NA_Sales         0\n",
              "EU_Sales         0\n",
              "JP_Sales         0\n",
              "Other_Sales      0\n",
              "dtype: int64"
            ]
          },
          "metadata": {},
          "execution_count": 3
        }
      ]
    },
    {
      "cell_type": "markdown",
      "source": [
        "## 연속형데이터(수치) 단위 통일\n",
        "\n",
        "\n",
        "*   Sales 단위를 'M'으로 통일하고, 실수화(float) 진행\n",
        "\n"
      ],
      "metadata": {
        "id": "7kVCf2b6hhG_"
      }
    },
    {
      "cell_type": "code",
      "source": [
        "df1 = df.copy() # 실수하면 여기로 돌아온다, 변경할 DataFrame"
      ],
      "metadata": {
        "id": "CWltQ8SEh5Yo"
      },
      "execution_count": 4,
      "outputs": []
    },
    {
      "cell_type": "code",
      "source": [
        "# df1['NA_Sales'].unique()로 확인하여 데이터 양식 파악\n",
        "# K(10**3)나 M(10**6)이 섞여 있음\n",
        "\n",
        "def to_float(x) :\n",
        "  if 'K' in x :\n",
        "    if float(x.replace('K','')) > 0 :\n",
        "      return round(float(x.replace('K','')) / 1000, 2)\n",
        "    else :\n",
        "      return 0.0\n",
        "  if 'M' in x :\n",
        "    return float(x.replace('M',''))\n",
        "  else :\n",
        "    return float(x)"
      ],
      "metadata": {
        "id": "cqLNVmpZiCZl"
      },
      "execution_count": 5,
      "outputs": []
    },
    {
      "cell_type": "code",
      "source": [
        "df1['NA_Sales'] = df1['NA_Sales'].apply(to_float)\n",
        "df1['EU_Sales'] = df1['EU_Sales'].apply(to_float)\n",
        "df1['JP_Sales'] = df1['JP_Sales'].apply(to_float)\n",
        "df1['Other_Sales'] = df1['Other_Sales'].apply(to_float)"
      ],
      "metadata": {
        "id": "AouWhUkLjAJJ"
      },
      "execution_count": 6,
      "outputs": []
    },
    {
      "cell_type": "code",
      "source": [
        "# Sales sum columns 추가\n",
        "df1['Sales_sum']=df1['NA_Sales']+df1['EU_Sales']+df1['JP_Sales']+df1['Other_Sales']"
      ],
      "metadata": {
        "id": "o1jSZoYMjTH8"
      },
      "execution_count": 7,
      "outputs": []
    },
    {
      "cell_type": "code",
      "source": [
        "# 중간점검\n",
        "#df1.dtypes # 변경여부 확인\n",
        "#df1.describe() # Sales에서 mean/median 차이큼, min/max 차이큼"
      ],
      "metadata": {
        "id": "70Mbi5QgjjXO"
      },
      "execution_count": null,
      "outputs": []
    },
    {
      "cell_type": "markdown",
      "source": [
        "# 연도표시 단위 통일 \n",
        "\n",
        "*   4자리수(ex: 2020)로 변경,  정수화(int) 진행\n",
        "\n"
      ],
      "metadata": {
        "id": "ZoLn0pxulJCj"
      }
    },
    {
      "cell_type": "code",
      "source": [
        "# 연도표시에 2자리수, 4자리수 혼용 → 4자리수로 변경\n",
        "def change_year(x):\n",
        "  if x < 50 :\n",
        "    x += 2000\n",
        "  elif x > 50 and x < 100:\n",
        "    x += 1900\n",
        "  return x\n",
        "\n",
        "# null값 없애고 나서 변환확인\n",
        "# df_f['Year'].unique()"
      ],
      "metadata": {
        "id": "v0Gs0mNvmZl_"
      },
      "execution_count": 8,
      "outputs": []
    },
    {
      "cell_type": "code",
      "source": [
        "df1['Year'] = df1['Year'].apply(change_year)"
      ],
      "metadata": {
        "id": "fcTwZySlmtxW"
      },
      "execution_count": 9,
      "outputs": []
    },
    {
      "cell_type": "markdown",
      "source": [
        "## 결측치 확인\n",
        "\n",
        "\n",
        "*   결측치 행 갯수로 비율 확인\n",
        "*   Sales sum 비율 확인\n",
        "\n"
      ],
      "metadata": {
        "id": "42PxEREtkR1e"
      }
    },
    {
      "cell_type": "code",
      "source": [
        "df.isnull().sum() / len(df)\n",
        "# 결측시 수량 비율이 적으므로 행 삭제도 고려 가능\n",
        "# Year는 sales양으로 비율을 계산해도 영향이 적은지 확인후 행 삭제 고려"
      ],
      "metadata": {
        "colab": {
          "base_uri": "https://localhost:8080/"
        },
        "id": "0I--RFH1gOe1",
        "outputId": "1bd1f59f-67bd-4173-ba59-1763413ea49f"
      },
      "execution_count": 10,
      "outputs": [
        {
          "output_type": "execute_result",
          "data": {
            "text/plain": [
              "Name           0.000000\n",
              "Platform       0.000000\n",
              "Year           0.016327\n",
              "Genre          0.003012\n",
              "Publisher      0.003494\n",
              "NA_Sales       0.000000\n",
              "EU_Sales       0.000000\n",
              "JP_Sales       0.000000\n",
              "Other_Sales    0.000000\n",
              "dtype: float64"
            ]
          },
          "metadata": {},
          "execution_count": 10
        }
      ]
    },
    {
      "cell_type": "code",
      "source": [
        "##null값이 있는 데이터추출, 데이터 확인\n",
        "null_data = df1[df1.isnull().any(axis=1)] "
      ],
      "metadata": {
        "id": "jxJq51hBkg2Q"
      },
      "execution_count": 11,
      "outputs": []
    },
    {
      "cell_type": "code",
      "source": [
        "## Publisher 결측치 처리\n",
        "null_data = null_data.replace({'Publisher': np.nan}, {'Publisher': 'Unknown'}) \n",
        "\n",
        "## Genre 결측치 처리\n",
        "null_data = null_data.replace({'Genre': np.nan}, {'Genre': 'Unknown'}) \n",
        "\n",
        "## Year 결측치 처리 \n",
        "null_data = null_data.replace({'Year': np.nan}, {'Year': 0.0})"
      ],
      "metadata": {
        "id": "1gukS4vIqLSV"
      },
      "execution_count": 12,
      "outputs": []
    },
    {
      "cell_type": "code",
      "source": [
        "#추후 분석에 year와 genre가 많이 사용되는데 계속 미지수로 가져가기 어려움\n",
        "#sales로 분석해도 5%미만 수치로 삭제하고 간다.\n",
        "\n",
        "nc1 = null_data['Genre'] == 'Unknown'\n",
        "df_nc1 = null_data.loc[nc1]\n",
        "df_nc1['Sales_sum'].sum() / df1['Sales_sum'].sum()"
      ],
      "metadata": {
        "colab": {
          "base_uri": "https://localhost:8080/"
        },
        "id": "HGRaC2ZDoLcw",
        "outputId": "9a9cd684-cfbd-43a7-ce22-58718fc6bfb5"
      },
      "execution_count": 13,
      "outputs": [
        {
          "output_type": "execute_result",
          "data": {
            "text/plain": [
              "0.005849133845903643"
            ]
          },
          "metadata": {},
          "execution_count": 13
        }
      ]
    },
    {
      "cell_type": "code",
      "source": [
        "nc2 = null_data['Year'] == 0\n",
        "df_nc2 = null_data.loc[nc2]\n",
        "df_nc2['Sales_sum'].sum() / df1['Sales_sum'].sum()"
      ],
      "metadata": {
        "colab": {
          "base_uri": "https://localhost:8080/"
        },
        "id": "Lg0HhfNIrdF9",
        "outputId": "37dbf504-331f-4199-db9d-9ae41321d105"
      },
      "execution_count": 14,
      "outputs": [
        {
          "output_type": "execute_result",
          "data": {
            "text/plain": [
              "0.011214858931004894"
            ]
          },
          "metadata": {},
          "execution_count": 14
        }
      ]
    },
    {
      "cell_type": "code",
      "source": [
        "## Publisher 결측치 처리\n",
        "#Publisher에는 Unknown이랑 NaN 존재\n",
        "#Unknown도 빈도가 높으므로 이것으로 통일\n",
        "\n",
        "cond1 = df1['Publisher'] == 'Unknown'  \n",
        "df1 = df1.replace({'Publisher': np.nan}, {'Publisher': 'Unknown'}) "
      ],
      "metadata": {
        "id": "XASu2RY-nvvq"
      },
      "execution_count": 15,
      "outputs": []
    },
    {
      "cell_type": "code",
      "source": [
        "## Year, Genre에 있는 결측치는 삭제\n",
        "df_f = df1.loc[df1[['Year','Genre']].dropna(axis=0).index]\n",
        "df_f = df_f.astype({'Year':'int'}) # 연도는 숫자 보기좋게 변경\n",
        "df_f.shape"
      ],
      "metadata": {
        "colab": {
          "base_uri": "https://localhost:8080/"
        },
        "id": "MDF0PVlppOGD",
        "outputId": "e6c1cb0f-e0d2-4b91-d450-5c5a0ae74711"
      },
      "execution_count": 16,
      "outputs": [
        {
          "output_type": "execute_result",
          "data": {
            "text/plain": [
              "(16277, 10)"
            ]
          },
          "metadata": {},
          "execution_count": 16
        }
      ]
    },
    {
      "cell_type": "code",
      "source": [
        "#df_f.isnull().sum() # 처리 확인"
      ],
      "metadata": {
        "id": "5hEwbK_5sa-j"
      },
      "execution_count": null,
      "outputs": []
    },
    {
      "cell_type": "markdown",
      "source": [
        "## 게임 도메인 파악\n",
        "# 1) Genre"
      ],
      "metadata": {
        "id": "I5tF1iqLuJdo"
      }
    },
    {
      "cell_type": "code",
      "source": [
        "print(len(df_f['Genre'].unique()))\n",
        "print(df_f['Genre'].unique())"
      ],
      "metadata": {
        "colab": {
          "base_uri": "https://localhost:8080/"
        },
        "id": "Ic9Kg9GEuNVi",
        "outputId": "d51d1ad6-e82c-4018-fa0e-ae6f72ad0f21"
      },
      "execution_count": 17,
      "outputs": [
        {
          "output_type": "stream",
          "name": "stdout",
          "text": [
            "12\n",
            "['Action' 'Adventure' 'Misc' 'Platform' 'Sports' 'Simulation' 'Racing'\n",
            " 'Role-Playing' 'Puzzle' 'Strategy' 'Fighting' 'Shooter']\n"
          ]
        }
      ]
    },
    {
      "cell_type": "markdown",
      "source": [
        "##2) Platform"
      ],
      "metadata": {
        "id": "gW2Fk3TVu2ul"
      }
    },
    {
      "cell_type": "code",
      "source": [
        "print(len(df_f['Platform'].unique()))\n",
        "print(df_f['Platform'].unique())"
      ],
      "metadata": {
        "colab": {
          "base_uri": "https://localhost:8080/"
        },
        "id": "poplXh8huQb2",
        "outputId": "bff53b50-24c8-4da8-8832-3c24b563e982"
      },
      "execution_count": 18,
      "outputs": [
        {
          "output_type": "stream",
          "name": "stdout",
          "text": [
            "31\n",
            "['DS' 'Wii' 'PSP' 'PS3' 'PC' 'PS' 'GBA' 'PS4' 'PS2' 'XB' 'X360' 'GC' '3DS'\n",
            " '2600' 'SAT' 'GB' 'NES' 'DC' 'N64' 'XOne' 'SNES' 'WiiU' 'PSV' 'GEN' 'SCD'\n",
            " 'WS' 'NG' 'TG16' '3DO' 'GG' 'PCFX']\n"
          ]
        }
      ]
    },
    {
      "cell_type": "markdown",
      "source": [
        "Platform 변수가 많으므로, 모회사 기준으로 묶어서 새로운 변수 생성 (외부데이터 사용)"
      ],
      "metadata": {
        "id": "WgEMPLFivOSX"
      }
    },
    {
      "cell_type": "code",
      "source": [
        "# platform 회사 구분인자 추가\n",
        "company_index = {'NES':'Nintendo', 'SNES':'Nintendo', 'GB':'Nintendo', 'N64':'Nintendo', 'GBA':'Nintendo', 'GC':'Nintendo',\n",
        "                 'DS':'Nintendo', '3DS':'Nintendo', 'Wii':'Nintendo', 'WiiU':'Nintendo',\n",
        "                 'PSP':'Sony', 'PSV':'Sony', 'PS':'Sony', 'PS2':'Sony', 'PS3':'Sony','PS4':'Sony',\n",
        "                 'XB':'Microsoft', 'X360':'Microsoft', 'XOne':'Microsoft',\n",
        "                 '2600':'Atari', 'GEN':'Sega', 'SCD':'Sega','SAT':'Sega','DC':'Sega','GG':'Sega',\n",
        "                 'WS':'Bandai','NG':'SNK','TG16':'Nec', 'PCFX':'Nec', '3DO':'3DO', 'PC':'PC'\n",
        "                 }\n",
        "\n",
        "df_f['Company'] = df_f['Platform'].map(company_index)"
      ],
      "metadata": {
        "id": "r3kJsZVGvMCp"
      },
      "execution_count": 19,
      "outputs": []
    },
    {
      "cell_type": "markdown",
      "source": [
        "게임기의 주요 특징인 가정용/휴대용을 구분하는 변수를 추가"
      ],
      "metadata": {
        "id": "7kQtxCniv3gE"
      }
    },
    {
      "cell_type": "code",
      "source": [
        "# 게임기 대구분 (가정용/ 휴대용)\n",
        "usage_index = {'GB':'portable', 'GBA':'portable', 'DS':'portable', '3DS':'portable', 'PSP':'portable', 'PSV':'portable',\n",
        "               'WS':'portable', 'GG':'portable', 'NES':'family', 'SNES':'family', 'N64':'family', 'GC':'family',\n",
        "               'Wii':'family','WiiU':'family','PS':'family','PS2':'family','PS3':'family','PS4':'family','2600':'family',\n",
        "               'XB':'family','X360':'family','XOne':'family','GEN':'family','SCD':'family','SAT':'family',\n",
        "               'DC':'family', 'NG':'family', 'TG16':'family', 'PCFX':'family', '3DO':'family', 'PC':'family'}\n",
        "\n",
        "df_f['Usage'] = df_f['Platform'].map(usage_index)"
      ],
      "metadata": {
        "id": "bTL0QhAewG_-"
      },
      "execution_count": 20,
      "outputs": []
    },
    {
      "cell_type": "markdown",
      "source": [
        "#3) 연도\n",
        "\n",
        "\n",
        "*   1980년-2017년까지 매년 데이터 수집\n",
        "*   2020년 데이터 존재"
      ],
      "metadata": {
        "id": "zxRjUOpowgOc"
      }
    },
    {
      "cell_type": "code",
      "source": [
        "df_f['Year'].unique()"
      ],
      "metadata": {
        "id": "PZG64iI_lRmv",
        "outputId": "9955b283-8960-4571-d9a6-46e4f1484ca8",
        "colab": {
          "base_uri": "https://localhost:8080/"
        }
      },
      "execution_count": 21,
      "outputs": [
        {
          "output_type": "execute_result",
          "data": {
            "text/plain": [
              "array([2008, 2009, 2010, 2005, 2011, 2007, 2001, 2003, 2006, 2014, 2015,\n",
              "       2002, 1997, 2013, 1996, 2004, 2000, 1984, 1998, 2016, 1985, 1999,\n",
              "       1995, 1993, 2012, 1987, 1982, 1994, 1990, 1992, 1991, 1983, 1988,\n",
              "       1981, 1989, 1986, 2017, 1980, 2020])"
            ]
          },
          "metadata": {},
          "execution_count": 21
        }
      ]
    },
    {
      "cell_type": "markdown",
      "source": [
        "#4) 게임타이틀 (중복데이터 확인)"
      ],
      "metadata": {
        "id": "1UI6kjddlq7m"
      }
    },
    {
      "cell_type": "code",
      "source": [
        "# 동일이름의 게임이 중복된 데이터가 있는지 확인\n",
        "# 중복된 모든 행에 중복 flag(True) 하여 추출\n",
        "\n",
        "dup = df_f.duplicated(['Name'], keep=False) \n",
        "df_dup = pd.concat([df_f, dup], axis=1)\n",
        "\n",
        "df_duponly = df_dup.loc[dup, :]\n",
        "df_duponly.head(1)"
      ],
      "metadata": {
        "id": "ey53UZ-MlxGW",
        "outputId": "4bbaa8d7-2537-4ac9-e3c1-96891bfc00e3",
        "colab": {
          "base_uri": "https://localhost:8080/",
          "height": 81
        }
      },
      "execution_count": 22,
      "outputs": [
        {
          "output_type": "execute_result",
          "data": {
            "text/plain": [
              "                           Name Platform  Year   Genre  Publisher  NA_Sales  \\\n",
              "1  Candace Kane's Candy Factory       DS  2008  Action  Destineer      0.04   \n",
              "\n",
              "   EU_Sales  JP_Sales  Other_Sales  Sales_sum   Company     Usage     0  \n",
              "1       0.0       0.0          0.0       0.04  Nintendo  portable  True  "
            ],
            "text/html": [
              "\n",
              "  <div id=\"df-15980428-0feb-4230-93b1-966a9601022b\">\n",
              "    <div class=\"colab-df-container\">\n",
              "      <div>\n",
              "<style scoped>\n",
              "    .dataframe tbody tr th:only-of-type {\n",
              "        vertical-align: middle;\n",
              "    }\n",
              "\n",
              "    .dataframe tbody tr th {\n",
              "        vertical-align: top;\n",
              "    }\n",
              "\n",
              "    .dataframe thead th {\n",
              "        text-align: right;\n",
              "    }\n",
              "</style>\n",
              "<table border=\"1\" class=\"dataframe\">\n",
              "  <thead>\n",
              "    <tr style=\"text-align: right;\">\n",
              "      <th></th>\n",
              "      <th>Name</th>\n",
              "      <th>Platform</th>\n",
              "      <th>Year</th>\n",
              "      <th>Genre</th>\n",
              "      <th>Publisher</th>\n",
              "      <th>NA_Sales</th>\n",
              "      <th>EU_Sales</th>\n",
              "      <th>JP_Sales</th>\n",
              "      <th>Other_Sales</th>\n",
              "      <th>Sales_sum</th>\n",
              "      <th>Company</th>\n",
              "      <th>Usage</th>\n",
              "      <th>0</th>\n",
              "    </tr>\n",
              "  </thead>\n",
              "  <tbody>\n",
              "    <tr>\n",
              "      <th>1</th>\n",
              "      <td>Candace Kane's Candy Factory</td>\n",
              "      <td>DS</td>\n",
              "      <td>2008</td>\n",
              "      <td>Action</td>\n",
              "      <td>Destineer</td>\n",
              "      <td>0.04</td>\n",
              "      <td>0.0</td>\n",
              "      <td>0.0</td>\n",
              "      <td>0.0</td>\n",
              "      <td>0.04</td>\n",
              "      <td>Nintendo</td>\n",
              "      <td>portable</td>\n",
              "      <td>True</td>\n",
              "    </tr>\n",
              "  </tbody>\n",
              "</table>\n",
              "</div>\n",
              "      <button class=\"colab-df-convert\" onclick=\"convertToInteractive('df-15980428-0feb-4230-93b1-966a9601022b')\"\n",
              "              title=\"Convert this dataframe to an interactive table.\"\n",
              "              style=\"display:none;\">\n",
              "        \n",
              "  <svg xmlns=\"http://www.w3.org/2000/svg\" height=\"24px\"viewBox=\"0 0 24 24\"\n",
              "       width=\"24px\">\n",
              "    <path d=\"M0 0h24v24H0V0z\" fill=\"none\"/>\n",
              "    <path d=\"M18.56 5.44l.94 2.06.94-2.06 2.06-.94-2.06-.94-.94-2.06-.94 2.06-2.06.94zm-11 1L8.5 8.5l.94-2.06 2.06-.94-2.06-.94L8.5 2.5l-.94 2.06-2.06.94zm10 10l.94 2.06.94-2.06 2.06-.94-2.06-.94-.94-2.06-.94 2.06-2.06.94z\"/><path d=\"M17.41 7.96l-1.37-1.37c-.4-.4-.92-.59-1.43-.59-.52 0-1.04.2-1.43.59L10.3 9.45l-7.72 7.72c-.78.78-.78 2.05 0 2.83L4 21.41c.39.39.9.59 1.41.59.51 0 1.02-.2 1.41-.59l7.78-7.78 2.81-2.81c.8-.78.8-2.07 0-2.86zM5.41 20L4 18.59l7.72-7.72 1.47 1.35L5.41 20z\"/>\n",
              "  </svg>\n",
              "      </button>\n",
              "      \n",
              "  <style>\n",
              "    .colab-df-container {\n",
              "      display:flex;\n",
              "      flex-wrap:wrap;\n",
              "      gap: 12px;\n",
              "    }\n",
              "\n",
              "    .colab-df-convert {\n",
              "      background-color: #E8F0FE;\n",
              "      border: none;\n",
              "      border-radius: 50%;\n",
              "      cursor: pointer;\n",
              "      display: none;\n",
              "      fill: #1967D2;\n",
              "      height: 32px;\n",
              "      padding: 0 0 0 0;\n",
              "      width: 32px;\n",
              "    }\n",
              "\n",
              "    .colab-df-convert:hover {\n",
              "      background-color: #E2EBFA;\n",
              "      box-shadow: 0px 1px 2px rgba(60, 64, 67, 0.3), 0px 1px 3px 1px rgba(60, 64, 67, 0.15);\n",
              "      fill: #174EA6;\n",
              "    }\n",
              "\n",
              "    [theme=dark] .colab-df-convert {\n",
              "      background-color: #3B4455;\n",
              "      fill: #D2E3FC;\n",
              "    }\n",
              "\n",
              "    [theme=dark] .colab-df-convert:hover {\n",
              "      background-color: #434B5C;\n",
              "      box-shadow: 0px 1px 3px 1px rgba(0, 0, 0, 0.15);\n",
              "      filter: drop-shadow(0px 1px 2px rgba(0, 0, 0, 0.3));\n",
              "      fill: #FFFFFF;\n",
              "    }\n",
              "  </style>\n",
              "\n",
              "      <script>\n",
              "        const buttonEl =\n",
              "          document.querySelector('#df-15980428-0feb-4230-93b1-966a9601022b button.colab-df-convert');\n",
              "        buttonEl.style.display =\n",
              "          google.colab.kernel.accessAllowed ? 'block' : 'none';\n",
              "\n",
              "        async function convertToInteractive(key) {\n",
              "          const element = document.querySelector('#df-15980428-0feb-4230-93b1-966a9601022b');\n",
              "          const dataTable =\n",
              "            await google.colab.kernel.invokeFunction('convertToInteractive',\n",
              "                                                     [key], {});\n",
              "          if (!dataTable) return;\n",
              "\n",
              "          const docLinkHtml = 'Like what you see? Visit the ' +\n",
              "            '<a target=\"_blank\" href=https://colab.research.google.com/notebooks/data_table.ipynb>data table notebook</a>'\n",
              "            + ' to learn more about interactive tables.';\n",
              "          element.innerHTML = '';\n",
              "          dataTable['output_type'] = 'display_data';\n",
              "          await google.colab.output.renderOutput(dataTable, element);\n",
              "          const docLink = document.createElement('div');\n",
              "          docLink.innerHTML = docLinkHtml;\n",
              "          element.appendChild(docLink);\n",
              "        }\n",
              "      </script>\n",
              "    </div>\n",
              "  </div>\n",
              "  "
            ]
          },
          "metadata": {},
          "execution_count": 22
        }
      ]
    },
    {
      "cell_type": "code",
      "source": [
        "# 수량이나, sales합계로 보나 여러 플랫폼으로 발매한 게임이 절반\n",
        "df_duponly['Sales_sum'].sum() / df_f['Sales_sum'].sum()"
      ],
      "metadata": {
        "id": "fXYt29nXl3Bl",
        "outputId": "1b1c6d82-37a1-4c33-d20c-ac783db62ea4",
        "colab": {
          "base_uri": "https://localhost:8080/"
        }
      },
      "execution_count": 23,
      "outputs": [
        {
          "output_type": "execute_result",
          "data": {
            "text/plain": [
              "0.5234130294133421"
            ]
          },
          "metadata": {},
          "execution_count": 23
        }
      ]
    },
    {
      "cell_type": "code",
      "source": [
        "len(df_duponly) / len(df_f)"
      ],
      "metadata": {
        "id": "BdyTgLN4l7gl",
        "outputId": "d9031bed-7f8d-401c-de60-352cbe764dd9",
        "colab": {
          "base_uri": "https://localhost:8080/"
        }
      },
      "execution_count": 24,
      "outputs": [
        {
          "output_type": "execute_result",
          "data": {
            "text/plain": [
              "0.4705412545309332"
            ]
          },
          "metadata": {},
          "execution_count": 24
        }
      ]
    },
    {
      "cell_type": "code",
      "source": [
        "# 같은제목, 다른 플렛폼으로 발행\n",
        "# 연도로 검색\n",
        "#f1 = df_duponly['Year'] ==2001\n",
        "#df_duponly.loc[f1]"
      ],
      "metadata": {
        "id": "_xCUHWFml_nV"
      },
      "execution_count": null,
      "outputs": []
    },
    {
      "cell_type": "code",
      "source": [
        "# 같은제목, 다른 플렛폼으로 발행\n",
        "# 이름으로 검색\n",
        "#f2 = df_duponly['Name'] == 'Final Fantasy V' \n",
        "#df_duponly.loc[f2]"
      ],
      "metadata": {
        "id": "M2X4W4HfmDQu"
      },
      "execution_count": null,
      "outputs": []
    },
    {
      "cell_type": "code",
      "source": [
        "# 같은제목, 다른 플렛폼으로 발행\n",
        "# 이름으로 검색\n",
        "com_sales = pd.pivot_table(df_duponly,index='Company', columns='Year', values='Sales_sum', aggfunc=np.sum, margins=True)\n",
        "com_sales = com_sales.fillna(0)"
      ],
      "metadata": {
        "id": "3hib3fw4mN23"
      },
      "execution_count": 26,
      "outputs": []
    },
    {
      "cell_type": "markdown",
      "source": [
        "##[2] 탐색적 데이터분석 (연관관계 파악) "
      ],
      "metadata": {
        "id": "NvH2Yd1FlXsO"
      }
    },
    {
      "cell_type": "code",
      "source": [
        "# 전체 연도별 매출\n",
        "dup_sales = pd.pivot_table(df_f, index='Name', columns='Year', values='Sales_sum', aggfunc=np.sum, margins=True)\n",
        "dup_sales.fillna(0, inplace=True)\n",
        "dup_sales.tail(1)"
      ],
      "metadata": {
        "id": "2CH1sBN_lcp-",
        "outputId": "fdb8fa18-6a3e-409d-f836-a512bdb1f39d",
        "colab": {
          "base_uri": "https://localhost:8080/",
          "height": 141
        }
      },
      "execution_count": 25,
      "outputs": [
        {
          "output_type": "execute_result",
          "data": {
            "text/plain": [
              "Year   1980   1981   1982  1983   1984   1985   1986  1987   1988   1989  ...  \\\n",
              "Name                                                                      ...   \n",
              "All   10.88  35.68  28.88  16.8  50.35  53.95  37.08  21.7  47.21  73.45  ...   \n",
              "\n",
              "Year    2010    2011    2012    2013   2014    2015   2016  2017  2020  \\\n",
              "Name                                                                     \n",
              "All   591.31  515.04  362.11  353.63  337.1  261.83  70.87  0.05  0.29   \n",
              "\n",
              "Year      All  \n",
              "Name           \n",
              "All   8763.71  \n",
              "\n",
              "[1 rows x 40 columns]"
            ],
            "text/html": [
              "\n",
              "  <div id=\"df-67141d85-953f-427d-941c-ffb4f75214e0\">\n",
              "    <div class=\"colab-df-container\">\n",
              "      <div>\n",
              "<style scoped>\n",
              "    .dataframe tbody tr th:only-of-type {\n",
              "        vertical-align: middle;\n",
              "    }\n",
              "\n",
              "    .dataframe tbody tr th {\n",
              "        vertical-align: top;\n",
              "    }\n",
              "\n",
              "    .dataframe thead th {\n",
              "        text-align: right;\n",
              "    }\n",
              "</style>\n",
              "<table border=\"1\" class=\"dataframe\">\n",
              "  <thead>\n",
              "    <tr style=\"text-align: right;\">\n",
              "      <th>Year</th>\n",
              "      <th>1980</th>\n",
              "      <th>1981</th>\n",
              "      <th>1982</th>\n",
              "      <th>1983</th>\n",
              "      <th>1984</th>\n",
              "      <th>1985</th>\n",
              "      <th>1986</th>\n",
              "      <th>1987</th>\n",
              "      <th>1988</th>\n",
              "      <th>1989</th>\n",
              "      <th>...</th>\n",
              "      <th>2010</th>\n",
              "      <th>2011</th>\n",
              "      <th>2012</th>\n",
              "      <th>2013</th>\n",
              "      <th>2014</th>\n",
              "      <th>2015</th>\n",
              "      <th>2016</th>\n",
              "      <th>2017</th>\n",
              "      <th>2020</th>\n",
              "      <th>All</th>\n",
              "    </tr>\n",
              "    <tr>\n",
              "      <th>Name</th>\n",
              "      <th></th>\n",
              "      <th></th>\n",
              "      <th></th>\n",
              "      <th></th>\n",
              "      <th></th>\n",
              "      <th></th>\n",
              "      <th></th>\n",
              "      <th></th>\n",
              "      <th></th>\n",
              "      <th></th>\n",
              "      <th></th>\n",
              "      <th></th>\n",
              "      <th></th>\n",
              "      <th></th>\n",
              "      <th></th>\n",
              "      <th></th>\n",
              "      <th></th>\n",
              "      <th></th>\n",
              "      <th></th>\n",
              "      <th></th>\n",
              "      <th></th>\n",
              "    </tr>\n",
              "  </thead>\n",
              "  <tbody>\n",
              "    <tr>\n",
              "      <th>All</th>\n",
              "      <td>10.88</td>\n",
              "      <td>35.68</td>\n",
              "      <td>28.88</td>\n",
              "      <td>16.8</td>\n",
              "      <td>50.35</td>\n",
              "      <td>53.95</td>\n",
              "      <td>37.08</td>\n",
              "      <td>21.7</td>\n",
              "      <td>47.21</td>\n",
              "      <td>73.45</td>\n",
              "      <td>...</td>\n",
              "      <td>591.31</td>\n",
              "      <td>515.04</td>\n",
              "      <td>362.11</td>\n",
              "      <td>353.63</td>\n",
              "      <td>337.1</td>\n",
              "      <td>261.83</td>\n",
              "      <td>70.87</td>\n",
              "      <td>0.05</td>\n",
              "      <td>0.29</td>\n",
              "      <td>8763.71</td>\n",
              "    </tr>\n",
              "  </tbody>\n",
              "</table>\n",
              "<p>1 rows × 40 columns</p>\n",
              "</div>\n",
              "      <button class=\"colab-df-convert\" onclick=\"convertToInteractive('df-67141d85-953f-427d-941c-ffb4f75214e0')\"\n",
              "              title=\"Convert this dataframe to an interactive table.\"\n",
              "              style=\"display:none;\">\n",
              "        \n",
              "  <svg xmlns=\"http://www.w3.org/2000/svg\" height=\"24px\"viewBox=\"0 0 24 24\"\n",
              "       width=\"24px\">\n",
              "    <path d=\"M0 0h24v24H0V0z\" fill=\"none\"/>\n",
              "    <path d=\"M18.56 5.44l.94 2.06.94-2.06 2.06-.94-2.06-.94-.94-2.06-.94 2.06-2.06.94zm-11 1L8.5 8.5l.94-2.06 2.06-.94-2.06-.94L8.5 2.5l-.94 2.06-2.06.94zm10 10l.94 2.06.94-2.06 2.06-.94-2.06-.94-.94-2.06-.94 2.06-2.06.94z\"/><path d=\"M17.41 7.96l-1.37-1.37c-.4-.4-.92-.59-1.43-.59-.52 0-1.04.2-1.43.59L10.3 9.45l-7.72 7.72c-.78.78-.78 2.05 0 2.83L4 21.41c.39.39.9.59 1.41.59.51 0 1.02-.2 1.41-.59l7.78-7.78 2.81-2.81c.8-.78.8-2.07 0-2.86zM5.41 20L4 18.59l7.72-7.72 1.47 1.35L5.41 20z\"/>\n",
              "  </svg>\n",
              "      </button>\n",
              "      \n",
              "  <style>\n",
              "    .colab-df-container {\n",
              "      display:flex;\n",
              "      flex-wrap:wrap;\n",
              "      gap: 12px;\n",
              "    }\n",
              "\n",
              "    .colab-df-convert {\n",
              "      background-color: #E8F0FE;\n",
              "      border: none;\n",
              "      border-radius: 50%;\n",
              "      cursor: pointer;\n",
              "      display: none;\n",
              "      fill: #1967D2;\n",
              "      height: 32px;\n",
              "      padding: 0 0 0 0;\n",
              "      width: 32px;\n",
              "    }\n",
              "\n",
              "    .colab-df-convert:hover {\n",
              "      background-color: #E2EBFA;\n",
              "      box-shadow: 0px 1px 2px rgba(60, 64, 67, 0.3), 0px 1px 3px 1px rgba(60, 64, 67, 0.15);\n",
              "      fill: #174EA6;\n",
              "    }\n",
              "\n",
              "    [theme=dark] .colab-df-convert {\n",
              "      background-color: #3B4455;\n",
              "      fill: #D2E3FC;\n",
              "    }\n",
              "\n",
              "    [theme=dark] .colab-df-convert:hover {\n",
              "      background-color: #434B5C;\n",
              "      box-shadow: 0px 1px 3px 1px rgba(0, 0, 0, 0.15);\n",
              "      filter: drop-shadow(0px 1px 2px rgba(0, 0, 0, 0.3));\n",
              "      fill: #FFFFFF;\n",
              "    }\n",
              "  </style>\n",
              "\n",
              "      <script>\n",
              "        const buttonEl =\n",
              "          document.querySelector('#df-67141d85-953f-427d-941c-ffb4f75214e0 button.colab-df-convert');\n",
              "        buttonEl.style.display =\n",
              "          google.colab.kernel.accessAllowed ? 'block' : 'none';\n",
              "\n",
              "        async function convertToInteractive(key) {\n",
              "          const element = document.querySelector('#df-67141d85-953f-427d-941c-ffb4f75214e0');\n",
              "          const dataTable =\n",
              "            await google.colab.kernel.invokeFunction('convertToInteractive',\n",
              "                                                     [key], {});\n",
              "          if (!dataTable) return;\n",
              "\n",
              "          const docLinkHtml = 'Like what you see? Visit the ' +\n",
              "            '<a target=\"_blank\" href=https://colab.research.google.com/notebooks/data_table.ipynb>data table notebook</a>'\n",
              "            + ' to learn more about interactive tables.';\n",
              "          element.innerHTML = '';\n",
              "          dataTable['output_type'] = 'display_data';\n",
              "          await google.colab.output.renderOutput(dataTable, element);\n",
              "          const docLink = document.createElement('div');\n",
              "          docLink.innerHTML = docLinkHtml;\n",
              "          element.appendChild(docLink);\n",
              "        }\n",
              "      </script>\n",
              "    </div>\n",
              "  </div>\n",
              "  "
            ]
          },
          "metadata": {},
          "execution_count": 25
        }
      ]
    },
    {
      "cell_type": "code",
      "source": [
        "# 여러 플랫폼 출시된 게임의 연도별 매출\n",
        "dup_sales2 = pd.pivot_table(df_duponly, index='Name', columns='Year', values='Sales_sum', aggfunc=np.sum, margins=True)\n",
        "dup_sales2.fillna(0, inplace=True)\n",
        "dup_sales2.tail(1)"
      ],
      "metadata": {
        "id": "5864zX6LmgpD",
        "outputId": "1ea12a65-9b00-42a4-85bd-10a271641e38",
        "colab": {
          "base_uri": "https://localhost:8080/",
          "height": 141
        }
      },
      "execution_count": 26,
      "outputs": [
        {
          "output_type": "execute_result",
          "data": {
            "text/plain": [
              "Year  1980  1981   1982  1983  1984   1985  1986  1987   1988   1989  ...  \\\n",
              "Name                                                                  ...   \n",
              "All   8.89  5.94  12.79  7.71  8.49  41.68  4.58   1.3  28.95  47.16  ...   \n",
              "\n",
              "Year    2009    2010    2011    2012    2013    2014    2015  2016  2017  \\\n",
              "Name                                                                       \n",
              "All   371.47  351.44  341.84  245.11  277.36  272.78  199.29  53.0  0.04   \n",
              "\n",
              "Year      All  \n",
              "Name           \n",
              "All   4587.04  \n",
              "\n",
              "[1 rows x 39 columns]"
            ],
            "text/html": [
              "\n",
              "  <div id=\"df-28e4e30b-7e79-46bb-ae6e-ea8495c582bf\">\n",
              "    <div class=\"colab-df-container\">\n",
              "      <div>\n",
              "<style scoped>\n",
              "    .dataframe tbody tr th:only-of-type {\n",
              "        vertical-align: middle;\n",
              "    }\n",
              "\n",
              "    .dataframe tbody tr th {\n",
              "        vertical-align: top;\n",
              "    }\n",
              "\n",
              "    .dataframe thead th {\n",
              "        text-align: right;\n",
              "    }\n",
              "</style>\n",
              "<table border=\"1\" class=\"dataframe\">\n",
              "  <thead>\n",
              "    <tr style=\"text-align: right;\">\n",
              "      <th>Year</th>\n",
              "      <th>1980</th>\n",
              "      <th>1981</th>\n",
              "      <th>1982</th>\n",
              "      <th>1983</th>\n",
              "      <th>1984</th>\n",
              "      <th>1985</th>\n",
              "      <th>1986</th>\n",
              "      <th>1987</th>\n",
              "      <th>1988</th>\n",
              "      <th>1989</th>\n",
              "      <th>...</th>\n",
              "      <th>2009</th>\n",
              "      <th>2010</th>\n",
              "      <th>2011</th>\n",
              "      <th>2012</th>\n",
              "      <th>2013</th>\n",
              "      <th>2014</th>\n",
              "      <th>2015</th>\n",
              "      <th>2016</th>\n",
              "      <th>2017</th>\n",
              "      <th>All</th>\n",
              "    </tr>\n",
              "    <tr>\n",
              "      <th>Name</th>\n",
              "      <th></th>\n",
              "      <th></th>\n",
              "      <th></th>\n",
              "      <th></th>\n",
              "      <th></th>\n",
              "      <th></th>\n",
              "      <th></th>\n",
              "      <th></th>\n",
              "      <th></th>\n",
              "      <th></th>\n",
              "      <th></th>\n",
              "      <th></th>\n",
              "      <th></th>\n",
              "      <th></th>\n",
              "      <th></th>\n",
              "      <th></th>\n",
              "      <th></th>\n",
              "      <th></th>\n",
              "      <th></th>\n",
              "      <th></th>\n",
              "      <th></th>\n",
              "    </tr>\n",
              "  </thead>\n",
              "  <tbody>\n",
              "    <tr>\n",
              "      <th>All</th>\n",
              "      <td>8.89</td>\n",
              "      <td>5.94</td>\n",
              "      <td>12.79</td>\n",
              "      <td>7.71</td>\n",
              "      <td>8.49</td>\n",
              "      <td>41.68</td>\n",
              "      <td>4.58</td>\n",
              "      <td>1.3</td>\n",
              "      <td>28.95</td>\n",
              "      <td>47.16</td>\n",
              "      <td>...</td>\n",
              "      <td>371.47</td>\n",
              "      <td>351.44</td>\n",
              "      <td>341.84</td>\n",
              "      <td>245.11</td>\n",
              "      <td>277.36</td>\n",
              "      <td>272.78</td>\n",
              "      <td>199.29</td>\n",
              "      <td>53.0</td>\n",
              "      <td>0.04</td>\n",
              "      <td>4587.04</td>\n",
              "    </tr>\n",
              "  </tbody>\n",
              "</table>\n",
              "<p>1 rows × 39 columns</p>\n",
              "</div>\n",
              "      <button class=\"colab-df-convert\" onclick=\"convertToInteractive('df-28e4e30b-7e79-46bb-ae6e-ea8495c582bf')\"\n",
              "              title=\"Convert this dataframe to an interactive table.\"\n",
              "              style=\"display:none;\">\n",
              "        \n",
              "  <svg xmlns=\"http://www.w3.org/2000/svg\" height=\"24px\"viewBox=\"0 0 24 24\"\n",
              "       width=\"24px\">\n",
              "    <path d=\"M0 0h24v24H0V0z\" fill=\"none\"/>\n",
              "    <path d=\"M18.56 5.44l.94 2.06.94-2.06 2.06-.94-2.06-.94-.94-2.06-.94 2.06-2.06.94zm-11 1L8.5 8.5l.94-2.06 2.06-.94-2.06-.94L8.5 2.5l-.94 2.06-2.06.94zm10 10l.94 2.06.94-2.06 2.06-.94-2.06-.94-.94-2.06-.94 2.06-2.06.94z\"/><path d=\"M17.41 7.96l-1.37-1.37c-.4-.4-.92-.59-1.43-.59-.52 0-1.04.2-1.43.59L10.3 9.45l-7.72 7.72c-.78.78-.78 2.05 0 2.83L4 21.41c.39.39.9.59 1.41.59.51 0 1.02-.2 1.41-.59l7.78-7.78 2.81-2.81c.8-.78.8-2.07 0-2.86zM5.41 20L4 18.59l7.72-7.72 1.47 1.35L5.41 20z\"/>\n",
              "  </svg>\n",
              "      </button>\n",
              "      \n",
              "  <style>\n",
              "    .colab-df-container {\n",
              "      display:flex;\n",
              "      flex-wrap:wrap;\n",
              "      gap: 12px;\n",
              "    }\n",
              "\n",
              "    .colab-df-convert {\n",
              "      background-color: #E8F0FE;\n",
              "      border: none;\n",
              "      border-radius: 50%;\n",
              "      cursor: pointer;\n",
              "      display: none;\n",
              "      fill: #1967D2;\n",
              "      height: 32px;\n",
              "      padding: 0 0 0 0;\n",
              "      width: 32px;\n",
              "    }\n",
              "\n",
              "    .colab-df-convert:hover {\n",
              "      background-color: #E2EBFA;\n",
              "      box-shadow: 0px 1px 2px rgba(60, 64, 67, 0.3), 0px 1px 3px 1px rgba(60, 64, 67, 0.15);\n",
              "      fill: #174EA6;\n",
              "    }\n",
              "\n",
              "    [theme=dark] .colab-df-convert {\n",
              "      background-color: #3B4455;\n",
              "      fill: #D2E3FC;\n",
              "    }\n",
              "\n",
              "    [theme=dark] .colab-df-convert:hover {\n",
              "      background-color: #434B5C;\n",
              "      box-shadow: 0px 1px 3px 1px rgba(0, 0, 0, 0.15);\n",
              "      filter: drop-shadow(0px 1px 2px rgba(0, 0, 0, 0.3));\n",
              "      fill: #FFFFFF;\n",
              "    }\n",
              "  </style>\n",
              "\n",
              "      <script>\n",
              "        const buttonEl =\n",
              "          document.querySelector('#df-28e4e30b-7e79-46bb-ae6e-ea8495c582bf button.colab-df-convert');\n",
              "        buttonEl.style.display =\n",
              "          google.colab.kernel.accessAllowed ? 'block' : 'none';\n",
              "\n",
              "        async function convertToInteractive(key) {\n",
              "          const element = document.querySelector('#df-28e4e30b-7e79-46bb-ae6e-ea8495c582bf');\n",
              "          const dataTable =\n",
              "            await google.colab.kernel.invokeFunction('convertToInteractive',\n",
              "                                                     [key], {});\n",
              "          if (!dataTable) return;\n",
              "\n",
              "          const docLinkHtml = 'Like what you see? Visit the ' +\n",
              "            '<a target=\"_blank\" href=https://colab.research.google.com/notebooks/data_table.ipynb>data table notebook</a>'\n",
              "            + ' to learn more about interactive tables.';\n",
              "          element.innerHTML = '';\n",
              "          dataTable['output_type'] = 'display_data';\n",
              "          await google.colab.output.renderOutput(dataTable, element);\n",
              "          const docLink = document.createElement('div');\n",
              "          docLink.innerHTML = docLinkHtml;\n",
              "          element.appendChild(docLink);\n",
              "        }\n",
              "      </script>\n",
              "    </div>\n",
              "  </div>\n",
              "  "
            ]
          },
          "metadata": {},
          "execution_count": 26
        }
      ]
    },
    {
      "cell_type": "code",
      "source": [
        "# 장르별 출시된 게임 종류 (중복제거, count)\n",
        "game_n = df_f.drop_duplicates('Name')"
      ],
      "metadata": {
        "id": "lMTZcGn1ml8U"
      },
      "execution_count": 27,
      "outputs": []
    },
    {
      "cell_type": "code",
      "source": [
        "game_n.shape"
      ],
      "metadata": {
        "id": "H0dn9T9Omozu",
        "outputId": "d4b47a35-9ad6-43d3-800c-784a6b2fb046",
        "colab": {
          "base_uri": "https://localhost:8080/"
        }
      },
      "execution_count": 28,
      "outputs": [
        {
          "output_type": "execute_result",
          "data": {
            "text/plain": [
              "(11330, 12)"
            ]
          },
          "metadata": {},
          "execution_count": 28
        }
      ]
    },
    {
      "cell_type": "code",
      "source": [
        "# 장르별 총매출, 평균매출\n",
        "genre_index = game_n['Genre'].value_counts().sort_values(ascending=False)\n",
        "genre_sum = df_f.groupby('Genre')['Sales_sum'].sum()\n",
        "\n",
        "# x축에 맞춰서 df 만들어서 진행\n",
        "genre_reorder = pd.DataFrame({'Genre': ['Action', 'Sports', 'Misc', \n",
        "                                       'Role-Playing', 'Adventure', 'Shooter',\n",
        "                                       'Racing', 'Simulation', 'Fighting', \n",
        "                                       'Platform', 'Strategy', 'Puzzle'], \n",
        "                             'Sales_sum' : [1713.02, 1305.34,  787.41,\n",
        "                                            901.52, 234.22, 1024.75,\n",
        "                                            722.56, 389.46, 443.54,\n",
        "                                            828.01, 173.14, 240.74]})"
      ],
      "metadata": {
        "id": "uqn9EwhsmtcV"
      },
      "execution_count": 29,
      "outputs": []
    },
    {
      "cell_type": "code",
      "source": [
        "plt.rcParams['figure.figsize'] = (15, 5)\n",
        "\n",
        "fig, ax1 = plt.subplots() #이중축 그래프 그리기\n",
        "ax2 = ax1.twinx()\n",
        "\n",
        "ax1.bar(game_n['Genre'].value_counts().index, game_n['Genre'].value_counts(), color='C0', alpha=0.5, label='Game qty')\n",
        "ax2.plot(genre_reorder['Genre'], genre_reorder['Sales_sum'], '-s', color='deeppink', markersize=3, label='Sales sum')\n",
        "\n",
        "ax1.set_ylabel('Number of games')\n",
        "ax2.set_ylabel('Sum of Sales (M)')\n",
        "\n",
        "ax1.legend(loc=(0.8,0.1))\n",
        "ax2.legend(loc=(0.8,0.5))\n",
        "\n",
        "plt.show()"
      ],
      "metadata": {
        "id": "aRVZGyCfm3s7",
        "outputId": "5d6eae83-2344-4a35-ca61-1cb58aef848c",
        "colab": {
          "base_uri": "https://localhost:8080/",
          "height": 320
        }
      },
      "execution_count": 30,
      "outputs": [
        {
          "output_type": "display_data",
          "data": {
            "text/plain": [
              "<Figure size 1080x360 with 2 Axes>"
            ],
            "image/png": "[encoded data removed]"
          },
          "metadata": {
            "needs_background": "light"
          }
        }
      ]
    },
    {
      "cell_type": "markdown",
      "source": [
        "# 장르별 게임 판매동향\n",
        "\n",
        "\n",
        "\n",
        "*   **Action**이 발매된 게임 종류도 가장 많고, 총 판매량도 가장 많다.\n",
        "*   **Shooter**와 **Platform**은 상대적으로 발매된 게임 종류에 비해 총 판매량이 높은편이다.\n",
        "*   **Adventrue**는 상대적으로 발매된 게임 종류에 비해 총 판매량이 낮은편이다."
      ],
      "metadata": {
        "id": "6z8kbStxnBE1"
      }
    },
    {
      "cell_type": "code",
      "source": [
        "df_f.groupby('Genre')[['NA_Sales', 'EU_Sales', 'JP_Sales', 'Other_Sales']].sum().plot.bar(figsize=(15,5))\n",
        "plt.xticks(rotation=0)\n",
        "plt.ylabel('Sum of Sales (M)');"
      ],
      "metadata": {
        "id": "UVSMO4RenPZD",
        "outputId": "dbf14b29-56ee-483b-9de8-1feccce52e4a",
        "colab": {
          "base_uri": "https://localhost:8080/",
          "height": 334
        }
      },
      "execution_count": 31,
      "outputs": [
        {
          "output_type": "display_data",
          "data": {
            "text/plain": [
              "<Figure size 1080x360 with 1 Axes>"
            ],
            "image/png": "[encoded data removed]"
          },
          "metadata": {
            "needs_background": "light"
          }
        }
      ]
    },
    {
      "cell_type": "markdown",
      "source": [
        "대부분 장르가 **북미**지역에서 판매가 가장 많지만, **Role-Playing**이 **일본**판매량이 높은 것과 같이 지역에 따라 다른 판매동향이 보이기도 한다."
      ],
      "metadata": {
        "id": "dXAeDJBinrN8"
      }
    },
    {
      "cell_type": "code",
      "source": [
        "# 히트맵 그래프 : 두개의 범주형변수(장르/국가)에 대한 매출을 시각화\n",
        "\n",
        "plt.figure(figsize=(10,5))\n",
        "plt.title('Sales_Sum', fontsize=20)\n",
        "region= df_f[['Genre', 'NA_Sales', 'EU_Sales', 'JP_Sales', 'Other_Sales']]\n",
        "sns.heatmap(region.groupby('Genre').sum(),annot=True, fmt='.0f', cmap='YlGnBu');"
      ],
      "metadata": {
        "id": "Ty7Bg0fnoHTi",
        "outputId": "349bb1d4-80c5-45ad-ea25-4203252be7aa",
        "colab": {
          "base_uri": "https://localhost:8080/",
          "height": 342
        }
      },
      "execution_count": 32,
      "outputs": [
        {
          "output_type": "display_data",
          "data": {
            "text/plain": [
              "<Figure size 720x360 with 2 Axes>"
            ],
            "image/png": "[encoded data removed]"
          },
          "metadata": {
            "needs_background": "light"
          }
        }
      ]
    },
    {
      "cell_type": "markdown",
      "source": [
        "국가별 장르에 따른 매출현황을 보면, \n",
        "\n",
        "\n",
        "*   북미 : 판매량은 Action, Sports, Shooter이 높지만 Shooter와 Platform의 판매량 차이가 더 유의미하다.\n",
        "(**Shooter**:  Duck Hunt, Call of Duty / **Platform**:  Super Mario)\n",
        "\n",
        "*   유럽 : 북미와 유사한 경향으로, Action, Sports, Shooter에서 판매량이 높다. Shooter와 Racing의 판매량이 유의미하다.\n",
        "(**Racing**:  Mario Kart, Gran Turismo)\n",
        "\n",
        "*   일본 : 특이하게 **Role-Playing**장르 매출이 높다.\n",
        "(**Role-Playing**:  Pokemon, Final Fantasy)\n",
        "\n",
        "*   그외 : 북미,유럽과 비슷한 판매경향을 보이지만 매출양이 적다."
      ],
      "metadata": {
        "id": "eBnr22BGnuG5"
      }
    },
    {
      "cell_type": "markdown",
      "source": [
        "## 지역별 판매량 통계적 검증\n",
        "\n",
        "* ANOVA를 위한 정규성, 등분산성 검정\n",
        "* One-way(독립변수1개) ANOVA(분산분석)  \n",
        "    * 종속변수 (연속형): 매출  \n",
        "    * 독립변수 (범주형): 장르 (매출top 5)   "
      ],
      "metadata": {
        "id": "SxEgDmyCp77f"
      }
    },
    {
      "cell_type": "markdown",
      "source": [
        "1) 북미"
      ],
      "metadata": {
        "id": "Xc1nAVqkqKwd"
      }
    },
    {
      "cell_type": "code",
      "source": [
        "# 정규성 검정(Kolmogorov-Smirnov test, 표본 2000개 이상)\n",
        "# 귀무가설: 정규분포를 따른다\n",
        "# pvalue < 0.05, 귀무가설을 기각하지 않는다\n",
        "\n",
        "stats.kstest(df_f['NA_Sales'], 'norm')"
      ],
      "metadata": {
        "id": "XPtsIUSXogzd",
        "outputId": "8873d3c8-58c0-4d14-88dd-4971d65bacac",
        "colab": {
          "base_uri": "https://localhost:8080/"
        }
      },
      "execution_count": 33,
      "outputs": [
        {
          "output_type": "execute_result",
          "data": {
            "text/plain": [
              "KstestResult(statistic=0.5, pvalue=0.0)"
            ]
          },
          "metadata": {},
          "execution_count": 33
        }
      ]
    },
    {
      "cell_type": "code",
      "source": [
        "df_f[['NA_Sales','Genre']].groupby('Genre').sum().sort_values(by='NA_Sales',ascending=False).head(5)"
      ],
      "metadata": {
        "id": "Fe7Myg9AZJtw",
        "outputId": "dff76adb-e8f6-47dd-eedd-4d87833fcd35",
        "colab": {
          "base_uri": "https://localhost:8080/",
          "height": 237
        }
      },
      "execution_count": 34,
      "outputs": [
        {
          "output_type": "execute_result",
          "data": {
            "text/plain": [
              "          NA_Sales\n",
              "Genre             \n",
              "Action      858.78\n",
              "Sports      667.26\n",
              "Shooter     574.48\n",
              "Platform    445.38\n",
              "Misc        400.29"
            ],
            "text/html": [
              "\n",
              "  <div id=\"df-4688f876-cf58-4115-9d55-54fae4779217\">\n",
              "    <div class=\"colab-df-container\">\n",
              "      <div>\n",
              "<style scoped>\n",
              "    .dataframe tbody tr th:only-of-type {\n",
              "        vertical-align: middle;\n",
              "    }\n",
              "\n",
              "    .dataframe tbody tr th {\n",
              "        vertical-align: top;\n",
              "    }\n",
              "\n",
              "    .dataframe thead th {\n",
              "        text-align: right;\n",
              "    }\n",
              "</style>\n",
              "<table border=\"1\" class=\"dataframe\">\n",
              "  <thead>\n",
              "    <tr style=\"text-align: right;\">\n",
              "      <th></th>\n",
              "      <th>NA_Sales</th>\n",
              "    </tr>\n",
              "    <tr>\n",
              "      <th>Genre</th>\n",
              "      <th></th>\n",
              "    </tr>\n",
              "  </thead>\n",
              "  <tbody>\n",
              "    <tr>\n",
              "      <th>Action</th>\n",
              "      <td>858.78</td>\n",
              "    </tr>\n",
              "    <tr>\n",
              "      <th>Sports</th>\n",
              "      <td>667.26</td>\n",
              "    </tr>\n",
              "    <tr>\n",
              "      <th>Shooter</th>\n",
              "      <td>574.48</td>\n",
              "    </tr>\n",
              "    <tr>\n",
              "      <th>Platform</th>\n",
              "      <td>445.38</td>\n",
              "    </tr>\n",
              "    <tr>\n",
              "      <th>Misc</th>\n",
              "      <td>400.29</td>\n",
              "    </tr>\n",
              "  </tbody>\n",
              "</table>\n",
              "</div>\n",
              "      <button class=\"colab-df-convert\" onclick=\"convertToInteractive('df-4688f876-cf58-4115-9d55-54fae4779217')\"\n",
              "              title=\"Convert this dataframe to an interactive table.\"\n",
              "              style=\"display:none;\">\n",
              "        \n",
              "  <svg xmlns=\"http://www.w3.org/2000/svg\" height=\"24px\"viewBox=\"0 0 24 24\"\n",
              "       width=\"24px\">\n",
              "    <path d=\"M0 0h24v24H0V0z\" fill=\"none\"/>\n",
              "    <path d=\"M18.56 5.44l.94 2.06.94-2.06 2.06-.94-2.06-.94-.94-2.06-.94 2.06-2.06.94zm-11 1L8.5 8.5l.94-2.06 2.06-.94-2.06-.94L8.5 2.5l-.94 2.06-2.06.94zm10 10l.94 2.06.94-2.06 2.06-.94-2.06-.94-.94-2.06-.94 2.06-2.06.94z\"/><path d=\"M17.41 7.96l-1.37-1.37c-.4-.4-.92-.59-1.43-.59-.52 0-1.04.2-1.43.59L10.3 9.45l-7.72 7.72c-.78.78-.78 2.05 0 2.83L4 21.41c.39.39.9.59 1.41.59.51 0 1.02-.2 1.41-.59l7.78-7.78 2.81-2.81c.8-.78.8-2.07 0-2.86zM5.41 20L4 18.59l7.72-7.72 1.47 1.35L5.41 20z\"/>\n",
              "  </svg>\n",
              "      </button>\n",
              "      \n",
              "  <style>\n",
              "    .colab-df-container {\n",
              "      display:flex;\n",
              "      flex-wrap:wrap;\n",
              "      gap: 12px;\n",
              "    }\n",
              "\n",
              "    .colab-df-convert {\n",
              "      background-color: #E8F0FE;\n",
              "      border: none;\n",
              "      border-radius: 50%;\n",
              "      cursor: pointer;\n",
              "      display: none;\n",
              "      fill: #1967D2;\n",
              "      height: 32px;\n",
              "      padding: 0 0 0 0;\n",
              "      width: 32px;\n",
              "    }\n",
              "\n",
              "    .colab-df-convert:hover {\n",
              "      background-color: #E2EBFA;\n",
              "      box-shadow: 0px 1px 2px rgba(60, 64, 67, 0.3), 0px 1px 3px 1px rgba(60, 64, 67, 0.15);\n",
              "      fill: #174EA6;\n",
              "    }\n",
              "\n",
              "    [theme=dark] .colab-df-convert {\n",
              "      background-color: #3B4455;\n",
              "      fill: #D2E3FC;\n",
              "    }\n",
              "\n",
              "    [theme=dark] .colab-df-convert:hover {\n",
              "      background-color: #434B5C;\n",
              "      box-shadow: 0px 1px 3px 1px rgba(0, 0, 0, 0.15);\n",
              "      filter: drop-shadow(0px 1px 2px rgba(0, 0, 0, 0.3));\n",
              "      fill: #FFFFFF;\n",
              "    }\n",
              "  </style>\n",
              "\n",
              "      <script>\n",
              "        const buttonEl =\n",
              "          document.querySelector('#df-4688f876-cf58-4115-9d55-54fae4779217 button.colab-df-convert');\n",
              "        buttonEl.style.display =\n",
              "          google.colab.kernel.accessAllowed ? 'block' : 'none';\n",
              "\n",
              "        async function convertToInteractive(key) {\n",
              "          const element = document.querySelector('#df-4688f876-cf58-4115-9d55-54fae4779217');\n",
              "          const dataTable =\n",
              "            await google.colab.kernel.invokeFunction('convertToInteractive',\n",
              "                                                     [key], {});\n",
              "          if (!dataTable) return;\n",
              "\n",
              "          const docLinkHtml = 'Like what you see? Visit the ' +\n",
              "            '<a target=\"_blank\" href=https://colab.research.google.com/notebooks/data_table.ipynb>data table notebook</a>'\n",
              "            + ' to learn more about interactive tables.';\n",
              "          element.innerHTML = '';\n",
              "          dataTable['output_type'] = 'display_data';\n",
              "          await google.colab.output.renderOutput(dataTable, element);\n",
              "          const docLink = document.createElement('div');\n",
              "          docLink.innerHTML = docLinkHtml;\n",
              "          element.appendChild(docLink);\n",
              "        }\n",
              "      </script>\n",
              "    </div>\n",
              "  </div>\n",
              "  "
            ]
          },
          "metadata": {},
          "execution_count": 34
        }
      ]
    },
    {
      "cell_type": "code",
      "source": [
        "# 등분산성 검정 (bartlett, Levene test)\n",
        "# 귀무가설: 분산이 같다\n",
        "# pvalue < 0.05로 분산이 유의미하게 다르다\n",
        "\n",
        "NA_genre = ['Action', 'Sports', 'Shooter', 'Platform', 'Misc']\n",
        "\n",
        "d_0 = df_f.loc[df_f['Genre']==NA_genre[0], 'NA_Sales']\n",
        "d_1 = df_f.loc[df_f['Genre']==NA_genre[1], 'NA_Sales']\n",
        "d_2 = df_f.loc[df_f['Genre']==NA_genre[2], 'NA_Sales']\n",
        "d_3 = df_f.loc[df_f['Genre']==NA_genre[3], 'NA_Sales']\n",
        "d_4 = df_f.loc[df_f['Genre']==NA_genre[4], 'NA_Sales']"
      ],
      "metadata": {
        "id": "MEt8iVCmcjoi"
      },
      "execution_count": 55,
      "outputs": []
    },
    {
      "cell_type": "code",
      "source": [
        "stats.bartlett(d_0, d_1, d_2, d_3, d_4)"
      ],
      "metadata": {
        "id": "bnZgXTSqcecu",
        "outputId": "8a803f47-02c8-4478-9f17-905b482e5c37",
        "colab": {
          "base_uri": "https://localhost:8080/"
        }
      },
      "execution_count": 56,
      "outputs": [
        {
          "output_type": "execute_result",
          "data": {
            "text/plain": [
              "BartlettResult(statistic=2255.6879901920665, pvalue=0.0)"
            ]
          },
          "metadata": {},
          "execution_count": 56
        }
      ]
    },
    {
      "cell_type": "code",
      "source": [
        "stats.levene(d_0, d_1, d_2, d_3, d_4, center = 'median')"
      ],
      "metadata": {
        "id": "1BUr0ek5fz-s",
        "outputId": "6f4b6c2a-aa56-4fcd-fc46-52d5e41498f7",
        "colab": {
          "base_uri": "https://localhost:8080/"
        }
      },
      "execution_count": 57,
      "outputs": [
        {
          "output_type": "execute_result",
          "data": {
            "text/plain": [
              "LeveneResult(statistic=18.329060679313457, pvalue=5.175484900592755e-15)"
            ]
          },
          "metadata": {},
          "execution_count": 57
        }
      ]
    },
    {
      "cell_type": "code",
      "source": [
        "anova_df = df_f[df_f['Genre'].isin(['Action', 'Sports', 'Shooter', 'Platform', 'Misc'])]"
      ],
      "metadata": {
        "id": "R81ALicKi4m3"
      },
      "execution_count": 58,
      "outputs": []
    },
    {
      "cell_type": "code",
      "source": [
        "# 등분산이 아닌 경우에 사용하는 ANOVA: Welch test (Brown-Forsythe test)\n",
        "# ANOVA 귀무가설: 5집단의 평균이 같다\n",
        "# pvalue < 0.05로 평균이 유의미하게 다르다\n",
        "\n",
        "pg.welch_anova(dv = 'NA_Sales', between = 'Genre', data = anova_df)"
      ],
      "metadata": {
        "id": "PWdZUrXPpgI3",
        "outputId": "f4a1b2db-8aed-4397-88ec-0deaf62c7c25",
        "colab": {
          "base_uri": "https://localhost:8080/",
          "height": 81
        }
      },
      "execution_count": 59,
      "outputs": [
        {
          "output_type": "execute_result",
          "data": {
            "text/plain": [
              "  Source  ddof1        ddof2          F         p-unc       np2\n",
              "0  Genre      4  3139.270366  13.622099  5.166887e-11  0.009161"
            ],
            "text/html": [
              "\n",
              "  <div id=\"df-7e90c924-c5ca-4d37-8146-218d5ce20c63\">\n",
              "    <div class=\"colab-df-container\">\n",
              "      <div>\n",
              "<style scoped>\n",
              "    .dataframe tbody tr th:only-of-type {\n",
              "        vertical-align: middle;\n",
              "    }\n",
              "\n",
              "    .dataframe tbody tr th {\n",
              "        vertical-align: top;\n",
              "    }\n",
              "\n",
              "    .dataframe thead th {\n",
              "        text-align: right;\n",
              "    }\n",
              "</style>\n",
              "<table border=\"1\" class=\"dataframe\">\n",
              "  <thead>\n",
              "    <tr style=\"text-align: right;\">\n",
              "      <th></th>\n",
              "      <th>Source</th>\n",
              "      <th>ddof1</th>\n",
              "      <th>ddof2</th>\n",
              "      <th>F</th>\n",
              "      <th>p-unc</th>\n",
              "      <th>np2</th>\n",
              "    </tr>\n",
              "  </thead>\n",
              "  <tbody>\n",
              "    <tr>\n",
              "      <th>0</th>\n",
              "      <td>Genre</td>\n",
              "      <td>4</td>\n",
              "      <td>3139.270366</td>\n",
              "      <td>13.622099</td>\n",
              "      <td>5.166887e-11</td>\n",
              "      <td>0.009161</td>\n",
              "    </tr>\n",
              "  </tbody>\n",
              "</table>\n",
              "</div>\n",
              "      <button class=\"colab-df-convert\" onclick=\"convertToInteractive('df-7e90c924-c5ca-4d37-8146-218d5ce20c63')\"\n",
              "              title=\"Convert this dataframe to an interactive table.\"\n",
              "              style=\"display:none;\">\n",
              "        \n",
              "  <svg xmlns=\"http://www.w3.org/2000/svg\" height=\"24px\"viewBox=\"0 0 24 24\"\n",
              "       width=\"24px\">\n",
              "    <path d=\"M0 0h24v24H0V0z\" fill=\"none\"/>\n",
              "    <path d=\"M18.56 5.44l.94 2.06.94-2.06 2.06-.94-2.06-.94-.94-2.06-.94 2.06-2.06.94zm-11 1L8.5 8.5l.94-2.06 2.06-.94-2.06-.94L8.5 2.5l-.94 2.06-2.06.94zm10 10l.94 2.06.94-2.06 2.06-.94-2.06-.94-.94-2.06-.94 2.06-2.06.94z\"/><path d=\"M17.41 7.96l-1.37-1.37c-.4-.4-.92-.59-1.43-.59-.52 0-1.04.2-1.43.59L10.3 9.45l-7.72 7.72c-.78.78-.78 2.05 0 2.83L4 21.41c.39.39.9.59 1.41.59.51 0 1.02-.2 1.41-.59l7.78-7.78 2.81-2.81c.8-.78.8-2.07 0-2.86zM5.41 20L4 18.59l7.72-7.72 1.47 1.35L5.41 20z\"/>\n",
              "  </svg>\n",
              "      </button>\n",
              "      \n",
              "  <style>\n",
              "    .colab-df-container {\n",
              "      display:flex;\n",
              "      flex-wrap:wrap;\n",
              "      gap: 12px;\n",
              "    }\n",
              "\n",
              "    .colab-df-convert {\n",
              "      background-color: #E8F0FE;\n",
              "      border: none;\n",
              "      border-radius: 50%;\n",
              "      cursor: pointer;\n",
              "      display: none;\n",
              "      fill: #1967D2;\n",
              "      height: 32px;\n",
              "      padding: 0 0 0 0;\n",
              "      width: 32px;\n",
              "    }\n",
              "\n",
              "    .colab-df-convert:hover {\n",
              "      background-color: #E2EBFA;\n",
              "      box-shadow: 0px 1px 2px rgba(60, 64, 67, 0.3), 0px 1px 3px 1px rgba(60, 64, 67, 0.15);\n",
              "      fill: #174EA6;\n",
              "    }\n",
              "\n",
              "    [theme=dark] .colab-df-convert {\n",
              "      background-color: #3B4455;\n",
              "      fill: #D2E3FC;\n",
              "    }\n",
              "\n",
              "    [theme=dark] .colab-df-convert:hover {\n",
              "      background-color: #434B5C;\n",
              "      box-shadow: 0px 1px 3px 1px rgba(0, 0, 0, 0.15);\n",
              "      filter: drop-shadow(0px 1px 2px rgba(0, 0, 0, 0.3));\n",
              "      fill: #FFFFFF;\n",
              "    }\n",
              "  </style>\n",
              "\n",
              "      <script>\n",
              "        const buttonEl =\n",
              "          document.querySelector('#df-7e90c924-c5ca-4d37-8146-218d5ce20c63 button.colab-df-convert');\n",
              "        buttonEl.style.display =\n",
              "          google.colab.kernel.accessAllowed ? 'block' : 'none';\n",
              "\n",
              "        async function convertToInteractive(key) {\n",
              "          const element = document.querySelector('#df-7e90c924-c5ca-4d37-8146-218d5ce20c63');\n",
              "          const dataTable =\n",
              "            await google.colab.kernel.invokeFunction('convertToInteractive',\n",
              "                                                     [key], {});\n",
              "          if (!dataTable) return;\n",
              "\n",
              "          const docLinkHtml = 'Like what you see? Visit the ' +\n",
              "            '<a target=\"_blank\" href=https://colab.research.google.com/notebooks/data_table.ipynb>data table notebook</a>'\n",
              "            + ' to learn more about interactive tables.';\n",
              "          element.innerHTML = '';\n",
              "          dataTable['output_type'] = 'display_data';\n",
              "          await google.colab.output.renderOutput(dataTable, element);\n",
              "          const docLink = document.createElement('div');\n",
              "          docLink.innerHTML = docLinkHtml;\n",
              "          element.appendChild(docLink);\n",
              "        }\n",
              "      </script>\n",
              "    </div>\n",
              "  </div>\n",
              "  "
            ]
          },
          "metadata": {},
          "execution_count": 59
        }
      ]
    },
    {
      "cell_type": "code",
      "source": [
        "# 등분산이 아닌 경우 사후분석:  Games-Howell (Tamhane' T2, Dunnett's T3,Dunnett's C)\n",
        "# p < 0.05 : 집단 간 평균 차이가 있다.\n",
        "# Action과 Platform, Shooter는 유의미 하게 다르다\n",
        "# Misc과 Platform, Shooter는 유의미 하게 다르다\n",
        "# Sports와 Platform, Shooter는 유의미 하게 다르다\n",
        "\n",
        "pg.pairwise_gameshowell(dv = 'NA_Sales', between = 'Genre', data = anova_df)"
      ],
      "metadata": {
        "id": "IvHjlPUEjnoZ",
        "outputId": "ee17a34a-39a2-4540-c1aa-69352d887927",
        "colab": {
          "base_uri": "https://localhost:8080/",
          "height": 363
        }
      },
      "execution_count": 60,
      "outputs": [
        {
          "output_type": "execute_result",
          "data": {
            "text/plain": [
              "          A         B   mean(A)   mean(B)      diff        se         T  \\\n",
              "0    Action      Misc  0.264892  0.234774  0.030118  0.019574  1.538677   \n",
              "1    Action  Platform  0.264892  0.509588 -0.244696  0.052101 -4.696529   \n",
              "2    Action   Shooter  0.264892  0.448813 -0.183920  0.035347 -5.203238   \n",
              "3    Action    Sports  0.264892  0.290239 -0.025347  0.024042 -1.054309   \n",
              "4      Misc  Platform  0.234774  0.509588 -0.274814  0.053820 -5.106156   \n",
              "5      Misc   Shooter  0.234774  0.448813 -0.214038  0.037835 -5.657176   \n",
              "6      Misc    Sports  0.234774  0.290239 -0.055465  0.027569 -2.011879   \n",
              "7  Platform   Shooter  0.509588  0.448813  0.060776  0.061342  0.990759   \n",
              "8  Platform    Sports  0.509588  0.290239  0.219349  0.055601  3.945057   \n",
              "9   Shooter    Sports  0.448813  0.290239  0.158573  0.040328  3.932106   \n",
              "\n",
              "            df          pval    hedges  \n",
              "0  2936.832154  5.372602e-01  0.046024  \n",
              "1   941.075654  2.990862e-05 -0.178967  \n",
              "2  1508.106062  2.213420e-06 -0.171734  \n",
              "3  3265.124120  8.297835e-01 -0.028743  \n",
              "4  1065.574506  3.861526e-06 -0.212361  \n",
              "5  1899.317001  1.768105e-07 -0.209168  \n",
              "6  3954.870762  2.603433e-01 -0.064289  \n",
              "7  1598.286001  8.595852e-01  0.043459  \n",
              "8  1205.748242  8.021156e-04  0.156733  \n",
              "9  2338.178578  8.238570e-04  0.137101  "
            ],
            "text/html": [
              "\n",
              "  <div id=\"df-f26e2c88-29d9-48f3-8a10-348ef81b9b63\">\n",
              "    <div class=\"colab-df-container\">\n",
              "      <div>\n",
              "<style scoped>\n",
              "    .dataframe tbody tr th:only-of-type {\n",
              "        vertical-align: middle;\n",
              "    }\n",
              "\n",
              "    .dataframe tbody tr th {\n",
              "        vertical-align: top;\n",
              "    }\n",
              "\n",
              "    .dataframe thead th {\n",
              "        text-align: right;\n",
              "    }\n",
              "</style>\n",
              "<table border=\"1\" class=\"dataframe\">\n",
              "  <thead>\n",
              "    <tr style=\"text-align: right;\">\n",
              "      <th></th>\n",
              "      <th>A</th>\n",
              "      <th>B</th>\n",
              "      <th>mean(A)</th>\n",
              "      <th>mean(B)</th>\n",
              "      <th>diff</th>\n",
              "      <th>se</th>\n",
              "      <th>T</th>\n",
              "      <th>df</th>\n",
              "      <th>pval</th>\n",
              "      <th>hedges</th>\n",
              "    </tr>\n",
              "  </thead>\n",
              "  <tbody>\n",
              "    <tr>\n",
              "      <th>0</th>\n",
              "      <td>Action</td>\n",
              "      <td>Misc</td>\n",
              "      <td>0.264892</td>\n",
              "      <td>0.234774</td>\n",
              "      <td>0.030118</td>\n",
              "      <td>0.019574</td>\n",
              "      <td>1.538677</td>\n",
              "      <td>2936.832154</td>\n",
              "      <td>5.372602e-01</td>\n",
              "      <td>0.046024</td>\n",
              "    </tr>\n",
              "    <tr>\n",
              "      <th>1</th>\n",
              "      <td>Action</td>\n",
              "      <td>Platform</td>\n",
              "      <td>0.264892</td>\n",
              "      <td>0.509588</td>\n",
              "      <td>-0.244696</td>\n",
              "      <td>0.052101</td>\n",
              "      <td>-4.696529</td>\n",
              "      <td>941.075654</td>\n",
              "      <td>2.990862e-05</td>\n",
              "      <td>-0.178967</td>\n",
              "    </tr>\n",
              "    <tr>\n",
              "      <th>2</th>\n",
              "      <td>Action</td>\n",
              "      <td>Shooter</td>\n",
              "      <td>0.264892</td>\n",
              "      <td>0.448813</td>\n",
              "      <td>-0.183920</td>\n",
              "      <td>0.035347</td>\n",
              "      <td>-5.203238</td>\n",
              "      <td>1508.106062</td>\n",
              "      <td>2.213420e-06</td>\n",
              "      <td>-0.171734</td>\n",
              "    </tr>\n",
              "    <tr>\n",
              "      <th>3</th>\n",
              "      <td>Action</td>\n",
              "      <td>Sports</td>\n",
              "      <td>0.264892</td>\n",
              "      <td>0.290239</td>\n",
              "      <td>-0.025347</td>\n",
              "      <td>0.024042</td>\n",
              "      <td>-1.054309</td>\n",
              "      <td>3265.124120</td>\n",
              "      <td>8.297835e-01</td>\n",
              "      <td>-0.028743</td>\n",
              "    </tr>\n",
              "    <tr>\n",
              "      <th>4</th>\n",
              "      <td>Misc</td>\n",
              "      <td>Platform</td>\n",
              "      <td>0.234774</td>\n",
              "      <td>0.509588</td>\n",
              "      <td>-0.274814</td>\n",
              "      <td>0.053820</td>\n",
              "      <td>-5.106156</td>\n",
              "      <td>1065.574506</td>\n",
              "      <td>3.861526e-06</td>\n",
              "      <td>-0.212361</td>\n",
              "    </tr>\n",
              "    <tr>\n",
              "      <th>5</th>\n",
              "      <td>Misc</td>\n",
              "      <td>Shooter</td>\n",
              "      <td>0.234774</td>\n",
              "      <td>0.448813</td>\n",
              "      <td>-0.214038</td>\n",
              "      <td>0.037835</td>\n",
              "      <td>-5.657176</td>\n",
              "      <td>1899.317001</td>\n",
              "      <td>1.768105e-07</td>\n",
              "      <td>-0.209168</td>\n",
              "    </tr>\n",
              "    <tr>\n",
              "      <th>6</th>\n",
              "      <td>Misc</td>\n",
              "      <td>Sports</td>\n",
              "      <td>0.234774</td>\n",
              "      <td>0.290239</td>\n",
              "      <td>-0.055465</td>\n",
              "      <td>0.027569</td>\n",
              "      <td>-2.011879</td>\n",
              "      <td>3954.870762</td>\n",
              "      <td>2.603433e-01</td>\n",
              "      <td>-0.064289</td>\n",
              "    </tr>\n",
              "    <tr>\n",
              "      <th>7</th>\n",
              "      <td>Platform</td>\n",
              "      <td>Shooter</td>\n",
              "      <td>0.509588</td>\n",
              "      <td>0.448813</td>\n",
              "      <td>0.060776</td>\n",
              "      <td>0.061342</td>\n",
              "      <td>0.990759</td>\n",
              "      <td>1598.286001</td>\n",
              "      <td>8.595852e-01</td>\n",
              "      <td>0.043459</td>\n",
              "    </tr>\n",
              "    <tr>\n",
              "      <th>8</th>\n",
              "      <td>Platform</td>\n",
              "      <td>Sports</td>\n",
              "      <td>0.509588</td>\n",
              "      <td>0.290239</td>\n",
              "      <td>0.219349</td>\n",
              "      <td>0.055601</td>\n",
              "      <td>3.945057</td>\n",
              "      <td>1205.748242</td>\n",
              "      <td>8.021156e-04</td>\n",
              "      <td>0.156733</td>\n",
              "    </tr>\n",
              "    <tr>\n",
              "      <th>9</th>\n",
              "      <td>Shooter</td>\n",
              "      <td>Sports</td>\n",
              "      <td>0.448813</td>\n",
              "      <td>0.290239</td>\n",
              "      <td>0.158573</td>\n",
              "      <td>0.040328</td>\n",
              "      <td>3.932106</td>\n",
              "      <td>2338.178578</td>\n",
              "      <td>8.238570e-04</td>\n",
              "      <td>0.137101</td>\n",
              "    </tr>\n",
              "  </tbody>\n",
              "</table>\n",
              "</div>\n",
              "      <button class=\"colab-df-convert\" onclick=\"convertToInteractive('df-f26e2c88-29d9-48f3-8a10-348ef81b9b63')\"\n",
              "              title=\"Convert this dataframe to an interactive table.\"\n",
              "              style=\"display:none;\">\n",
              "        \n",
              "  <svg xmlns=\"http://www.w3.org/2000/svg\" height=\"24px\"viewBox=\"0 0 24 24\"\n",
              "       width=\"24px\">\n",
              "    <path d=\"M0 0h24v24H0V0z\" fill=\"none\"/>\n",
              "    <path d=\"M18.56 5.44l.94 2.06.94-2.06 2.06-.94-2.06-.94-.94-2.06-.94 2.06-2.06.94zm-11 1L8.5 8.5l.94-2.06 2.06-.94-2.06-.94L8.5 2.5l-.94 2.06-2.06.94zm10 10l.94 2.06.94-2.06 2.06-.94-2.06-.94-.94-2.06-.94 2.06-2.06.94z\"/><path d=\"M17.41 7.96l-1.37-1.37c-.4-.4-.92-.59-1.43-.59-.52 0-1.04.2-1.43.59L10.3 9.45l-7.72 7.72c-.78.78-.78 2.05 0 2.83L4 21.41c.39.39.9.59 1.41.59.51 0 1.02-.2 1.41-.59l7.78-7.78 2.81-2.81c.8-.78.8-2.07 0-2.86zM5.41 20L4 18.59l7.72-7.72 1.47 1.35L5.41 20z\"/>\n",
              "  </svg>\n",
              "      </button>\n",
              "      \n",
              "  <style>\n",
              "    .colab-df-container {\n",
              "      display:flex;\n",
              "      flex-wrap:wrap;\n",
              "      gap: 12px;\n",
              "    }\n",
              "\n",
              "    .colab-df-convert {\n",
              "      background-color: #E8F0FE;\n",
              "      border: none;\n",
              "      border-radius: 50%;\n",
              "      cursor: pointer;\n",
              "      display: none;\n",
              "      fill: #1967D2;\n",
              "      height: 32px;\n",
              "      padding: 0 0 0 0;\n",
              "      width: 32px;\n",
              "    }\n",
              "\n",
              "    .colab-df-convert:hover {\n",
              "      background-color: #E2EBFA;\n",
              "      box-shadow: 0px 1px 2px rgba(60, 64, 67, 0.3), 0px 1px 3px 1px rgba(60, 64, 67, 0.15);\n",
              "      fill: #174EA6;\n",
              "    }\n",
              "\n",
              "    [theme=dark] .colab-df-convert {\n",
              "      background-color: #3B4455;\n",
              "      fill: #D2E3FC;\n",
              "    }\n",
              "\n",
              "    [theme=dark] .colab-df-convert:hover {\n",
              "      background-color: #434B5C;\n",
              "      box-shadow: 0px 1px 3px 1px rgba(0, 0, 0, 0.15);\n",
              "      filter: drop-shadow(0px 1px 2px rgba(0, 0, 0, 0.3));\n",
              "      fill: #FFFFFF;\n",
              "    }\n",
              "  </style>\n",
              "\n",
              "      <script>\n",
              "        const buttonEl =\n",
              "          document.querySelector('#df-f26e2c88-29d9-48f3-8a10-348ef81b9b63 button.colab-df-convert');\n",
              "        buttonEl.style.display =\n",
              "          google.colab.kernel.accessAllowed ? 'block' : 'none';\n",
              "\n",
              "        async function convertToInteractive(key) {\n",
              "          const element = document.querySelector('#df-f26e2c88-29d9-48f3-8a10-348ef81b9b63');\n",
              "          const dataTable =\n",
              "            await google.colab.kernel.invokeFunction('convertToInteractive',\n",
              "                                                     [key], {});\n",
              "          if (!dataTable) return;\n",
              "\n",
              "          const docLinkHtml = 'Like what you see? Visit the ' +\n",
              "            '<a target=\"_blank\" href=https://colab.research.google.com/notebooks/data_table.ipynb>data table notebook</a>'\n",
              "            + ' to learn more about interactive tables.';\n",
              "          element.innerHTML = '';\n",
              "          dataTable['output_type'] = 'display_data';\n",
              "          await google.colab.output.renderOutput(dataTable, element);\n",
              "          const docLink = document.createElement('div');\n",
              "          docLink.innerHTML = docLinkHtml;\n",
              "          element.appendChild(docLink);\n",
              "        }\n",
              "      </script>\n",
              "    </div>\n",
              "  </div>\n",
              "  "
            ]
          },
          "metadata": {},
          "execution_count": 60
        }
      ]
    },
    {
      "cell_type": "markdown",
      "source": [
        "* *Shooter*와 *Platform*의 경우는 pvalue가 매우 작으며, 다른장르의 평균판매량과 유의미한 차이를 보인다.\n",
        "\n",
        "2) 유럽"
      ],
      "metadata": {
        "id": "8WqwzfM4qXNd"
      }
    },
    {
      "cell_type": "code",
      "source": [
        "# 정규성 검정(Kolmogorov-Smirnov test)\n",
        "# 귀무가설: 정규분포를 따른다\n",
        "# pvalue < 0.05, 귀무가설을 기각하지 않는다\n",
        "\n",
        "stats.kstest(df_f['EU_Sales'], 'norm')"
      ],
      "metadata": {
        "id": "XK_BDAXKqYG7",
        "outputId": "f5d44eac-6cc5-4bc6-e5c5-fb31aaf6117b",
        "colab": {
          "base_uri": "https://localhost:8080/"
        }
      },
      "execution_count": 61,
      "outputs": [
        {
          "output_type": "execute_result",
          "data": {
            "text/plain": [
              "KstestResult(statistic=0.5, pvalue=0.0)"
            ]
          },
          "metadata": {},
          "execution_count": 61
        }
      ]
    },
    {
      "cell_type": "code",
      "source": [
        "df_f[['EU_Sales','Genre']].groupby('Genre').sum().sort_values(by='EU_Sales',ascending=False).head(5)"
      ],
      "metadata": {
        "id": "g-A-pmzQpYWA",
        "outputId": "a2642e4e-80cf-4f85-c8a4-c5c9c50f858d",
        "colab": {
          "base_uri": "https://localhost:8080/",
          "height": 237
        }
      },
      "execution_count": 62,
      "outputs": [
        {
          "output_type": "execute_result",
          "data": {
            "text/plain": [
              "         EU_Sales\n",
              "Genre            \n",
              "Action     513.64\n",
              "Sports     370.97\n",
              "Shooter    310.23\n",
              "Racing     235.03\n",
              "Misc       210.20"
            ],
            "text/html": [
              "\n",
              "  <div id=\"df-a94e4a76-7bca-4d0d-baee-71ee9f97a52a\">\n",
              "    <div class=\"colab-df-container\">\n",
              "      <div>\n",
              "<style scoped>\n",
              "    .dataframe tbody tr th:only-of-type {\n",
              "        vertical-align: middle;\n",
              "    }\n",
              "\n",
              "    .dataframe tbody tr th {\n",
              "        vertical-align: top;\n",
              "    }\n",
              "\n",
              "    .dataframe thead th {\n",
              "        text-align: right;\n",
              "    }\n",
              "</style>\n",
              "<table border=\"1\" class=\"dataframe\">\n",
              "  <thead>\n",
              "    <tr style=\"text-align: right;\">\n",
              "      <th></th>\n",
              "      <th>EU_Sales</th>\n",
              "    </tr>\n",
              "    <tr>\n",
              "      <th>Genre</th>\n",
              "      <th></th>\n",
              "    </tr>\n",
              "  </thead>\n",
              "  <tbody>\n",
              "    <tr>\n",
              "      <th>Action</th>\n",
              "      <td>513.64</td>\n",
              "    </tr>\n",
              "    <tr>\n",
              "      <th>Sports</th>\n",
              "      <td>370.97</td>\n",
              "    </tr>\n",
              "    <tr>\n",
              "      <th>Shooter</th>\n",
              "      <td>310.23</td>\n",
              "    </tr>\n",
              "    <tr>\n",
              "      <th>Racing</th>\n",
              "      <td>235.03</td>\n",
              "    </tr>\n",
              "    <tr>\n",
              "      <th>Misc</th>\n",
              "      <td>210.20</td>\n",
              "    </tr>\n",
              "  </tbody>\n",
              "</table>\n",
              "</div>\n",
              "      <button class=\"colab-df-convert\" onclick=\"convertToInteractive('df-a94e4a76-7bca-4d0d-baee-71ee9f97a52a')\"\n",
              "              title=\"Convert this dataframe to an interactive table.\"\n",
              "              style=\"display:none;\">\n",
              "        \n",
              "  <svg xmlns=\"http://www.w3.org/2000/svg\" height=\"24px\"viewBox=\"0 0 24 24\"\n",
              "       width=\"24px\">\n",
              "    <path d=\"M0 0h24v24H0V0z\" fill=\"none\"/>\n",
              "    <path d=\"M18.56 5.44l.94 2.06.94-2.06 2.06-.94-2.06-.94-.94-2.06-.94 2.06-2.06.94zm-11 1L8.5 8.5l.94-2.06 2.06-.94-2.06-.94L8.5 2.5l-.94 2.06-2.06.94zm10 10l.94 2.06.94-2.06 2.06-.94-2.06-.94-.94-2.06-.94 2.06-2.06.94z\"/><path d=\"M17.41 7.96l-1.37-1.37c-.4-.4-.92-.59-1.43-.59-.52 0-1.04.2-1.43.59L10.3 9.45l-7.72 7.72c-.78.78-.78 2.05 0 2.83L4 21.41c.39.39.9.59 1.41.59.51 0 1.02-.2 1.41-.59l7.78-7.78 2.81-2.81c.8-.78.8-2.07 0-2.86zM5.41 20L4 18.59l7.72-7.72 1.47 1.35L5.41 20z\"/>\n",
              "  </svg>\n",
              "      </button>\n",
              "      \n",
              "  <style>\n",
              "    .colab-df-container {\n",
              "      display:flex;\n",
              "      flex-wrap:wrap;\n",
              "      gap: 12px;\n",
              "    }\n",
              "\n",
              "    .colab-df-convert {\n",
              "      background-color: #E8F0FE;\n",
              "      border: none;\n",
              "      border-radius: 50%;\n",
              "      cursor: pointer;\n",
              "      display: none;\n",
              "      fill: #1967D2;\n",
              "      height: 32px;\n",
              "      padding: 0 0 0 0;\n",
              "      width: 32px;\n",
              "    }\n",
              "\n",
              "    .colab-df-convert:hover {\n",
              "      background-color: #E2EBFA;\n",
              "      box-shadow: 0px 1px 2px rgba(60, 64, 67, 0.3), 0px 1px 3px 1px rgba(60, 64, 67, 0.15);\n",
              "      fill: #174EA6;\n",
              "    }\n",
              "\n",
              "    [theme=dark] .colab-df-convert {\n",
              "      background-color: #3B4455;\n",
              "      fill: #D2E3FC;\n",
              "    }\n",
              "\n",
              "    [theme=dark] .colab-df-convert:hover {\n",
              "      background-color: #434B5C;\n",
              "      box-shadow: 0px 1px 3px 1px rgba(0, 0, 0, 0.15);\n",
              "      filter: drop-shadow(0px 1px 2px rgba(0, 0, 0, 0.3));\n",
              "      fill: #FFFFFF;\n",
              "    }\n",
              "  </style>\n",
              "\n",
              "      <script>\n",
              "        const buttonEl =\n",
              "          document.querySelector('#df-a94e4a76-7bca-4d0d-baee-71ee9f97a52a button.colab-df-convert');\n",
              "        buttonEl.style.display =\n",
              "          google.colab.kernel.accessAllowed ? 'block' : 'none';\n",
              "\n",
              "        async function convertToInteractive(key) {\n",
              "          const element = document.querySelector('#df-a94e4a76-7bca-4d0d-baee-71ee9f97a52a');\n",
              "          const dataTable =\n",
              "            await google.colab.kernel.invokeFunction('convertToInteractive',\n",
              "                                                     [key], {});\n",
              "          if (!dataTable) return;\n",
              "\n",
              "          const docLinkHtml = 'Like what you see? Visit the ' +\n",
              "            '<a target=\"_blank\" href=https://colab.research.google.com/notebooks/data_table.ipynb>data table notebook</a>'\n",
              "            + ' to learn more about interactive tables.';\n",
              "          element.innerHTML = '';\n",
              "          dataTable['output_type'] = 'display_data';\n",
              "          await google.colab.output.renderOutput(dataTable, element);\n",
              "          const docLink = document.createElement('div');\n",
              "          docLink.innerHTML = docLinkHtml;\n",
              "          element.appendChild(docLink);\n",
              "        }\n",
              "      </script>\n",
              "    </div>\n",
              "  </div>\n",
              "  "
            ]
          },
          "metadata": {},
          "execution_count": 62
        }
      ]
    },
    {
      "cell_type": "code",
      "source": [
        "# 등분산성 검정 (bartlett, Levene test)\n",
        "# 귀무가설: 분산이 같다\n",
        "# pvalue < 0.05로 분산이 유의미하게 다르다\n",
        "\n",
        "EU_genre = ['Action', 'Sports', 'Shooter', 'Racing', 'Misc']\n",
        "\n",
        "d_0 = df_f.loc[df_f['Genre']==EU_genre[0], 'EU_Sales']\n",
        "d_1 = df_f.loc[df_f['Genre']==EU_genre[1], 'EU_Sales']\n",
        "d_2 = df_f.loc[df_f['Genre']==EU_genre[2], 'EU_Sales']\n",
        "d_3 = df_f.loc[df_f['Genre']==EU_genre[3], 'EU_Sales']\n",
        "d_4 = df_f.loc[df_f['Genre']==EU_genre[4], 'EU_Sales']"
      ],
      "metadata": {
        "id": "sUpU1FLKpg6B"
      },
      "execution_count": 63,
      "outputs": []
    },
    {
      "cell_type": "code",
      "source": [
        "stats.bartlett(d_0, d_1, d_2, d_3, d_4)"
      ],
      "metadata": {
        "id": "TRooGRdrpwGv",
        "outputId": "734cb488-47d4-4f6e-fd83-f7a52876f7ed",
        "colab": {
          "base_uri": "https://localhost:8080/"
        }
      },
      "execution_count": 64,
      "outputs": [
        {
          "output_type": "execute_result",
          "data": {
            "text/plain": [
              "BartlettResult(statistic=1331.6879500328955, pvalue=4.4839428996290745e-287)"
            ]
          },
          "metadata": {},
          "execution_count": 64
        }
      ]
    },
    {
      "cell_type": "code",
      "source": [
        "stats.levene(d_0, d_1, d_2, d_3, d_4, center = 'median')"
      ],
      "metadata": {
        "id": "y_nNLHnJp0ZZ",
        "outputId": "20eb92cf-b39e-4060-d669-9b40da325c41",
        "colab": {
          "base_uri": "https://localhost:8080/"
        }
      },
      "execution_count": 65,
      "outputs": [
        {
          "output_type": "execute_result",
          "data": {
            "text/plain": [
              "LeveneResult(statistic=7.087984132065427, pvalue=1.0773948455926297e-05)"
            ]
          },
          "metadata": {},
          "execution_count": 65
        }
      ]
    },
    {
      "cell_type": "code",
      "source": [
        "anova_df = df_f[df_f['Genre'].isin(['Action', 'Sports', 'Shooter', 'Racing', 'Misc'])]"
      ],
      "metadata": {
        "id": "EhSEiKy9p6Rm"
      },
      "execution_count": 66,
      "outputs": []
    },
    {
      "cell_type": "code",
      "source": [
        "# 등분산이 아닌 경우에 사용하는 ANOVA: Welch test (Brown-Forsythe test)\n",
        "# ANOVA 귀무가설: 5집단의 평균이 같다\n",
        "# pvalue < 0.05로 평균이 유의미하게 다르다\n",
        "\n",
        "pg.welch_anova(dv = 'EU_Sales', between = 'Genre', data = anova_df)"
      ],
      "metadata": {
        "id": "mmWg84MkqAaH",
        "outputId": "e2c67172-96f5-497f-ca23-344f74da328d",
        "colab": {
          "base_uri": "https://localhost:8080/",
          "height": 81
        }
      },
      "execution_count": 67,
      "outputs": [
        {
          "output_type": "execute_result",
          "data": {
            "text/plain": [
              "  Source  ddof1       ddof2          F         p-unc       np2\n",
              "0  Genre      4  3813.28871  10.861465  9.353008e-09  0.003732"
            ],
            "text/html": [
              "\n",
              "  <div id=\"df-935a0ba2-7673-4e69-86ae-ed59c89e2ed2\">\n",
              "    <div class=\"colab-df-container\">\n",
              "      <div>\n",
              "<style scoped>\n",
              "    .dataframe tbody tr th:only-of-type {\n",
              "        vertical-align: middle;\n",
              "    }\n",
              "\n",
              "    .dataframe tbody tr th {\n",
              "        vertical-align: top;\n",
              "    }\n",
              "\n",
              "    .dataframe thead th {\n",
              "        text-align: right;\n",
              "    }\n",
              "</style>\n",
              "<table border=\"1\" class=\"dataframe\">\n",
              "  <thead>\n",
              "    <tr style=\"text-align: right;\">\n",
              "      <th></th>\n",
              "      <th>Source</th>\n",
              "      <th>ddof1</th>\n",
              "      <th>ddof2</th>\n",
              "      <th>F</th>\n",
              "      <th>p-unc</th>\n",
              "      <th>np2</th>\n",
              "    </tr>\n",
              "  </thead>\n",
              "  <tbody>\n",
              "    <tr>\n",
              "      <th>0</th>\n",
              "      <td>Genre</td>\n",
              "      <td>4</td>\n",
              "      <td>3813.28871</td>\n",
              "      <td>10.861465</td>\n",
              "      <td>9.353008e-09</td>\n",
              "      <td>0.003732</td>\n",
              "    </tr>\n",
              "  </tbody>\n",
              "</table>\n",
              "</div>\n",
              "      <button class=\"colab-df-convert\" onclick=\"convertToInteractive('df-935a0ba2-7673-4e69-86ae-ed59c89e2ed2')\"\n",
              "              title=\"Convert this dataframe to an interactive table.\"\n",
              "              style=\"display:none;\">\n",
              "        \n",
              "  <svg xmlns=\"http://www.w3.org/2000/svg\" height=\"24px\"viewBox=\"0 0 24 24\"\n",
              "       width=\"24px\">\n",
              "    <path d=\"M0 0h24v24H0V0z\" fill=\"none\"/>\n",
              "    <path d=\"M18.56 5.44l.94 2.06.94-2.06 2.06-.94-2.06-.94-.94-2.06-.94 2.06-2.06.94zm-11 1L8.5 8.5l.94-2.06 2.06-.94-2.06-.94L8.5 2.5l-.94 2.06-2.06.94zm10 10l.94 2.06.94-2.06 2.06-.94-2.06-.94-.94-2.06-.94 2.06-2.06.94z\"/><path d=\"M17.41 7.96l-1.37-1.37c-.4-.4-.92-.59-1.43-.59-.52 0-1.04.2-1.43.59L10.3 9.45l-7.72 7.72c-.78.78-.78 2.05 0 2.83L4 21.41c.39.39.9.59 1.41.59.51 0 1.02-.2 1.41-.59l7.78-7.78 2.81-2.81c.8-.78.8-2.07 0-2.86zM5.41 20L4 18.59l7.72-7.72 1.47 1.35L5.41 20z\"/>\n",
              "  </svg>\n",
              "      </button>\n",
              "      \n",
              "  <style>\n",
              "    .colab-df-container {\n",
              "      display:flex;\n",
              "      flex-wrap:wrap;\n",
              "      gap: 12px;\n",
              "    }\n",
              "\n",
              "    .colab-df-convert {\n",
              "      background-color: #E8F0FE;\n",
              "      border: none;\n",
              "      border-radius: 50%;\n",
              "      cursor: pointer;\n",
              "      display: none;\n",
              "      fill: #1967D2;\n",
              "      height: 32px;\n",
              "      padding: 0 0 0 0;\n",
              "      width: 32px;\n",
              "    }\n",
              "\n",
              "    .colab-df-convert:hover {\n",
              "      background-color: #E2EBFA;\n",
              "      box-shadow: 0px 1px 2px rgba(60, 64, 67, 0.3), 0px 1px 3px 1px rgba(60, 64, 67, 0.15);\n",
              "      fill: #174EA6;\n",
              "    }\n",
              "\n",
              "    [theme=dark] .colab-df-convert {\n",
              "      background-color: #3B4455;\n",
              "      fill: #D2E3FC;\n",
              "    }\n",
              "\n",
              "    [theme=dark] .colab-df-convert:hover {\n",
              "      background-color: #434B5C;\n",
              "      box-shadow: 0px 1px 3px 1px rgba(0, 0, 0, 0.15);\n",
              "      filter: drop-shadow(0px 1px 2px rgba(0, 0, 0, 0.3));\n",
              "      fill: #FFFFFF;\n",
              "    }\n",
              "  </style>\n",
              "\n",
              "      <script>\n",
              "        const buttonEl =\n",
              "          document.querySelector('#df-935a0ba2-7673-4e69-86ae-ed59c89e2ed2 button.colab-df-convert');\n",
              "        buttonEl.style.display =\n",
              "          google.colab.kernel.accessAllowed ? 'block' : 'none';\n",
              "\n",
              "        async function convertToInteractive(key) {\n",
              "          const element = document.querySelector('#df-935a0ba2-7673-4e69-86ae-ed59c89e2ed2');\n",
              "          const dataTable =\n",
              "            await google.colab.kernel.invokeFunction('convertToInteractive',\n",
              "                                                     [key], {});\n",
              "          if (!dataTable) return;\n",
              "\n",
              "          const docLinkHtml = 'Like what you see? Visit the ' +\n",
              "            '<a target=\"_blank\" href=https://colab.research.google.com/notebooks/data_table.ipynb>data table notebook</a>'\n",
              "            + ' to learn more about interactive tables.';\n",
              "          element.innerHTML = '';\n",
              "          dataTable['output_type'] = 'display_data';\n",
              "          await google.colab.output.renderOutput(dataTable, element);\n",
              "          const docLink = document.createElement('div');\n",
              "          docLink.innerHTML = docLinkHtml;\n",
              "          element.appendChild(docLink);\n",
              "        }\n",
              "      </script>\n",
              "    </div>\n",
              "  </div>\n",
              "  "
            ]
          },
          "metadata": {},
          "execution_count": 67
        }
      ]
    },
    {
      "cell_type": "code",
      "source": [
        "# 등분산이 아닌 경우 사후분석:  Games-Howell (Tamhane' T2, Dunnett's T3,Dunnett's C)\n",
        "# p < 0.05 : 집단 간 평균 차이가 있다.\n",
        "# Action과 Shooter는 유의미 하게 다르다\n",
        "# Misc과 Racing,Shooter는 유의미 하게 다르다\n",
        "# Sports와 Shooter는 유의미 하게 다르다\n",
        "\n",
        "pg.pairwise_gameshowell(dv = 'EU_Sales', between = 'Genre', data = anova_df)"
      ],
      "metadata": {
        "id": "7HFdUr7kqFa0",
        "outputId": "5a99ad4a-7ae4-4ea5-d2c9-c102e17560cf",
        "colab": {
          "base_uri": "https://localhost:8080/",
          "height": 363
        }
      },
      "execution_count": 68,
      "outputs": [
        {
          "output_type": "execute_result",
          "data": {
            "text/plain": [
              "         A        B   mean(A)   mean(B)      diff        se         T  \\\n",
              "0   Action     Misc  0.158433  0.123284  0.035149  0.012927  2.718911   \n",
              "1   Action   Racing  0.158433  0.192648 -0.034214  0.018296 -1.870029   \n",
              "2   Action  Shooter  0.158433  0.242367 -0.083934  0.017091 -4.911101   \n",
              "3   Action   Sports  0.158433  0.161361 -0.002928  0.017854 -0.164015   \n",
              "4     Misc   Racing  0.123284  0.192648 -0.069363  0.019944 -3.477837   \n",
              "5     Misc  Shooter  0.123284  0.242367 -0.119083  0.018845 -6.319228   \n",
              "6     Misc   Sports  0.123284  0.161361 -0.038077  0.019540 -1.948692   \n",
              "7   Racing  Shooter  0.192648  0.242367 -0.049720  0.022864 -2.174612   \n",
              "8   Racing   Sports  0.192648  0.161361  0.031286  0.023440  1.334728   \n",
              "9  Shooter   Sports  0.242367  0.161361  0.081006  0.022512  3.598388   \n",
              "\n",
              "            df          pval    hedges  \n",
              "0  3245.033998  5.144246e-02  0.081326  \n",
              "1  1687.655480  3.339962e-01 -0.062799  \n",
              "2  1859.275952  9.744946e-06 -0.162092  \n",
              "3  3196.040046  9.998380e-01 -0.004471  \n",
              "4  2157.596849  4.684063e-03 -0.130382  \n",
              "5  2387.372033  3.124975e-09 -0.233647  \n",
              "6  3763.778269  2.917741e-01 -0.062270  \n",
              "7  2470.421553  1.896648e-01 -0.086983  \n",
              "8  3127.535072  6.694759e-01  0.047267  \n",
              "9  3378.715657  2.995930e-03  0.125465  "
            ],
            "text/html": [
              "\n",
              "  <div id=\"df-83590e55-ff25-4ace-9623-5ec7f8fec50f\">\n",
              "    <div class=\"colab-df-container\">\n",
              "      <div>\n",
              "<style scoped>\n",
              "    .dataframe tbody tr th:only-of-type {\n",
              "        vertical-align: middle;\n",
              "    }\n",
              "\n",
              "    .dataframe tbody tr th {\n",
              "        vertical-align: top;\n",
              "    }\n",
              "\n",
              "    .dataframe thead th {\n",
              "        text-align: right;\n",
              "    }\n",
              "</style>\n",
              "<table border=\"1\" class=\"dataframe\">\n",
              "  <thead>\n",
              "    <tr style=\"text-align: right;\">\n",
              "      <th></th>\n",
              "      <th>A</th>\n",
              "      <th>B</th>\n",
              "      <th>mean(A)</th>\n",
              "      <th>mean(B)</th>\n",
              "      <th>diff</th>\n",
              "      <th>se</th>\n",
              "      <th>T</th>\n",
              "      <th>df</th>\n",
              "      <th>pval</th>\n",
              "      <th>hedges</th>\n",
              "    </tr>\n",
              "  </thead>\n",
              "  <tbody>\n",
              "    <tr>\n",
              "      <th>0</th>\n",
              "      <td>Action</td>\n",
              "      <td>Misc</td>\n",
              "      <td>0.158433</td>\n",
              "      <td>0.123284</td>\n",
              "      <td>0.035149</td>\n",
              "      <td>0.012927</td>\n",
              "      <td>2.718911</td>\n",
              "      <td>3245.033998</td>\n",
              "      <td>5.144246e-02</td>\n",
              "      <td>0.081326</td>\n",
              "    </tr>\n",
              "    <tr>\n",
              "      <th>1</th>\n",
              "      <td>Action</td>\n",
              "      <td>Racing</td>\n",
              "      <td>0.158433</td>\n",
              "      <td>0.192648</td>\n",
              "      <td>-0.034214</td>\n",
              "      <td>0.018296</td>\n",
              "      <td>-1.870029</td>\n",
              "      <td>1687.655480</td>\n",
              "      <td>3.339962e-01</td>\n",
              "      <td>-0.062799</td>\n",
              "    </tr>\n",
              "    <tr>\n",
              "      <th>2</th>\n",
              "      <td>Action</td>\n",
              "      <td>Shooter</td>\n",
              "      <td>0.158433</td>\n",
              "      <td>0.242367</td>\n",
              "      <td>-0.083934</td>\n",
              "      <td>0.017091</td>\n",
              "      <td>-4.911101</td>\n",
              "      <td>1859.275952</td>\n",
              "      <td>9.744946e-06</td>\n",
              "      <td>-0.162092</td>\n",
              "    </tr>\n",
              "    <tr>\n",
              "      <th>3</th>\n",
              "      <td>Action</td>\n",
              "      <td>Sports</td>\n",
              "      <td>0.158433</td>\n",
              "      <td>0.161361</td>\n",
              "      <td>-0.002928</td>\n",
              "      <td>0.017854</td>\n",
              "      <td>-0.164015</td>\n",
              "      <td>3196.040046</td>\n",
              "      <td>9.998380e-01</td>\n",
              "      <td>-0.004471</td>\n",
              "    </tr>\n",
              "    <tr>\n",
              "      <th>4</th>\n",
              "      <td>Misc</td>\n",
              "      <td>Racing</td>\n",
              "      <td>0.123284</td>\n",
              "      <td>0.192648</td>\n",
              "      <td>-0.069363</td>\n",
              "      <td>0.019944</td>\n",
              "      <td>-3.477837</td>\n",
              "      <td>2157.596849</td>\n",
              "      <td>4.684063e-03</td>\n",
              "      <td>-0.130382</td>\n",
              "    </tr>\n",
              "    <tr>\n",
              "      <th>5</th>\n",
              "      <td>Misc</td>\n",
              "      <td>Shooter</td>\n",
              "      <td>0.123284</td>\n",
              "      <td>0.242367</td>\n",
              "      <td>-0.119083</td>\n",
              "      <td>0.018845</td>\n",
              "      <td>-6.319228</td>\n",
              "      <td>2387.372033</td>\n",
              "      <td>3.124975e-09</td>\n",
              "      <td>-0.233647</td>\n",
              "    </tr>\n",
              "    <tr>\n",
              "      <th>6</th>\n",
              "      <td>Misc</td>\n",
              "      <td>Sports</td>\n",
              "      <td>0.123284</td>\n",
              "      <td>0.161361</td>\n",
              "      <td>-0.038077</td>\n",
              "      <td>0.019540</td>\n",
              "      <td>-1.948692</td>\n",
              "      <td>3763.778269</td>\n",
              "      <td>2.917741e-01</td>\n",
              "      <td>-0.062270</td>\n",
              "    </tr>\n",
              "    <tr>\n",
              "      <th>7</th>\n",
              "      <td>Racing</td>\n",
              "      <td>Shooter</td>\n",
              "      <td>0.192648</td>\n",
              "      <td>0.242367</td>\n",
              "      <td>-0.049720</td>\n",
              "      <td>0.022864</td>\n",
              "      <td>-2.174612</td>\n",
              "      <td>2470.421553</td>\n",
              "      <td>1.896648e-01</td>\n",
              "      <td>-0.086983</td>\n",
              "    </tr>\n",
              "    <tr>\n",
              "      <th>8</th>\n",
              "      <td>Racing</td>\n",
              "      <td>Sports</td>\n",
              "      <td>0.192648</td>\n",
              "      <td>0.161361</td>\n",
              "      <td>0.031286</td>\n",
              "      <td>0.023440</td>\n",
              "      <td>1.334728</td>\n",
              "      <td>3127.535072</td>\n",
              "      <td>6.694759e-01</td>\n",
              "      <td>0.047267</td>\n",
              "    </tr>\n",
              "    <tr>\n",
              "      <th>9</th>\n",
              "      <td>Shooter</td>\n",
              "      <td>Sports</td>\n",
              "      <td>0.242367</td>\n",
              "      <td>0.161361</td>\n",
              "      <td>0.081006</td>\n",
              "      <td>0.022512</td>\n",
              "      <td>3.598388</td>\n",
              "      <td>3378.715657</td>\n",
              "      <td>2.995930e-03</td>\n",
              "      <td>0.125465</td>\n",
              "    </tr>\n",
              "  </tbody>\n",
              "</table>\n",
              "</div>\n",
              "      <button class=\"colab-df-convert\" onclick=\"convertToInteractive('df-83590e55-ff25-4ace-9623-5ec7f8fec50f')\"\n",
              "              title=\"Convert this dataframe to an interactive table.\"\n",
              "              style=\"display:none;\">\n",
              "        \n",
              "  <svg xmlns=\"http://www.w3.org/2000/svg\" height=\"24px\"viewBox=\"0 0 24 24\"\n",
              "       width=\"24px\">\n",
              "    <path d=\"M0 0h24v24H0V0z\" fill=\"none\"/>\n",
              "    <path d=\"M18.56 5.44l.94 2.06.94-2.06 2.06-.94-2.06-.94-.94-2.06-.94 2.06-2.06.94zm-11 1L8.5 8.5l.94-2.06 2.06-.94-2.06-.94L8.5 2.5l-.94 2.06-2.06.94zm10 10l.94 2.06.94-2.06 2.06-.94-2.06-.94-.94-2.06-.94 2.06-2.06.94z\"/><path d=\"M17.41 7.96l-1.37-1.37c-.4-.4-.92-.59-1.43-.59-.52 0-1.04.2-1.43.59L10.3 9.45l-7.72 7.72c-.78.78-.78 2.05 0 2.83L4 21.41c.39.39.9.59 1.41.59.51 0 1.02-.2 1.41-.59l7.78-7.78 2.81-2.81c.8-.78.8-2.07 0-2.86zM5.41 20L4 18.59l7.72-7.72 1.47 1.35L5.41 20z\"/>\n",
              "  </svg>\n",
              "      </button>\n",
              "      \n",
              "  <style>\n",
              "    .colab-df-container {\n",
              "      display:flex;\n",
              "      flex-wrap:wrap;\n",
              "      gap: 12px;\n",
              "    }\n",
              "\n",
              "    .colab-df-convert {\n",
              "      background-color: #E8F0FE;\n",
              "      border: none;\n",
              "      border-radius: 50%;\n",
              "      cursor: pointer;\n",
              "      display: none;\n",
              "      fill: #1967D2;\n",
              "      height: 32px;\n",
              "      padding: 0 0 0 0;\n",
              "      width: 32px;\n",
              "    }\n",
              "\n",
              "    .colab-df-convert:hover {\n",
              "      background-color: #E2EBFA;\n",
              "      box-shadow: 0px 1px 2px rgba(60, 64, 67, 0.3), 0px 1px 3px 1px rgba(60, 64, 67, 0.15);\n",
              "      fill: #174EA6;\n",
              "    }\n",
              "\n",
              "    [theme=dark] .colab-df-convert {\n",
              "      background-color: #3B4455;\n",
              "      fill: #D2E3FC;\n",
              "    }\n",
              "\n",
              "    [theme=dark] .colab-df-convert:hover {\n",
              "      background-color: #434B5C;\n",
              "      box-shadow: 0px 1px 3px 1px rgba(0, 0, 0, 0.15);\n",
              "      filter: drop-shadow(0px 1px 2px rgba(0, 0, 0, 0.3));\n",
              "      fill: #FFFFFF;\n",
              "    }\n",
              "  </style>\n",
              "\n",
              "      <script>\n",
              "        const buttonEl =\n",
              "          document.querySelector('#df-83590e55-ff25-4ace-9623-5ec7f8fec50f button.colab-df-convert');\n",
              "        buttonEl.style.display =\n",
              "          google.colab.kernel.accessAllowed ? 'block' : 'none';\n",
              "\n",
              "        async function convertToInteractive(key) {\n",
              "          const element = document.querySelector('#df-83590e55-ff25-4ace-9623-5ec7f8fec50f');\n",
              "          const dataTable =\n",
              "            await google.colab.kernel.invokeFunction('convertToInteractive',\n",
              "                                                     [key], {});\n",
              "          if (!dataTable) return;\n",
              "\n",
              "          const docLinkHtml = 'Like what you see? Visit the ' +\n",
              "            '<a target=\"_blank\" href=https://colab.research.google.com/notebooks/data_table.ipynb>data table notebook</a>'\n",
              "            + ' to learn more about interactive tables.';\n",
              "          element.innerHTML = '';\n",
              "          dataTable['output_type'] = 'display_data';\n",
              "          await google.colab.output.renderOutput(dataTable, element);\n",
              "          const docLink = document.createElement('div');\n",
              "          docLink.innerHTML = docLinkHtml;\n",
              "          element.appendChild(docLink);\n",
              "        }\n",
              "      </script>\n",
              "    </div>\n",
              "  </div>\n",
              "  "
            ]
          },
          "metadata": {},
          "execution_count": 68
        }
      ]
    },
    {
      "cell_type": "markdown",
      "source": [
        "\n",
        "* 북미와 유사한 경향을 보이며, *Shooter*와 *Racing* pvalue가 매우 작아 다른장르의 평균판매량과 유의미한 차이를 보인다.\n",
        "\n",
        "3) 일본"
      ],
      "metadata": {
        "id": "hFwXW36qqcOO"
      }
    },
    {
      "cell_type": "code",
      "source": [
        "# 정규성 검정(Kolmogorov-Smirnov test)\n",
        "# 귀무가설: 정규분포를 따른다\n",
        "# pvalue < 0.05, 귀무가설을 기각하지 않는다\n",
        "\n",
        "stats.kstest(df_f['JP_Sales'], 'norm')"
      ],
      "metadata": {
        "id": "zdrKjUwiqeJ8",
        "outputId": "0af5d430-ce4d-4aaa-a213-35e2f6399411",
        "colab": {
          "base_uri": "https://localhost:8080/"
        }
      },
      "execution_count": 69,
      "outputs": [
        {
          "output_type": "execute_result",
          "data": {
            "text/plain": [
              "KstestResult(statistic=0.5, pvalue=0.0)"
            ]
          },
          "metadata": {},
          "execution_count": 69
        }
      ]
    },
    {
      "cell_type": "code",
      "source": [
        "df_f[['JP_Sales','Genre']].groupby('Genre').sum().sort_values(by='JP_Sales',ascending=False).head(5)"
      ],
      "metadata": {
        "id": "41VC9eUsqgAt",
        "outputId": "f25952be-4eea-443a-8226-23c666bb6fe5",
        "colab": {
          "base_uri": "https://localhost:8080/",
          "height": 237
        }
      },
      "execution_count": 71,
      "outputs": [
        {
          "output_type": "execute_result",
          "data": {
            "text/plain": [
              "              JP_Sales\n",
              "Genre                 \n",
              "Role-Playing    342.93\n",
              "Action          156.61\n",
              "Sports          134.76\n",
              "Platform        130.53\n",
              "Misc            104.18"
            ],
            "text/html": [
              "\n",
              "  <div id=\"df-4d31a296-c97f-469c-8bbd-aa9b98da94f3\">\n",
              "    <div class=\"colab-df-container\">\n",
              "      <div>\n",
              "<style scoped>\n",
              "    .dataframe tbody tr th:only-of-type {\n",
              "        vertical-align: middle;\n",
              "    }\n",
              "\n",
              "    .dataframe tbody tr th {\n",
              "        vertical-align: top;\n",
              "    }\n",
              "\n",
              "    .dataframe thead th {\n",
              "        text-align: right;\n",
              "    }\n",
              "</style>\n",
              "<table border=\"1\" class=\"dataframe\">\n",
              "  <thead>\n",
              "    <tr style=\"text-align: right;\">\n",
              "      <th></th>\n",
              "      <th>JP_Sales</th>\n",
              "    </tr>\n",
              "    <tr>\n",
              "      <th>Genre</th>\n",
              "      <th></th>\n",
              "    </tr>\n",
              "  </thead>\n",
              "  <tbody>\n",
              "    <tr>\n",
              "      <th>Role-Playing</th>\n",
              "      <td>342.93</td>\n",
              "    </tr>\n",
              "    <tr>\n",
              "      <th>Action</th>\n",
              "      <td>156.61</td>\n",
              "    </tr>\n",
              "    <tr>\n",
              "      <th>Sports</th>\n",
              "      <td>134.76</td>\n",
              "    </tr>\n",
              "    <tr>\n",
              "      <th>Platform</th>\n",
              "      <td>130.53</td>\n",
              "    </tr>\n",
              "    <tr>\n",
              "      <th>Misc</th>\n",
              "      <td>104.18</td>\n",
              "    </tr>\n",
              "  </tbody>\n",
              "</table>\n",
              "</div>\n",
              "      <button class=\"colab-df-convert\" onclick=\"convertToInteractive('df-4d31a296-c97f-469c-8bbd-aa9b98da94f3')\"\n",
              "              title=\"Convert this dataframe to an interactive table.\"\n",
              "              style=\"display:none;\">\n",
              "        \n",
              "  <svg xmlns=\"http://www.w3.org/2000/svg\" height=\"24px\"viewBox=\"0 0 24 24\"\n",
              "       width=\"24px\">\n",
              "    <path d=\"M0 0h24v24H0V0z\" fill=\"none\"/>\n",
              "    <path d=\"M18.56 5.44l.94 2.06.94-2.06 2.06-.94-2.06-.94-.94-2.06-.94 2.06-2.06.94zm-11 1L8.5 8.5l.94-2.06 2.06-.94-2.06-.94L8.5 2.5l-.94 2.06-2.06.94zm10 10l.94 2.06.94-2.06 2.06-.94-2.06-.94-.94-2.06-.94 2.06-2.06.94z\"/><path d=\"M17.41 7.96l-1.37-1.37c-.4-.4-.92-.59-1.43-.59-.52 0-1.04.2-1.43.59L10.3 9.45l-7.72 7.72c-.78.78-.78 2.05 0 2.83L4 21.41c.39.39.9.59 1.41.59.51 0 1.02-.2 1.41-.59l7.78-7.78 2.81-2.81c.8-.78.8-2.07 0-2.86zM5.41 20L4 18.59l7.72-7.72 1.47 1.35L5.41 20z\"/>\n",
              "  </svg>\n",
              "      </button>\n",
              "      \n",
              "  <style>\n",
              "    .colab-df-container {\n",
              "      display:flex;\n",
              "      flex-wrap:wrap;\n",
              "      gap: 12px;\n",
              "    }\n",
              "\n",
              "    .colab-df-convert {\n",
              "      background-color: #E8F0FE;\n",
              "      border: none;\n",
              "      border-radius: 50%;\n",
              "      cursor: pointer;\n",
              "      display: none;\n",
              "      fill: #1967D2;\n",
              "      height: 32px;\n",
              "      padding: 0 0 0 0;\n",
              "      width: 32px;\n",
              "    }\n",
              "\n",
              "    .colab-df-convert:hover {\n",
              "      background-color: #E2EBFA;\n",
              "      box-shadow: 0px 1px 2px rgba(60, 64, 67, 0.3), 0px 1px 3px 1px rgba(60, 64, 67, 0.15);\n",
              "      fill: #174EA6;\n",
              "    }\n",
              "\n",
              "    [theme=dark] .colab-df-convert {\n",
              "      background-color: #3B4455;\n",
              "      fill: #D2E3FC;\n",
              "    }\n",
              "\n",
              "    [theme=dark] .colab-df-convert:hover {\n",
              "      background-color: #434B5C;\n",
              "      box-shadow: 0px 1px 3px 1px rgba(0, 0, 0, 0.15);\n",
              "      filter: drop-shadow(0px 1px 2px rgba(0, 0, 0, 0.3));\n",
              "      fill: #FFFFFF;\n",
              "    }\n",
              "  </style>\n",
              "\n",
              "      <script>\n",
              "        const buttonEl =\n",
              "          document.querySelector('#df-4d31a296-c97f-469c-8bbd-aa9b98da94f3 button.colab-df-convert');\n",
              "        buttonEl.style.display =\n",
              "          google.colab.kernel.accessAllowed ? 'block' : 'none';\n",
              "\n",
              "        async function convertToInteractive(key) {\n",
              "          const element = document.querySelector('#df-4d31a296-c97f-469c-8bbd-aa9b98da94f3');\n",
              "          const dataTable =\n",
              "            await google.colab.kernel.invokeFunction('convertToInteractive',\n",
              "                                                     [key], {});\n",
              "          if (!dataTable) return;\n",
              "\n",
              "          const docLinkHtml = 'Like what you see? Visit the ' +\n",
              "            '<a target=\"_blank\" href=https://colab.research.google.com/notebooks/data_table.ipynb>data table notebook</a>'\n",
              "            + ' to learn more about interactive tables.';\n",
              "          element.innerHTML = '';\n",
              "          dataTable['output_type'] = 'display_data';\n",
              "          await google.colab.output.renderOutput(dataTable, element);\n",
              "          const docLink = document.createElement('div');\n",
              "          docLink.innerHTML = docLinkHtml;\n",
              "          element.appendChild(docLink);\n",
              "        }\n",
              "      </script>\n",
              "    </div>\n",
              "  </div>\n",
              "  "
            ]
          },
          "metadata": {},
          "execution_count": 71
        }
      ]
    },
    {
      "cell_type": "code",
      "source": [
        "# 등분산성 검정 (bartlett, Levene test)\n",
        "# 귀무가설: 분산이 같다\n",
        "# pvalue < 0.05로 분산이 유의미하게 다르다\n",
        "\n",
        "JP_genre = ['Role-Playing', 'Action', 'Sports', 'Platform', 'Misc']\n",
        "\n",
        "d_0 = df_f.loc[df_f['Genre']==JP_genre[0], 'JP_Sales']\n",
        "d_1 = df_f.loc[df_f['Genre']==JP_genre[1], 'JP_Sales']\n",
        "d_2 = df_f.loc[df_f['Genre']==JP_genre[2], 'JP_Sales']\n",
        "d_3 = df_f.loc[df_f['Genre']==JP_genre[3], 'JP_Sales']\n",
        "d_4 = df_f.loc[df_f['Genre']==JP_genre[4], 'JP_Sales']"
      ],
      "metadata": {
        "id": "VCBtYD4EqpqX"
      },
      "execution_count": 72,
      "outputs": []
    },
    {
      "cell_type": "code",
      "source": [
        "stats.bartlett(d_0, d_1, d_2, d_3, d_4)"
      ],
      "metadata": {
        "id": "bO4ZZkhPq5gE",
        "outputId": "16c6a3aa-b89a-4802-e46f-d1d766d7a64a",
        "colab": {
          "base_uri": "https://localhost:8080/"
        }
      },
      "execution_count": 73,
      "outputs": [
        {
          "output_type": "execute_result",
          "data": {
            "text/plain": [
              "BartlettResult(statistic=5479.59862655709, pvalue=0.0)"
            ]
          },
          "metadata": {},
          "execution_count": 73
        }
      ]
    },
    {
      "cell_type": "code",
      "source": [
        "stats.levene(d_0, d_1, d_2, d_3, d_4, center = 'median')"
      ],
      "metadata": {
        "id": "QBJBgO5Rq6IC",
        "outputId": "cd7d1d08-7c19-41ef-9deb-b0ef5f2a3054",
        "colab": {
          "base_uri": "https://localhost:8080/"
        }
      },
      "execution_count": 74,
      "outputs": [
        {
          "output_type": "execute_result",
          "data": {
            "text/plain": [
              "LeveneResult(statistic=80.72500306645452, pvalue=1.7187679828654516e-67)"
            ]
          },
          "metadata": {},
          "execution_count": 74
        }
      ]
    },
    {
      "cell_type": "code",
      "source": [
        "anova_df = df_f[df_f['Genre'].isin(['Role-Playing', 'Action', 'Sports', 'Platform', 'Misc'])]"
      ],
      "metadata": {
        "id": "QwiupU8dq-iv"
      },
      "execution_count": 75,
      "outputs": []
    },
    {
      "cell_type": "code",
      "source": [
        "# 등분산이 아닌 경우에 사용하는 ANOVA: Welch test (Brown-Forsythe test)\n",
        "# ANOVA 귀무가설: 5집단의 평균이 같다\n",
        "# pvalue < 0.05로 평균이 유의미하게 다르다\n",
        "\n",
        "pg.welch_anova(dv = 'JP_Sales', between = 'Genre', data = anova_df)"
      ],
      "metadata": {
        "id": "zmMznoMorD4Q",
        "outputId": "bafb6b9b-a5e9-493d-cbd5-d191dd473610",
        "colab": {
          "base_uri": "https://localhost:8080/",
          "height": 81
        }
      },
      "execution_count": 77,
      "outputs": [
        {
          "output_type": "execute_result",
          "data": {
            "text/plain": [
              "  Source  ddof1        ddof2          F         p-unc       np2\n",
              "0  Genre      4  3190.442309  37.005165  2.733686e-30  0.035898"
            ],
            "text/html": [
              "\n",
              "  <div id=\"df-6c57222f-dae5-4dc6-8eda-515076616b7b\">\n",
              "    <div class=\"colab-df-container\">\n",
              "      <div>\n",
              "<style scoped>\n",
              "    .dataframe tbody tr th:only-of-type {\n",
              "        vertical-align: middle;\n",
              "    }\n",
              "\n",
              "    .dataframe tbody tr th {\n",
              "        vertical-align: top;\n",
              "    }\n",
              "\n",
              "    .dataframe thead th {\n",
              "        text-align: right;\n",
              "    }\n",
              "</style>\n",
              "<table border=\"1\" class=\"dataframe\">\n",
              "  <thead>\n",
              "    <tr style=\"text-align: right;\">\n",
              "      <th></th>\n",
              "      <th>Source</th>\n",
              "      <th>ddof1</th>\n",
              "      <th>ddof2</th>\n",
              "      <th>F</th>\n",
              "      <th>p-unc</th>\n",
              "      <th>np2</th>\n",
              "    </tr>\n",
              "  </thead>\n",
              "  <tbody>\n",
              "    <tr>\n",
              "      <th>0</th>\n",
              "      <td>Genre</td>\n",
              "      <td>4</td>\n",
              "      <td>3190.442309</td>\n",
              "      <td>37.005165</td>\n",
              "      <td>2.733686e-30</td>\n",
              "      <td>0.035898</td>\n",
              "    </tr>\n",
              "  </tbody>\n",
              "</table>\n",
              "</div>\n",
              "      <button class=\"colab-df-convert\" onclick=\"convertToInteractive('df-6c57222f-dae5-4dc6-8eda-515076616b7b')\"\n",
              "              title=\"Convert this dataframe to an interactive table.\"\n",
              "              style=\"display:none;\">\n",
              "        \n",
              "  <svg xmlns=\"http://www.w3.org/2000/svg\" height=\"24px\"viewBox=\"0 0 24 24\"\n",
              "       width=\"24px\">\n",
              "    <path d=\"M0 0h24v24H0V0z\" fill=\"none\"/>\n",
              "    <path d=\"M18.56 5.44l.94 2.06.94-2.06 2.06-.94-2.06-.94-.94-2.06-.94 2.06-2.06.94zm-11 1L8.5 8.5l.94-2.06 2.06-.94-2.06-.94L8.5 2.5l-.94 2.06-2.06.94zm10 10l.94 2.06.94-2.06 2.06-.94-2.06-.94-.94-2.06-.94 2.06-2.06.94z\"/><path d=\"M17.41 7.96l-1.37-1.37c-.4-.4-.92-.59-1.43-.59-.52 0-1.04.2-1.43.59L10.3 9.45l-7.72 7.72c-.78.78-.78 2.05 0 2.83L4 21.41c.39.39.9.59 1.41.59.51 0 1.02-.2 1.41-.59l7.78-7.78 2.81-2.81c.8-.78.8-2.07 0-2.86zM5.41 20L4 18.59l7.72-7.72 1.47 1.35L5.41 20z\"/>\n",
              "  </svg>\n",
              "      </button>\n",
              "      \n",
              "  <style>\n",
              "    .colab-df-container {\n",
              "      display:flex;\n",
              "      flex-wrap:wrap;\n",
              "      gap: 12px;\n",
              "    }\n",
              "\n",
              "    .colab-df-convert {\n",
              "      background-color: #E8F0FE;\n",
              "      border: none;\n",
              "      border-radius: 50%;\n",
              "      cursor: pointer;\n",
              "      display: none;\n",
              "      fill: #1967D2;\n",
              "      height: 32px;\n",
              "      padding: 0 0 0 0;\n",
              "      width: 32px;\n",
              "    }\n",
              "\n",
              "    .colab-df-convert:hover {\n",
              "      background-color: #E2EBFA;\n",
              "      box-shadow: 0px 1px 2px rgba(60, 64, 67, 0.3), 0px 1px 3px 1px rgba(60, 64, 67, 0.15);\n",
              "      fill: #174EA6;\n",
              "    }\n",
              "\n",
              "    [theme=dark] .colab-df-convert {\n",
              "      background-color: #3B4455;\n",
              "      fill: #D2E3FC;\n",
              "    }\n",
              "\n",
              "    [theme=dark] .colab-df-convert:hover {\n",
              "      background-color: #434B5C;\n",
              "      box-shadow: 0px 1px 3px 1px rgba(0, 0, 0, 0.15);\n",
              "      filter: drop-shadow(0px 1px 2px rgba(0, 0, 0, 0.3));\n",
              "      fill: #FFFFFF;\n",
              "    }\n",
              "  </style>\n",
              "\n",
              "      <script>\n",
              "        const buttonEl =\n",
              "          document.querySelector('#df-6c57222f-dae5-4dc6-8eda-515076616b7b button.colab-df-convert');\n",
              "        buttonEl.style.display =\n",
              "          google.colab.kernel.accessAllowed ? 'block' : 'none';\n",
              "\n",
              "        async function convertToInteractive(key) {\n",
              "          const element = document.querySelector('#df-6c57222f-dae5-4dc6-8eda-515076616b7b');\n",
              "          const dataTable =\n",
              "            await google.colab.kernel.invokeFunction('convertToInteractive',\n",
              "                                                     [key], {});\n",
              "          if (!dataTable) return;\n",
              "\n",
              "          const docLinkHtml = 'Like what you see? Visit the ' +\n",
              "            '<a target=\"_blank\" href=https://colab.research.google.com/notebooks/data_table.ipynb>data table notebook</a>'\n",
              "            + ' to learn more about interactive tables.';\n",
              "          element.innerHTML = '';\n",
              "          dataTable['output_type'] = 'display_data';\n",
              "          await google.colab.output.renderOutput(dataTable, element);\n",
              "          const docLink = document.createElement('div');\n",
              "          docLink.innerHTML = docLinkHtml;\n",
              "          element.appendChild(docLink);\n",
              "        }\n",
              "      </script>\n",
              "    </div>\n",
              "  </div>\n",
              "  "
            ]
          },
          "metadata": {},
          "execution_count": 77
        }
      ]
    },
    {
      "cell_type": "code",
      "source": [
        "# 등분산이 아닌 경우 사후분석:  Games-Howell (Tamhane' T2, Dunnett's T3,Dunnett's C)\n",
        "# p < 0.05 : 집단 간 평균 차이가 있다.\n",
        "# Action과 Platform, Role-Playing는 유의미 하게 다르다\n",
        "# Misc과 Platform는 유의미 하게 다르다\n",
        "# Platform과 Role-Playing, Sports는 유의미 하게 다르다\n",
        "# Role-Playing과 Sports는 유의미 하게 다르다\n",
        "\n",
        "pg.pairwise_gameshowell(dv = 'JP_Sales', between = 'Genre', data = anova_df)"
      ],
      "metadata": {
        "id": "yJI9FaZgrLjP",
        "outputId": "649b1f9d-9d5b-42b2-9bcc-53541f9742a3",
        "colab": {
          "base_uri": "https://localhost:8080/",
          "height": 363
        }
      },
      "execution_count": 78,
      "outputs": [
        {
          "output_type": "execute_result",
          "data": {
            "text/plain": [
              "              A             B   mean(A)   mean(B)      diff        se  \\\n",
              "0        Action          Misc  0.048307  0.061103 -0.012796  0.006497   \n",
              "1        Action      Platform  0.048307  0.149348 -0.101041  0.018113   \n",
              "2        Action  Role-Playing  0.048307  0.233922 -0.185616  0.016978   \n",
              "3        Action        Sports  0.048307  0.058617 -0.010310  0.005527   \n",
              "4          Misc      Platform  0.061103  0.149348 -0.088245  0.018802   \n",
              "5          Misc  Role-Playing  0.061103  0.233922 -0.172820  0.017712   \n",
              "6          Misc        Sports  0.061103  0.058617  0.002486  0.007483   \n",
              "7      Platform  Role-Playing  0.149348  0.233922 -0.084574  0.024486   \n",
              "8      Platform        Sports  0.149348  0.058617  0.090731  0.018490   \n",
              "9  Role-Playing        Sports  0.233922  0.058617  0.175305  0.017380   \n",
              "\n",
              "           T           df          pval    hedges  \n",
              "0  -1.969436  2569.950809  2.813184e-01 -0.058909  \n",
              "1  -5.578384   919.206361  3.181700e-07 -0.212571  \n",
              "2 -10.932414  1553.429556  2.672307e-13 -0.344026  \n",
              "3  -1.865475  3962.871345  3.362918e-01 -0.050857  \n",
              "4  -4.693283  1061.463276  2.991335e-05 -0.195190  \n",
              "5  -9.757129  1817.754880  0.000000e+00 -0.347447  \n",
              "6   0.332193  3541.021939  9.973776e-01  0.010615  \n",
              "7  -3.453930  2107.926773  5.103249e-03 -0.147557  \n",
              "8   4.907157   996.423863  1.066739e-05  0.194956  \n",
              "9  10.086848  1699.419316  8.731904e-13  0.337066  "
            ],
            "text/html": [
              "\n",
              "  <div id=\"df-1a725d66-e717-4be5-b471-16a3755233ed\">\n",
              "    <div class=\"colab-df-container\">\n",
              "      <div>\n",
              "<style scoped>\n",
              "    .dataframe tbody tr th:only-of-type {\n",
              "        vertical-align: middle;\n",
              "    }\n",
              "\n",
              "    .dataframe tbody tr th {\n",
              "        vertical-align: top;\n",
              "    }\n",
              "\n",
              "    .dataframe thead th {\n",
              "        text-align: right;\n",
              "    }\n",
              "</style>\n",
              "<table border=\"1\" class=\"dataframe\">\n",
              "  <thead>\n",
              "    <tr style=\"text-align: right;\">\n",
              "      <th></th>\n",
              "      <th>A</th>\n",
              "      <th>B</th>\n",
              "      <th>mean(A)</th>\n",
              "      <th>mean(B)</th>\n",
              "      <th>diff</th>\n",
              "      <th>se</th>\n",
              "      <th>T</th>\n",
              "      <th>df</th>\n",
              "      <th>pval</th>\n",
              "      <th>hedges</th>\n",
              "    </tr>\n",
              "  </thead>\n",
              "  <tbody>\n",
              "    <tr>\n",
              "      <th>0</th>\n",
              "      <td>Action</td>\n",
              "      <td>Misc</td>\n",
              "      <td>0.048307</td>\n",
              "      <td>0.061103</td>\n",
              "      <td>-0.012796</td>\n",
              "      <td>0.006497</td>\n",
              "      <td>-1.969436</td>\n",
              "      <td>2569.950809</td>\n",
              "      <td>2.813184e-01</td>\n",
              "      <td>-0.058909</td>\n",
              "    </tr>\n",
              "    <tr>\n",
              "      <th>1</th>\n",
              "      <td>Action</td>\n",
              "      <td>Platform</td>\n",
              "      <td>0.048307</td>\n",
              "      <td>0.149348</td>\n",
              "      <td>-0.101041</td>\n",
              "      <td>0.018113</td>\n",
              "      <td>-5.578384</td>\n",
              "      <td>919.206361</td>\n",
              "      <td>3.181700e-07</td>\n",
              "      <td>-0.212571</td>\n",
              "    </tr>\n",
              "    <tr>\n",
              "      <th>2</th>\n",
              "      <td>Action</td>\n",
              "      <td>Role-Playing</td>\n",
              "      <td>0.048307</td>\n",
              "      <td>0.233922</td>\n",
              "      <td>-0.185616</td>\n",
              "      <td>0.016978</td>\n",
              "      <td>-10.932414</td>\n",
              "      <td>1553.429556</td>\n",
              "      <td>2.672307e-13</td>\n",
              "      <td>-0.344026</td>\n",
              "    </tr>\n",
              "    <tr>\n",
              "      <th>3</th>\n",
              "      <td>Action</td>\n",
              "      <td>Sports</td>\n",
              "      <td>0.048307</td>\n",
              "      <td>0.058617</td>\n",
              "      <td>-0.010310</td>\n",
              "      <td>0.005527</td>\n",
              "      <td>-1.865475</td>\n",
              "      <td>3962.871345</td>\n",
              "      <td>3.362918e-01</td>\n",
              "      <td>-0.050857</td>\n",
              "    </tr>\n",
              "    <tr>\n",
              "      <th>4</th>\n",
              "      <td>Misc</td>\n",
              "      <td>Platform</td>\n",
              "      <td>0.061103</td>\n",
              "      <td>0.149348</td>\n",
              "      <td>-0.088245</td>\n",
              "      <td>0.018802</td>\n",
              "      <td>-4.693283</td>\n",
              "      <td>1061.463276</td>\n",
              "      <td>2.991335e-05</td>\n",
              "      <td>-0.195190</td>\n",
              "    </tr>\n",
              "    <tr>\n",
              "      <th>5</th>\n",
              "      <td>Misc</td>\n",
              "      <td>Role-Playing</td>\n",
              "      <td>0.061103</td>\n",
              "      <td>0.233922</td>\n",
              "      <td>-0.172820</td>\n",
              "      <td>0.017712</td>\n",
              "      <td>-9.757129</td>\n",
              "      <td>1817.754880</td>\n",
              "      <td>0.000000e+00</td>\n",
              "      <td>-0.347447</td>\n",
              "    </tr>\n",
              "    <tr>\n",
              "      <th>6</th>\n",
              "      <td>Misc</td>\n",
              "      <td>Sports</td>\n",
              "      <td>0.061103</td>\n",
              "      <td>0.058617</td>\n",
              "      <td>0.002486</td>\n",
              "      <td>0.007483</td>\n",
              "      <td>0.332193</td>\n",
              "      <td>3541.021939</td>\n",
              "      <td>9.973776e-01</td>\n",
              "      <td>0.010615</td>\n",
              "    </tr>\n",
              "    <tr>\n",
              "      <th>7</th>\n",
              "      <td>Platform</td>\n",
              "      <td>Role-Playing</td>\n",
              "      <td>0.149348</td>\n",
              "      <td>0.233922</td>\n",
              "      <td>-0.084574</td>\n",
              "      <td>0.024486</td>\n",
              "      <td>-3.453930</td>\n",
              "      <td>2107.926773</td>\n",
              "      <td>5.103249e-03</td>\n",
              "      <td>-0.147557</td>\n",
              "    </tr>\n",
              "    <tr>\n",
              "      <th>8</th>\n",
              "      <td>Platform</td>\n",
              "      <td>Sports</td>\n",
              "      <td>0.149348</td>\n",
              "      <td>0.058617</td>\n",
              "      <td>0.090731</td>\n",
              "      <td>0.018490</td>\n",
              "      <td>4.907157</td>\n",
              "      <td>996.423863</td>\n",
              "      <td>1.066739e-05</td>\n",
              "      <td>0.194956</td>\n",
              "    </tr>\n",
              "    <tr>\n",
              "      <th>9</th>\n",
              "      <td>Role-Playing</td>\n",
              "      <td>Sports</td>\n",
              "      <td>0.233922</td>\n",
              "      <td>0.058617</td>\n",
              "      <td>0.175305</td>\n",
              "      <td>0.017380</td>\n",
              "      <td>10.086848</td>\n",
              "      <td>1699.419316</td>\n",
              "      <td>8.731904e-13</td>\n",
              "      <td>0.337066</td>\n",
              "    </tr>\n",
              "  </tbody>\n",
              "</table>\n",
              "</div>\n",
              "      <button class=\"colab-df-convert\" onclick=\"convertToInteractive('df-1a725d66-e717-4be5-b471-16a3755233ed')\"\n",
              "              title=\"Convert this dataframe to an interactive table.\"\n",
              "              style=\"display:none;\">\n",
              "        \n",
              "  <svg xmlns=\"http://www.w3.org/2000/svg\" height=\"24px\"viewBox=\"0 0 24 24\"\n",
              "       width=\"24px\">\n",
              "    <path d=\"M0 0h24v24H0V0z\" fill=\"none\"/>\n",
              "    <path d=\"M18.56 5.44l.94 2.06.94-2.06 2.06-.94-2.06-.94-.94-2.06-.94 2.06-2.06.94zm-11 1L8.5 8.5l.94-2.06 2.06-.94-2.06-.94L8.5 2.5l-.94 2.06-2.06.94zm10 10l.94 2.06.94-2.06 2.06-.94-2.06-.94-.94-2.06-.94 2.06-2.06.94z\"/><path d=\"M17.41 7.96l-1.37-1.37c-.4-.4-.92-.59-1.43-.59-.52 0-1.04.2-1.43.59L10.3 9.45l-7.72 7.72c-.78.78-.78 2.05 0 2.83L4 21.41c.39.39.9.59 1.41.59.51 0 1.02-.2 1.41-.59l7.78-7.78 2.81-2.81c.8-.78.8-2.07 0-2.86zM5.41 20L4 18.59l7.72-7.72 1.47 1.35L5.41 20z\"/>\n",
              "  </svg>\n",
              "      </button>\n",
              "      \n",
              "  <style>\n",
              "    .colab-df-container {\n",
              "      display:flex;\n",
              "      flex-wrap:wrap;\n",
              "      gap: 12px;\n",
              "    }\n",
              "\n",
              "    .colab-df-convert {\n",
              "      background-color: #E8F0FE;\n",
              "      border: none;\n",
              "      border-radius: 50%;\n",
              "      cursor: pointer;\n",
              "      display: none;\n",
              "      fill: #1967D2;\n",
              "      height: 32px;\n",
              "      padding: 0 0 0 0;\n",
              "      width: 32px;\n",
              "    }\n",
              "\n",
              "    .colab-df-convert:hover {\n",
              "      background-color: #E2EBFA;\n",
              "      box-shadow: 0px 1px 2px rgba(60, 64, 67, 0.3), 0px 1px 3px 1px rgba(60, 64, 67, 0.15);\n",
              "      fill: #174EA6;\n",
              "    }\n",
              "\n",
              "    [theme=dark] .colab-df-convert {\n",
              "      background-color: #3B4455;\n",
              "      fill: #D2E3FC;\n",
              "    }\n",
              "\n",
              "    [theme=dark] .colab-df-convert:hover {\n",
              "      background-color: #434B5C;\n",
              "      box-shadow: 0px 1px 3px 1px rgba(0, 0, 0, 0.15);\n",
              "      filter: drop-shadow(0px 1px 2px rgba(0, 0, 0, 0.3));\n",
              "      fill: #FFFFFF;\n",
              "    }\n",
              "  </style>\n",
              "\n",
              "      <script>\n",
              "        const buttonEl =\n",
              "          document.querySelector('#df-1a725d66-e717-4be5-b471-16a3755233ed button.colab-df-convert');\n",
              "        buttonEl.style.display =\n",
              "          google.colab.kernel.accessAllowed ? 'block' : 'none';\n",
              "\n",
              "        async function convertToInteractive(key) {\n",
              "          const element = document.querySelector('#df-1a725d66-e717-4be5-b471-16a3755233ed');\n",
              "          const dataTable =\n",
              "            await google.colab.kernel.invokeFunction('convertToInteractive',\n",
              "                                                     [key], {});\n",
              "          if (!dataTable) return;\n",
              "\n",
              "          const docLinkHtml = 'Like what you see? Visit the ' +\n",
              "            '<a target=\"_blank\" href=https://colab.research.google.com/notebooks/data_table.ipynb>data table notebook</a>'\n",
              "            + ' to learn more about interactive tables.';\n",
              "          element.innerHTML = '';\n",
              "          dataTable['output_type'] = 'display_data';\n",
              "          await google.colab.output.renderOutput(dataTable, element);\n",
              "          const docLink = document.createElement('div');\n",
              "          docLink.innerHTML = docLinkHtml;\n",
              "          element.appendChild(docLink);\n",
              "        }\n",
              "      </script>\n",
              "    </div>\n",
              "  </div>\n",
              "  "
            ]
          },
          "metadata": {},
          "execution_count": 78
        }
      ]
    },
    {
      "cell_type": "markdown",
      "source": [
        "* *Role-Playing*에서 특히 pvalue가 매우 작아 다른장르의 평균판매량과 유의미한 차이를 보인다."
      ],
      "metadata": {
        "id": "kYKGnh7QqneU"
      }
    },
    {
      "cell_type": "markdown",
      "source": [
        "## 연도별 게임 트렌드"
      ],
      "metadata": {
        "id": "VrNsZSVuqrWl"
      }
    },
    {
      "cell_type": "markdown",
      "source": [
        "#1) 전체 시장 분석"
      ],
      "metadata": {
        "id": "zvDzPZEEvD9z"
      }
    },
    {
      "cell_type": "markdown",
      "source": [
        "\n",
        "*   미국, 유럽, 일본과 같이 **콘솔게임**이 주류인 곳의 시장구조는 새로운 게임을 끊임없이 생산하여 단품으로 판매하고, 게임 타이틀의 매출에서 이익을 얻는 방식이다. 기기를 빠르게 보급하고, 더불어 해당 기기에서 구동되는 소프트웨어를 파는 것이 목적이다. \n",
        "*   따라서 비디오 게임시작은 근본적으로 **제로섬 게임**인데, 특정 기기가 시장 점유율 대부분을 차지하면 게임제작사들이 신작을 모두 그 기기로만 발매하기 때문이다.\n",
        "*   TV와 연결해 게임을 즐기는 콘솔게임 시장이 **플레이스테이션**과 **XBOX**의 치열한 경쟁과 함께 성장했다. 이후 **닌텐도DS**가 등장하며 휴대용 게임기가 급격히 인기를 얻었고, 2010년 초중반까지 게임 발매량이 급속도로 증가하였다. \n",
        "*   하지만 이후 PC게임 위주로 시장이 변화하며 게임 발매가 점차 줄어들고 있다."
      ],
      "metadata": {
        "id": "bW0Zgn3NrL20"
      }
    },
    {
      "cell_type": "code",
      "source": [
        "plt.figure(figsize=(7,6))\n",
        "plt.title('Number of Games released per Year')\n",
        "plt.hist(df_f.drop_duplicates('Name')['Year'], bins=[a for a in range(1981,2021)],\n",
        "         rwidth=0.7, alpha=0.7);\n",
        "plt.ylabel('Game qty')\n",
        "plt.axvline(x=1990, color='gray', alpha=0.3, linestyle=':')\n",
        "plt.axvline(x=2000, color='gray', alpha=0.3, linestyle=':')\n",
        "plt.axvline(x=2010, color='gray', alpha=0.3, linestyle=':')\n",
        "plt.show()"
      ],
      "metadata": {
        "id": "sJ_nWuG_qm9z",
        "outputId": "f69d6a77-8bb0-407c-cb6d-cc1929badc51",
        "colab": {
          "base_uri": "https://localhost:8080/",
          "height": 390
        }
      },
      "execution_count": null,
      "outputs": [
        {
          "output_type": "display_data",
          "data": {
            "image/png": "[encoded data removed]",
            "text/plain": [
              "<Figure size 504x432 with 1 Axes>"
            ]
          },
          "metadata": {
            "needs_background": "light"
          }
        }
      ]
    },
    {
      "cell_type": "code",
      "source": [
        "# 그래프용 데이터 변환\n",
        "com_sales2 = pd.pivot_table(df_duponly,index='Year', columns='Company', values='Sales_sum', aggfunc=np.sum).reset_index()\n",
        "com_sales2.fillna(0, inplace=True)\n",
        "\n",
        "# 연도별 회사별 게임 판매량 (선)\n",
        "plt.figure(figsize=(7,6))\n",
        "plt.plot(com_sales2['Year'],com_sales2[['Nintendo','Sony','Microsoft','PC']])\n",
        "plt.title('Total Sales by Game Platform Company')\n",
        "plt.legend(com_sales2[['Nintendo','Sony','Microsoft','PC']], loc='upper left')\n",
        "\n",
        "plt.text(1983, 30, 'NES', color='C0')\n",
        "plt.text(2004, 25, 'DS', color='C0')\n",
        "plt.text(2006, 30, 'Wii', color='C0')\n",
        "\n",
        "plt.text(2000, 100, 'PS2', color='C1')\n",
        "plt.text(2006, 150, 'PS3', color='C1')\n",
        "\n",
        "plt.text(2001, 5, 'XB', color='C2')\n",
        "plt.text(2005, 60, 'X360', color='C2')\n",
        "\n",
        "plt.text(1980, 40, 'Platform Launch', color='black')\n",
        "plt.ylabel('Sum of Sales (M)')\n",
        "plt.axvline(x=1990, color='gray', alpha=0.3, linestyle=':')\n",
        "plt.axvline(x=2000, color='gray', alpha=0.3, linestyle=':')\n",
        "plt.axvline(x=2010, color='gray', alpha=0.3, linestyle=':')"
      ],
      "metadata": {
        "id": "pRP2bHsHrklE",
        "outputId": "6e5779e0-e759-4a6f-d1f5-3304588cf99e",
        "colab": {
          "base_uri": "https://localhost:8080/",
          "height": 408
        }
      },
      "execution_count": null,
      "outputs": [
        {
          "output_type": "execute_result",
          "data": {
            "text/plain": [
              "<matplotlib.lines.Line2D at 0x7ff2f9ef3350>"
            ]
          },
          "metadata": {},
          "execution_count": 66
        },
        {
          "output_type": "display_data",
          "data": {
            "image/png": "[encoded data removed]",
            "text/plain": [
              "<Figure size 504x432 with 1 Axes>"
            ]
          },
          "metadata": {
            "needs_background": "light"
          }
        }
      ]
    },
    {
      "cell_type": "markdown",
      "source": [
        "\n",
        "*   **1980년 ~ 1995년**\n",
        "\n",
        "콘솔게임의 Platform 경쟁이 시작되기 전으로, 대부분 한 종류의 Platform을 지원하는 게임이 출시되었다.\n",
        "\n",
        "*   **1995년 ~ 2000년초**\n",
        "\n",
        "닌텐도가 강세인 시장에 소니가 참전하여 성공하면서 Platform 경쟁이 시작되었다. 기존에 출시된 게임들이 새로운 Platform으로 재출시되거나 처음부터 여러 Platform으로 출시되기 시작했다.\n",
        "\n",
        "*   **2000년~**\n",
        "\n",
        "닌텐도, 소니, MS의 Platform 경쟁이 심화되며 여러 Platform으로 출시되는 게임이 증가했다. 2010년 이후 PC게임이 성장하면서 PC게임으로 함께 출시되는 경우도 등장하였다. "
      ],
      "metadata": {
        "id": "V1mLpXoFr5Yi"
      }
    },
    {
      "cell_type": "code",
      "source": [
        "top6 = df_f.groupby('Platform')['Sales_sum'].sum().sort_values(ascending=False)\n",
        "top6 = pd.DataFrame(top6)\n",
        "top6['ratio %'] = round((top6['Sales_sum'] / top6['Sales_sum'].sum()) *100, 2)\n",
        "top6_table= top6.iloc[0:6]\n",
        "\n",
        "print(top6_table)\n",
        "print('-----------------------------')\n",
        "print('               Total %' , round(top6_table['ratio %'].sum(),2))"
      ],
      "metadata": {
        "id": "NnpeygFBuo2U",
        "outputId": "b4ac52df-0533-4d4c-bcfc-6c1d9ae1fc33",
        "colab": {
          "base_uri": "https://localhost:8080/"
        }
      },
      "execution_count": null,
      "outputs": [
        {
          "output_type": "stream",
          "name": "stdout",
          "text": [
            "          Sales_sum  ratio %\n",
            "Platform                    \n",
            "PS2         1222.44    13.95\n",
            "X360         968.60    11.05\n",
            "PS3          946.74    10.80\n",
            "Wii          900.15    10.27\n",
            "DS           817.24     9.33\n",
            "PS           725.16     8.27\n",
            "-----------------------------\n",
            "               Total % 63.67\n"
          ]
        }
      ]
    },
    {
      "cell_type": "code",
      "source": [
        "game_tren = pd.pivot_table(df_f, index='Year', columns='Usage', values='Sales_sum', aggfunc=np.sum, margins=True).reset_index()\n",
        "game_tren.fillna(0, inplace=True)\n",
        "game_tren = game_tren[:-1]\n",
        "\n",
        "# 연도별 가정용/휴대용 게임 판매량 (선)\n",
        "plt.figure(figsize=(7,5))\n",
        "plt.plot(game_tren['Year'],game_tren[['family','portable']])\n",
        "plt.title('Total Sales')\n",
        "plt.legend(game_tren[['family','portable']], loc='upper right')"
      ],
      "metadata": {
        "id": "rdW4aw1iu1GU",
        "outputId": "033321bc-9aee-4408-8cdd-3b7ff37b7053",
        "colab": {
          "base_uri": "https://localhost:8080/",
          "height": 354
        }
      },
      "execution_count": null,
      "outputs": [
        {
          "output_type": "execute_result",
          "data": {
            "text/plain": [
              "<matplotlib.legend.Legend at 0x7ff2f9d78710>"
            ]
          },
          "metadata": {},
          "execution_count": 72
        },
        {
          "output_type": "display_data",
          "data": {
            "image/png": "[encoded data removed]",
            "text/plain": [
              "<Figure size 504x360 with 1 Axes>"
            ]
          },
          "metadata": {
            "needs_background": "light"
          }
        }
      ]
    },
    {
      "cell_type": "markdown",
      "source": [
        "\n",
        "\n",
        "*   대표적인 Platform 6개가 전체 매출의 64%를 차지한다.\n",
        "\n",
        "\n",
        "*   휴대용 게임시장은 닌텐도**DS**, 소니의 **PSP**와 함께 성장하다가 스마트폰이 등장하면서 위축되었다. 스마트폰 게임이 게임성이나 조작편의 등에서 게임기에 비해 떨어질 수는 있으나 라이트 유저들에게는 별 문제가 되지 않는다. 또한 스마트폰 발전이 빠르게 적용되어 성능이 훨씬 나아졌기 때문으로 보인다.\n",
        "\n"
      ],
      "metadata": {
        "id": "fmcEbBBRsnrS"
      }
    },
    {
      "cell_type": "markdown",
      "source": [
        "#2) 연도별 게임 장르 트렌드\n",
        "\n",
        "\n",
        "*    연도 구분: 1980년-1999년 / 2000년-2005년 / 2006년-2010년 / 2011년-2017년\n",
        "\n"
      ],
      "metadata": {
        "id": "6GFaRPzTvUb2"
      }
    },
    {
      "cell_type": "markdown",
      "source": [
        "\n",
        "\n",
        "*   시대별 주요특징\n",
        "\n",
        "\n",
        "**1.   1980~1999년**\n",
        "\n",
        "* **Platform** 장르의 매출이 두드러진다. 게임에 Platform(발판)이 등장하고, 점프를 하거나 캐릭터를 움직이며 진행하는 게임이다. 대표적으로 슈퍼마리오 게임이 있으며, 지금 만큼 게임기술이 발전하기 전으로 2D Platform 게임이 인기가 있었다. 하지만 매출에 비해 발매된 게임수는 적은편이었고, Sports 장르의 게임 발매가 많았다.\n",
        "* **휴대용** 게임의 매출이 많이 성장했으나 게임 발매는 적었다. 대표적인 게임은 포켓몬, 테트리스가 있다. \n",
        "\n",
        "\n",
        "**2.   2000~2005년**\n",
        "\n",
        "*   Action, Sports분야의 매출이 높고, 발매된 게임의 수도 많다.\n",
        "*   특이한 점은 매출 TOP10 게임에 **Simulation** 장르가 처음 등장한 것이다.  동물의숲(Animal Crossing), 강아지키우기(Nintendogs)가 흥행했기 때문인데, Simulation 게임은 **장시간, 휴대용 게임기**로 플레이 했을때 더 효과적이므로, 닌텐도DS의 발매에 맞춰 좋은 컨텐츠가 출시된 것으로 보인다.    \n",
        "\n",
        "**3.   2006~2010년**\n",
        "\n",
        "* 총 매출과 발매된 게임 수도 가장 많은, **최고의 전성기** 시즌이었다.\n",
        "* 2000년 초부터 흥행한 **소니의 플레이스테이션과 마이크로소프트의 XBOX가 경쟁하며 성장**했다. 또한 닌텐도DS의 전성기 였는데, 닌텐도 Wii가 새로 등장하며 신규 플레이 방식도 추가되었다. \n",
        "\n",
        "\n",
        "**4.   2011~2017년**\n",
        "\n",
        "* 멀티플레이의 어려움, 높은 가격 등의 이유로 게임시장이 비디오게임에서 PC게임으로 트렌드가 급격히 변화하여 총 매출이 급속히 감소하였다.\n",
        "* 그래픽 기술의 발달로 Action, Shooter의 대흥행작들이 등장했고, RPG게임도 발전하였다."
      ],
      "metadata": {
        "id": "0oTdF7lAw61m"
      }
    },
    {
      "cell_type": "code",
      "source": [
        "# 매출\n",
        "year_cond1 = (df_f['Year'] <= 1999)\n",
        "year_cond2 = (df_f['Year'] >=2000) & (df_f['Year']<2006)\n",
        "year_cond3 = (df_f['Year'] >=2006) & (df_f['Year']<2011)\n",
        "year_cond4 = (df_f['Year'] >=2011) & (df_f['Year']<2017)\n",
        "\n",
        "fig, axes = plt.subplots(nrows=1, ncols=4)\n",
        "axes[0].set_title('1980-1999 Sales_Sum');\n",
        "axes[1].set_title('2000-2005 Sales_Sum');\n",
        "axes[2].set_title('2006-2010 Sales_Sum');\n",
        "axes[3].set_title('2011-2017 Sales_Sum');\n",
        "\n",
        "axes[0].axhline(200, color='gray', alpha=0.3, ls='--')\n",
        "axes[1].axhline(200, color='gray', alpha=0.3, ls='--')\n",
        "axes[2].axhline(200, color='gray', alpha=0.3, ls='--')\n",
        "axes[3].axhline(200, color='gray', alpha=0.3, ls='--')\n",
        "\n",
        "pd.pivot_table(df_f.loc[year_cond1], index='Genre', columns='Usage', values='Sales_sum', aggfunc='sum').plot.bar(ax=axes[0], figsize=(20,5), ylim=(0,650));\n",
        "pd.pivot_table(df_f.loc[year_cond2], index='Genre', columns='Usage', values='Sales_sum', aggfunc='sum').plot.bar(ax=axes[1], figsize=(20,5), ylim=(0,650));\n",
        "pd.pivot_table(df_f.loc[year_cond3], index='Genre', columns='Usage', values='Sales_sum', aggfunc='sum').plot.bar(ax=axes[2], figsize=(20,5), ylim=(0,650));\n",
        "pd.pivot_table(df_f.loc[year_cond4], index='Genre', columns='Usage', values='Sales_sum', aggfunc='sum').plot.bar(ax=axes[3], figsize=(20,5), ylim=(0,650));"
      ],
      "metadata": {
        "id": "bahJrUKmr6RB",
        "outputId": "f3cc9dae-0e8c-4f44-f3ad-02461768dd98",
        "colab": {
          "base_uri": "https://localhost:8080/",
          "height": 401
        }
      },
      "execution_count": null,
      "outputs": [
        {
          "output_type": "display_data",
          "data": {
            "image/png": "[encoded data removed]",
            "text/plain": [
              "<Figure size 1440x360 with 4 Axes>"
            ]
          },
          "metadata": {
            "needs_background": "light"
          }
        }
      ]
    },
    {
      "cell_type": "code",
      "source": [
        "# 출시 게임수\n",
        "year_cond1 = (df_f['Year'] <= 1999)\n",
        "year_cond2 = (df_f['Year'] >=2000) & (df_f['Year']<2006)\n",
        "year_cond3 = (df_f['Year'] >=2006) & (df_f['Year']<2011)\n",
        "year_cond4 = (df_f['Year'] >=2011) & (df_f['Year']<2017)\n",
        "\n",
        "fig, axes = plt.subplots(nrows=1, ncols=4)\n",
        "axes[0].set_title('1980-1999 Game qty');\n",
        "axes[1].set_title('2000-2005 Game qty');\n",
        "axes[2].set_title('2006-2010 Game qty');\n",
        "axes[3].set_title('2011-2017 Game qty');\n",
        "\n",
        "axes[0].axhline(300, color='gray', alpha=0.3, ls='--')\n",
        "axes[1].axhline(300, color='gray', alpha=0.3, ls='--')\n",
        "axes[2].axhline(300, color='gray', alpha=0.3, ls='--')\n",
        "axes[3].axhline(300, color='gray', alpha=0.3, ls='--')\n",
        "\n",
        "pd.pivot_table(df_f.loc[year_cond1], index='Genre', columns='Usage', values='Name', aggfunc='count').plot.bar(ax=axes[0], figsize=(20,5), ylim=(0,850));\n",
        "pd.pivot_table(df_f.loc[year_cond2], index='Genre', columns='Usage', values='Name', aggfunc='count').plot.bar(ax=axes[1], figsize=(20,5), ylim=(0,850));\n",
        "pd.pivot_table(df_f.loc[year_cond3], index='Genre', columns='Usage', values='Name', aggfunc='count').plot.bar(ax=axes[2], figsize=(20,5), ylim=(0,850));\n",
        "pd.pivot_table(df_f.loc[year_cond4], index='Genre', columns='Usage', values='Name', aggfunc='count').plot.bar(ax=axes[3], figsize=(20,5), ylim=(0,850));"
      ],
      "metadata": {
        "id": "MFP7PJhRwPxM",
        "outputId": "00c7aa57-a1d7-4ff7-d0f6-d02ba1d9f60c",
        "colab": {
          "base_uri": "https://localhost:8080/",
          "height": 401
        }
      },
      "execution_count": null,
      "outputs": [
        {
          "output_type": "display_data",
          "data": {
            "image/png": "[encoded data removed]",
            "text/plain": [
              "<Figure size 1440x360 with 4 Axes>"
            ]
          },
          "metadata": {
            "needs_background": "light"
          }
        }
      ]
    },
    {
      "cell_type": "code",
      "source": [
        "# 연도별 매출 상위 게임 검색\n",
        "df_f.loc[year_cond1].sort_values('Sales_sum', ascending=False).head(2)\n",
        "df_f.loc[year_cond2].sort_values('Sales_sum', ascending=False).head(2)\n",
        "df_f.loc[year_cond3].sort_values('Sales_sum', ascending=False).head(2)\n",
        "df_f.loc[year_cond4].sort_values('Sales_sum', ascending=False).head(2)\n",
        "\n",
        "# 플랫폼에 따른 검색\n",
        "pla_cond = df_f['Platform']=='PC' \n",
        "df_f.loc[pla_cond].sort_values('Sales_sum', ascending=False).head(2)"
      ],
      "metadata": {
        "id": "wRXekix0wcDR",
        "outputId": "325cf3fa-3062-41f0-d003-b4d98da3661c",
        "colab": {
          "base_uri": "https://localhost:8080/",
          "height": 112
        }
      },
      "execution_count": null,
      "outputs": [
        {
          "output_type": "execute_result",
          "data": {
            "text/html": [
              "<div>\n",
              "<style scoped>\n",
              "    .dataframe tbody tr th:only-of-type {\n",
              "        vertical-align: middle;\n",
              "    }\n",
              "\n",
              "    .dataframe tbody tr th {\n",
              "        vertical-align: top;\n",
              "    }\n",
              "\n",
              "    .dataframe thead th {\n",
              "        text-align: right;\n",
              "    }\n",
              "</style>\n",
              "<table border=\"1\" class=\"dataframe\">\n",
              "  <thead>\n",
              "    <tr style=\"text-align: right;\">\n",
              "      <th></th>\n",
              "      <th>Name</th>\n",
              "      <th>Platform</th>\n",
              "      <th>Year</th>\n",
              "      <th>Genre</th>\n",
              "      <th>Publisher</th>\n",
              "      <th>NA_Sales</th>\n",
              "      <th>EU_Sales</th>\n",
              "      <th>JP_Sales</th>\n",
              "      <th>Other_Sales</th>\n",
              "      <th>Sales_sum</th>\n",
              "      <th>Company</th>\n",
              "      <th>Usage</th>\n",
              "    </tr>\n",
              "  </thead>\n",
              "  <tbody>\n",
              "    <tr>\n",
              "      <th>5438</th>\n",
              "      <td>The Sims 3</td>\n",
              "      <td>PC</td>\n",
              "      <td>2009</td>\n",
              "      <td>Simulation</td>\n",
              "      <td>Electronic Arts</td>\n",
              "      <td>0.98</td>\n",
              "      <td>6.42</td>\n",
              "      <td>0.0</td>\n",
              "      <td>0.71</td>\n",
              "      <td>8.11</td>\n",
              "      <td>PC</td>\n",
              "      <td>family</td>\n",
              "    </tr>\n",
              "    <tr>\n",
              "      <th>5916</th>\n",
              "      <td>World of Warcraft</td>\n",
              "      <td>PC</td>\n",
              "      <td>2004</td>\n",
              "      <td>Role-Playing</td>\n",
              "      <td>Activision</td>\n",
              "      <td>0.07</td>\n",
              "      <td>6.21</td>\n",
              "      <td>0.0</td>\n",
              "      <td>0.00</td>\n",
              "      <td>6.28</td>\n",
              "      <td>PC</td>\n",
              "      <td>family</td>\n",
              "    </tr>\n",
              "  </tbody>\n",
              "</table>\n",
              "</div>"
            ],
            "text/plain": [
              "                   Name Platform  Year  ... Sales_sum Company   Usage\n",
              "5438         The Sims 3       PC  2009  ...      8.11      PC  family\n",
              "5916  World of Warcraft       PC  2004  ...      6.28      PC  family\n",
              "\n",
              "[2 rows x 12 columns]"
            ]
          },
          "metadata": {},
          "execution_count": 75
        }
      ]
    },
    {
      "cell_type": "markdown",
      "source": [
        "## 출고량이 높은 게임에 대한 분석 및 시각화 프로세스"
      ],
      "metadata": {
        "id": "QHDQoP9xxstC"
      }
    },
    {
      "cell_type": "markdown",
      "source": [
        "1) 누적 매출 TOP10 게임현황"
      ],
      "metadata": {
        "id": "3M3gT_8Zx0l8"
      }
    },
    {
      "cell_type": "code",
      "source": [
        "# 1) 조건없이 총매출이 가장 높은 TOP 10 -- 파이차트\n",
        "top10 = df_f.sort_values('Sales_sum', ascending=False)\n",
        "top10 = top10.iloc[:10].reset_index(drop=True)\n",
        "print(top10['Sales_sum'].sum()/df_f['Sales_sum'].sum())\n",
        "# 전체 매출에서 비중 4.2% → 누적기준으로 한종류 게임이 오래, 많이 팔리는 것은 아님\n",
        "# 비중이 높지 않지만 인기 게임의 특징 파악\n",
        "\n",
        "# tidy data 만들기\n",
        "region_list = ['NA_Sales','EU_Sales',\t'JP_Sales',\t'Other_Sales']\n",
        "top10_tidy = pd.melt(top10, id_vars=['Name'], value_vars=region_list, var_name='Country', value_name='Sales')"
      ],
      "metadata": {
        "id": "6fKiE_yJxukf",
        "outputId": "79771006-b0b0-4eae-ac3c-3f8c6952e81b",
        "colab": {
          "base_uri": "https://localhost:8080/"
        }
      },
      "execution_count": null,
      "outputs": [
        {
          "output_type": "stream",
          "name": "stdout",
          "text": [
            "0.04214995703874273\n"
          ]
        }
      ]
    },
    {
      "cell_type": "code",
      "source": [
        "df_1 = top10_tidy.groupby('Country')['Sales'].sum()\n",
        "df_1 = pd.DataFrame(df_1).sort_values(by='Sales', ascending=False)\n",
        "df_1 = df_1.rename(index={'Other_Sales':'Other', 'JP_Sales':'JP', 'EU_Sales':'EU', 'NA_Sales':'NA'})\n",
        "df_2 = top10.groupby('Genre')['Sales_sum'].sum()\n",
        "df_2 = pd.DataFrame(df_2).sort_values(by='Sales_sum', ascending=False)\n",
        "df_3 = top10.groupby('Platform')['Sales_sum'].sum()\n",
        "df_3 = pd.DataFrame(df_3).sort_values(by='Sales_sum', ascending=False)\n",
        "df_4 = top10.groupby('Usage')['Sales_sum'].sum()\n",
        "df_4 = pd.DataFrame(df_4).sort_values(by='Sales_sum', ascending=False)"
      ],
      "metadata": {
        "id": "NOujoTH4x6FO"
      },
      "execution_count": null,
      "outputs": []
    },
    {
      "cell_type": "code",
      "source": [
        "colors = sns.color_palette('RdPu',9)\n",
        "\n",
        "plt.figure(figsize=(23,7))\n",
        "\n",
        "plt.subplot(141) \n",
        "plt.pie(df_1['Sales'], labels=df_1.index, autopct='%.1f%%', colors=colors)\n",
        "plt.title('Sales by Country')\n",
        "plt.subplot(142) \n",
        "plt.pie(df_2['Sales_sum'], labels=df_2.index, autopct='%.1f%%', colors=colors)\n",
        "plt.title('Sales by Genre')\n",
        "plt.subplot(143) \n",
        "plt.pie(df_3['Sales_sum'], labels=df_3.index, autopct='%.1f%%', colors=colors)\n",
        "plt.title('Sales by Platform')\n",
        "plt.subplot(144) \n",
        "plt.pie(df_4['Sales_sum'], labels=df_4.index, autopct='%.1f%%', colors=colors)\n",
        "plt.title('Sales by Usage')"
      ],
      "metadata": {
        "id": "OwLh4xsYx9HN",
        "outputId": "22a0de8d-5df2-4e31-9de4-0a90af13ba7d",
        "colab": {
          "base_uri": "https://localhost:8080/",
          "height": 344
        }
      },
      "execution_count": null,
      "outputs": [
        {
          "output_type": "execute_result",
          "data": {
            "text/plain": [
              "Text(0.5, 1.0, 'Sales by Usage')"
            ]
          },
          "metadata": {},
          "execution_count": 78
        },
        {
          "output_type": "display_data",
          "data": {
            "image/png": "[encoded data removed]",
            "text/plain": [
              "<Figure size 1656x504 with 4 Axes>"
            ]
          },
          "metadata": {}
        }
      ]
    },
    {
      "cell_type": "code",
      "source": [
        "# 그래프용 데이터 변환\n",
        "com_sales3 = pd.pivot_table(df_duponly,index='Year', columns='Platform', values='Sales_sum', aggfunc=np.sum).reset_index()\n",
        "com_sales3.fillna(0, inplace=True)\n",
        "\n",
        "plt.figure(figsize=(15,5))\n",
        "# 연도별 회사별 게임 판매량 (선)\n",
        "plt.subplot(211) \n",
        "plt.plot(com_sales3['Year'],com_sales3[['Wii','WiiU', 'DS', 'NES', 'GB']])\n",
        "plt.title('Total Sales by Game Platform')\n",
        "plt.legend(com_sales3[['Wii','WiiU', 'DS', 'NES', 'GB']], loc='upper left')\n",
        "plt.ylabel('Sum of Sales (M)')\n",
        "plt.ylim(0,150)\n",
        "plt.axvline(x=2000, color='gray', alpha=0.3, linestyle=':')\n",
        "plt.axvline(x=2005, color='gray', alpha=0.3, linestyle=':')\n",
        "plt.axvline(x=2010, color='gray', alpha=0.3, linestyle=':')\n",
        "\n",
        "# 연도별 회사별 게임 판매량 (선)\n",
        "plt.subplot(212) \n",
        "plt.plot(com_sales3['Year'],com_sales3[['PS','PS2','PS3']])\n",
        "plt.legend(com_sales3[['PS','PS2','PS3']], loc='upper left')\n",
        "plt.ylabel('Sum of Sales (M)')\n",
        "plt.ylim(0,150)\n",
        "plt.axvline(x=2000, color='gray', alpha=0.3, linestyle=':')\n",
        "plt.axvline(x=2005, color='gray', alpha=0.3, linestyle=':')\n",
        "plt.axvline(x=2010, color='gray', alpha=0.3, linestyle=':')"
      ],
      "metadata": {
        "id": "Ldd9lgL_yFv9",
        "outputId": "c9e48a2f-583e-4f77-930b-67b3e87382e6",
        "colab": {
          "base_uri": "https://localhost:8080/",
          "height": 354
        }
      },
      "execution_count": null,
      "outputs": [
        {
          "output_type": "execute_result",
          "data": {
            "text/plain": [
              "<matplotlib.lines.Line2D at 0x7ff2f97ec690>"
            ]
          },
          "metadata": {},
          "execution_count": 79
        },
        {
          "output_type": "display_data",
          "data": {
            "image/png": "[encoded data removed]",
            "text/plain": [
              "<Figure size 1080x360 with 2 Axes>"
            ]
          },
          "metadata": {
            "needs_background": "light"
          }
        }
      ]
    },
    {
      "cell_type": "markdown",
      "source": [
        "\n",
        "\n",
        "*   매출량이 많은 게임 TOP10이 전체 매출에서 비중 4.2%이며, 전부 **닌텐도**의 게임이다. \n",
        "*   판매 1위인 **'Wii Sports'**가 2위 'Super Mario Bros.' 매출의 2배를 넘는 높은 기록을 세웠다.\n",
        "*   TOP10의 지역별 매출 역시 전체Trend와 동일하게 북미 > 유럽 > 일본 > 기타 순으로 매출이 많다.\n",
        "*   매출1위와 4위를 한 Wii Sports 시리즈의 영향으로, 가장 인기있는 장르가 Sports가 되었다.\n",
        "*   특히 TOP10의 절반이 **Wii**의 게임으로, Wii Platform(family용)이 가장 우세한 것으로 나왔다.\n",
        "*   하지만 크게 성공했던 Wii가 **2009년 기점으로 정체**되어 10년부터 하락하기 시작했으며, 후속작 WiiU도 결국 실패했다. 판매량으로 성공했었지만 오래 지속되지 못했다. 콘솔시장 Platform에서 영향력은 소니의 **PS**시리즈가 매우 강력하다. \n",
        "\n",
        "\n",
        "\n"
      ],
      "metadata": {
        "id": "NaWnQ5aVyKcG"
      }
    },
    {
      "cell_type": "markdown",
      "source": [
        "2) 최근 5개년 데이터 (~17년)"
      ],
      "metadata": {
        "id": "FfoXb0u-yYQI"
      }
    },
    {
      "cell_type": "code",
      "source": [
        "con_year = (df_f['Year'] >= 2013) &(df_f['Year'] <2020)\n",
        "latest_year = df_f[con_year]\n",
        "latest_yearsum = latest_year.replace({'Puzzle':'etc', 'Strategy':'etc', 'PSP':'etc', 'DS':'etc'})"
      ],
      "metadata": {
        "id": "eRa_2vSbyO6D"
      },
      "execution_count": null,
      "outputs": []
    },
    {
      "cell_type": "code",
      "source": [
        "region_list = ['NA_Sales','EU_Sales',\t'JP_Sales',\t'Other_Sales']\n",
        "latest_tidy = pd.melt(latest_year, id_vars=['Name'], value_vars=region_list, var_name='Country', value_name='Sales')\n",
        "df_11 = latest_tidy.groupby('Country')['Sales'].sum()\n",
        "df_11 = pd.DataFrame(df_11).sort_values(by='Sales', ascending=False)\n",
        "df_11 = df_11.rename(index={'Other_Sales':'Other', 'JP_Sales':'JP', 'EU_Sales':'EU', 'NA_Sales':'NA'})\n",
        "\n",
        "df_12 = latest_yearsum.groupby('Genre')['Sales_sum'].sum()\n",
        "df_12 = pd.DataFrame(df_12).sort_values(by='Sales_sum', ascending=False)\n",
        "\n",
        "df_13 = latest_yearsum.groupby('Platform')['Sales_sum'].sum()\n",
        "df_13 = pd.DataFrame(df_13).sort_values(by='Sales_sum', ascending=False)\n",
        "\n",
        "df_14 = latest_year.groupby('Usage')['Sales_sum'].sum()\n",
        "df_14 = pd.DataFrame(df_14).sort_values(by='Sales_sum', ascending=False)"
      ],
      "metadata": {
        "id": "mTNy6Vg5yh5r"
      },
      "execution_count": null,
      "outputs": []
    },
    {
      "cell_type": "code",
      "source": [
        "colors = sns.color_palette('RdPu',11)\n",
        "plt.figure(figsize=(23,7))\n",
        "\n",
        "plt.subplot(141) \n",
        "plt.pie(df_11['Sales'], labels=df_11.index, autopct='%.1f%%', colors=colors)\n",
        "plt.title('Sales by Country')\n",
        "plt.subplot(142) \n",
        "plt.pie(df_12['Sales_sum'], labels=df_12.index, autopct='%.1f%%', colors=colors)\n",
        "plt.title('Sales by Genre')\n",
        "plt.subplot(143) \n",
        "plt.pie(df_13['Sales_sum'], labels=df_13.index, autopct='%.1f%%', colors=colors)\n",
        "plt.title('Sales by Platform')\n",
        "plt.subplot(144) \n",
        "plt.pie(df_14['Sales_sum'], labels=df_14.index, autopct='%.1f%%', colors=colors)\n",
        "plt.title('Sales by Usage')"
      ],
      "metadata": {
        "id": "xFgB6z4-yl4b",
        "outputId": "711606ad-2a24-4efd-a574-c8fdcc3752fe",
        "colab": {
          "base_uri": "https://localhost:8080/",
          "height": 344
        }
      },
      "execution_count": null,
      "outputs": [
        {
          "output_type": "execute_result",
          "data": {
            "text/plain": [
              "Text(0.5, 1.0, 'Sales by Usage')"
            ]
          },
          "metadata": {},
          "execution_count": 82
        },
        {
          "output_type": "display_data",
          "data": {
            "image/png": "[encoded data removed]",
            "text/plain": [
              "<Figure size 1656x504 with 4 Axes>"
            ]
          },
          "metadata": {}
        }
      ]
    },
    {
      "cell_type": "markdown",
      "source": [
        "*   최근 5개년도 지역별 매출 Trend는 유지가 되어 북미 > 유럽 > 일본 > 기타 순으로 매출이 많다.\n",
        "*   장르는 지속적으로 강세였던 **Action, Shooter, Sports**가 여전히 매출 상위권 이다.\n",
        "*   Platform에서는 소니의 **PS** 시리즈가 상위권을 차지하며, 여전히 MS **XBOX**, 닌텐도와 경쟁하고 있다. \n",
        "*   북미,유럽 매출이 높으므로 그 영향을 받아 여전히 콘솔(family)이 비중이 높다.\n",
        "*   모바일 게임의 득세이후 휴대용 게임시장은 파이가 상당히 줄었고, 2017년 닌텐도 스위치 출시 이후로는 사실상 단독 휴대용 게임기 콘솔시장이 사라졌다고 할 수 있다.\n"
      ],
      "metadata": {
        "id": "fRZzsYiJypi0"
      }
    },
    {
      "cell_type": "markdown",
      "source": [
        "3-1) 다중 플랫폼으로 출시된 게임 현황\n",
        "\n",
        "\n",
        "\n",
        "*    PS와 XBOX가 콘솔시장의 큰 비중을 차지하고 있다.\n",
        "*   콘솔과 PC가 시스템 구조적으로 유사하게 발전하면서, 여태까지 다른 경향을 띠던 콘솔과 PC게임의 경계가 허물어지며 콘솔에 출시되던 게임들이 PC에도 같이 출시되는 경우가 증가했다. \n",
        "*   전체 매출중 **52%**가 **같은 게임이 여러 플랫폼으로 출시**되었다.\n",
        "*   당연히 다양한 버전으로 발매하면 총 매출은 증가한다. 하지만 발매종류가 계속 많아져도, 모든 버전이 판매에 성공하는 것은 아니므로 평균 매출이 감소할 수 있어 항상 양의 상관관계가 있는 것은 아니다. (통계적 검증)\n",
        "\n",
        "\n",
        "\n",
        "\n"
      ],
      "metadata": {
        "id": "NGaNwDeiysw7"
      }
    },
    {
      "cell_type": "code",
      "source": [
        "df_duponly['Sales_sum'].sum() / df_f['Sales_sum'].sum()"
      ],
      "metadata": {
        "id": "r6C2id5Cyqxw",
        "outputId": "ea6f3135-cfd4-41c3-abac-6a6aabab05cc",
        "colab": {
          "base_uri": "https://localhost:8080/"
        }
      },
      "execution_count": null,
      "outputs": [
        {
          "output_type": "execute_result",
          "data": {
            "text/plain": [
              "0.5234130294133421"
            ]
          },
          "metadata": {},
          "execution_count": 83
        }
      ]
    },
    {
      "cell_type": "code",
      "source": [
        "# 매출 합계\n",
        "sales_g = df_duponly.groupby('Name')['Sales_sum'].sum().sort_values(ascending=False)\n",
        "sales_g = pd.DataFrame(sales_g)\n",
        "\n",
        "# 출시된 platform 수\n",
        "df_dupcon = df_duponly['Name'].value_counts()\n",
        "df_dupcon = pd.DataFrame(df_dupcon)\n",
        "\n",
        "last = sales_g.join(df_dupcon) \n",
        "last = last.rename(columns={'Name':'Type'})\n",
        "last['Average'] = last['Sales_sum']/last['Type']"
      ],
      "metadata": {
        "id": "5Ny8flXey20X"
      },
      "execution_count": null,
      "outputs": []
    },
    {
      "cell_type": "code",
      "source": [
        "# sales_sum 상위 5개 게임\n",
        "last.sort_values(by='Sales_sum', ascending=False).iloc[:5]"
      ],
      "metadata": {
        "id": "MQ7tgGY0y9Z7",
        "outputId": "06512323-abfd-4c33-984f-daf9d7cc55bc",
        "colab": {
          "base_uri": "https://localhost:8080/",
          "height": 237
        }
      },
      "execution_count": null,
      "outputs": [
        {
          "output_type": "execute_result",
          "data": {
            "text/html": [
              "<div>\n",
              "<style scoped>\n",
              "    .dataframe tbody tr th:only-of-type {\n",
              "        vertical-align: middle;\n",
              "    }\n",
              "\n",
              "    .dataframe tbody tr th {\n",
              "        vertical-align: top;\n",
              "    }\n",
              "\n",
              "    .dataframe thead th {\n",
              "        text-align: right;\n",
              "    }\n",
              "</style>\n",
              "<table border=\"1\" class=\"dataframe\">\n",
              "  <thead>\n",
              "    <tr style=\"text-align: right;\">\n",
              "      <th></th>\n",
              "      <th>Sales_sum</th>\n",
              "      <th>Type</th>\n",
              "      <th>Average</th>\n",
              "    </tr>\n",
              "    <tr>\n",
              "      <th>Name</th>\n",
              "      <th></th>\n",
              "      <th></th>\n",
              "      <th></th>\n",
              "    </tr>\n",
              "  </thead>\n",
              "  <tbody>\n",
              "    <tr>\n",
              "      <th>Grand Theft Auto V</th>\n",
              "      <td>55.92</td>\n",
              "      <td>5</td>\n",
              "      <td>11.1840</td>\n",
              "    </tr>\n",
              "    <tr>\n",
              "      <th>Super Mario Bros.</th>\n",
              "      <td>45.31</td>\n",
              "      <td>2</td>\n",
              "      <td>22.6550</td>\n",
              "    </tr>\n",
              "    <tr>\n",
              "      <th>Tetris</th>\n",
              "      <td>35.84</td>\n",
              "      <td>2</td>\n",
              "      <td>17.9200</td>\n",
              "    </tr>\n",
              "    <tr>\n",
              "      <th>Call of Duty: Modern Warfare 3</th>\n",
              "      <td>30.84</td>\n",
              "      <td>4</td>\n",
              "      <td>7.7100</td>\n",
              "    </tr>\n",
              "    <tr>\n",
              "      <th>Call of Duty: Black Ops II</th>\n",
              "      <td>29.73</td>\n",
              "      <td>4</td>\n",
              "      <td>7.4325</td>\n",
              "    </tr>\n",
              "  </tbody>\n",
              "</table>\n",
              "</div>"
            ],
            "text/plain": [
              "                                Sales_sum  Type  Average\n",
              "Name                                                    \n",
              "Grand Theft Auto V                  55.92     5  11.1840\n",
              "Super Mario Bros.                   45.31     2  22.6550\n",
              "Tetris                              35.84     2  17.9200\n",
              "Call of Duty: Modern Warfare 3      30.84     4   7.7100\n",
              "Call of Duty: Black Ops II          29.73     4   7.4325"
            ]
          },
          "metadata": {},
          "execution_count": 86
        }
      ]
    },
    {
      "cell_type": "code",
      "source": [
        "# 발매 수량 반영한 average_sales 상위 5개\n",
        "last.sort_values(by='Average', ascending=False).iloc[:5]"
      ],
      "metadata": {
        "id": "NIXhebLszBZ7",
        "outputId": "5bb53cea-00ea-4d10-974d-0fb1f0e7fe93",
        "colab": {
          "base_uri": "https://localhost:8080/",
          "height": 237
        }
      },
      "execution_count": null,
      "outputs": [
        {
          "output_type": "execute_result",
          "data": {
            "text/html": [
              "<div>\n",
              "<style scoped>\n",
              "    .dataframe tbody tr th:only-of-type {\n",
              "        vertical-align: middle;\n",
              "    }\n",
              "\n",
              "    .dataframe tbody tr th {\n",
              "        vertical-align: top;\n",
              "    }\n",
              "\n",
              "    .dataframe thead th {\n",
              "        text-align: right;\n",
              "    }\n",
              "</style>\n",
              "<table border=\"1\" class=\"dataframe\">\n",
              "  <thead>\n",
              "    <tr style=\"text-align: right;\">\n",
              "      <th></th>\n",
              "      <th>Sales_sum</th>\n",
              "      <th>Type</th>\n",
              "      <th>Average</th>\n",
              "    </tr>\n",
              "    <tr>\n",
              "      <th>Name</th>\n",
              "      <th></th>\n",
              "      <th></th>\n",
              "      <th></th>\n",
              "    </tr>\n",
              "  </thead>\n",
              "  <tbody>\n",
              "    <tr>\n",
              "      <th>Super Mario Bros.</th>\n",
              "      <td>45.31</td>\n",
              "      <td>2</td>\n",
              "      <td>22.655</td>\n",
              "    </tr>\n",
              "    <tr>\n",
              "      <th>Tetris</th>\n",
              "      <td>35.84</td>\n",
              "      <td>2</td>\n",
              "      <td>17.920</td>\n",
              "    </tr>\n",
              "    <tr>\n",
              "      <th>Super Mario World</th>\n",
              "      <td>26.09</td>\n",
              "      <td>2</td>\n",
              "      <td>13.045</td>\n",
              "    </tr>\n",
              "    <tr>\n",
              "      <th>Super Mario Bros. 3</th>\n",
              "      <td>22.49</td>\n",
              "      <td>2</td>\n",
              "      <td>11.245</td>\n",
              "    </tr>\n",
              "    <tr>\n",
              "      <th>Grand Theft Auto V</th>\n",
              "      <td>55.92</td>\n",
              "      <td>5</td>\n",
              "      <td>11.184</td>\n",
              "    </tr>\n",
              "  </tbody>\n",
              "</table>\n",
              "</div>"
            ],
            "text/plain": [
              "                     Sales_sum  Type  Average\n",
              "Name                                         \n",
              "Super Mario Bros.        45.31     2   22.655\n",
              "Tetris                   35.84     2   17.920\n",
              "Super Mario World        26.09     2   13.045\n",
              "Super Mario Bros. 3      22.49     2   11.245\n",
              "Grand Theft Auto V       55.92     5   11.184"
            ]
          },
          "metadata": {},
          "execution_count": 87
        }
      ]
    },
    {
      "cell_type": "code",
      "source": [
        "# 출시된 플랫폼이 많으면 매출이 증가하는가 (상관관계 분석)\n",
        "# 상관계수가 0.35로 양적 선형관계가 성립한다고 볼 수 있다.\n",
        "np.corrcoef(last['Sales_sum'],last['Type'])"
      ],
      "metadata": {
        "id": "eqNnrBshzEFJ",
        "outputId": "6b224055-a17f-4d03-a235-680bfc63d5c7",
        "colab": {
          "base_uri": "https://localhost:8080/"
        }
      },
      "execution_count": null,
      "outputs": [
        {
          "output_type": "execute_result",
          "data": {
            "text/plain": [
              "array([[1.        , 0.34637153],\n",
              "       [0.34637153, 1.        ]])"
            ]
          },
          "metadata": {},
          "execution_count": 88
        }
      ]
    },
    {
      "cell_type": "code",
      "source": [
        "# 상관관계 검정\n",
        "# 귀무가설: 상관관계가 없다\n",
        "# pvalue <0.05 이므로 귀무가설을 기각, 상관관계가 있다.\n",
        "stats.pearsonr(last['Sales_sum'],last['Type'])"
      ],
      "metadata": {
        "id": "V-3AFKjbzGlT",
        "outputId": "9f4309d0-bcc2-496a-ec47-27958ccb7945",
        "colab": {
          "base_uri": "https://localhost:8080/"
        }
      },
      "execution_count": null,
      "outputs": [
        {
          "output_type": "execute_result",
          "data": {
            "text/plain": [
              "(0.34637152664909454, 2.732910137510186e-77)"
            ]
          },
          "metadata": {},
          "execution_count": 89
        }
      ]
    },
    {
      "cell_type": "code",
      "source": [
        "# 상관계수가 0.89로 강한 양적 선형관계가 성립한다고 볼 수 있다.\n",
        "np.corrcoef(last['Sales_sum'],last['Average'])"
      ],
      "metadata": {
        "id": "FOjp8vHkzJNT",
        "outputId": "33aadc31-ce93-4b77-db2b-023f309e08ec",
        "colab": {
          "base_uri": "https://localhost:8080/"
        }
      },
      "execution_count": null,
      "outputs": [
        {
          "output_type": "execute_result",
          "data": {
            "text/plain": [
              "array([[1.        , 0.89242528],\n",
              "       [0.89242528, 1.        ]])"
            ]
          },
          "metadata": {},
          "execution_count": 90
        }
      ]
    },
    {
      "cell_type": "code",
      "source": [
        "# 상관계수가 0.07로 상관관계가 성립하지 않는다.\n",
        "np.corrcoef(last['Type'],last['Average'])"
      ],
      "metadata": {
        "id": "qh_Oc0wwzMKL",
        "outputId": "2a27a0bf-f1c2-4bac-9049-b89a14841f3b",
        "colab": {
          "base_uri": "https://localhost:8080/"
        }
      },
      "execution_count": null,
      "outputs": [
        {
          "output_type": "execute_result",
          "data": {
            "text/plain": [
              "array([[1.       , 0.0756721],\n",
              "       [0.0756721, 1.       ]])"
            ]
          },
          "metadata": {},
          "execution_count": 91
        }
      ]
    },
    {
      "cell_type": "markdown",
      "source": [
        "3-2) 플랫폼과 장르의 연관성\n",
        "*   장르에 따라 출시되는 플랫폼이 연관이 있는가"
      ],
      "metadata": {
        "id": "Y6lORc1IzPjr"
      }
    },
    {
      "cell_type": "code",
      "source": [
        "plat_gen = pd.pivot_table(latest_year, index='Genre', columns='Platform', values='Sales_sum', aggfunc=np.sum)\n",
        "plat_gen = plat_gen.fillna(0)\n",
        "plat_gen"
      ],
      "metadata": {
        "id": "ZpIh06W7zQmj",
        "outputId": "6c86a900-780d-4259-cec9-b4ae9a749073",
        "colab": {
          "base_uri": "https://localhost:8080/",
          "height": 457
        }
      },
      "execution_count": null,
      "outputs": [
        {
          "output_type": "execute_result",
          "data": {
            "text/html": [
              "<div>\n",
              "<style scoped>\n",
              "    .dataframe tbody tr th:only-of-type {\n",
              "        vertical-align: middle;\n",
              "    }\n",
              "\n",
              "    .dataframe tbody tr th {\n",
              "        vertical-align: top;\n",
              "    }\n",
              "\n",
              "    .dataframe thead th {\n",
              "        text-align: right;\n",
              "    }\n",
              "</style>\n",
              "<table border=\"1\" class=\"dataframe\">\n",
              "  <thead>\n",
              "    <tr style=\"text-align: right;\">\n",
              "      <th>Platform</th>\n",
              "      <th>3DS</th>\n",
              "      <th>DS</th>\n",
              "      <th>PC</th>\n",
              "      <th>PS3</th>\n",
              "      <th>PS4</th>\n",
              "      <th>PSP</th>\n",
              "      <th>PSV</th>\n",
              "      <th>Wii</th>\n",
              "      <th>WiiU</th>\n",
              "      <th>X360</th>\n",
              "      <th>XOne</th>\n",
              "    </tr>\n",
              "    <tr>\n",
              "      <th>Genre</th>\n",
              "      <th></th>\n",
              "      <th></th>\n",
              "      <th></th>\n",
              "      <th></th>\n",
              "      <th></th>\n",
              "      <th></th>\n",
              "      <th></th>\n",
              "      <th></th>\n",
              "      <th></th>\n",
              "      <th></th>\n",
              "      <th></th>\n",
              "    </tr>\n",
              "  </thead>\n",
              "  <tbody>\n",
              "    <tr>\n",
              "      <th>Action</th>\n",
              "      <td>32.83</td>\n",
              "      <td>0.67</td>\n",
              "      <td>6.91</td>\n",
              "      <td>73.78</td>\n",
              "      <td>84.70</td>\n",
              "      <td>0.87</td>\n",
              "      <td>11.61</td>\n",
              "      <td>3.22</td>\n",
              "      <td>14.90</td>\n",
              "      <td>49.06</td>\n",
              "      <td>33.78</td>\n",
              "    </tr>\n",
              "    <tr>\n",
              "      <th>Adventure</th>\n",
              "      <td>3.24</td>\n",
              "      <td>0.03</td>\n",
              "      <td>0.47</td>\n",
              "      <td>4.53</td>\n",
              "      <td>4.70</td>\n",
              "      <td>0.71</td>\n",
              "      <td>3.77</td>\n",
              "      <td>0.27</td>\n",
              "      <td>0.19</td>\n",
              "      <td>2.12</td>\n",
              "      <td>2.49</td>\n",
              "    </tr>\n",
              "    <tr>\n",
              "      <th>Fighting</th>\n",
              "      <td>8.08</td>\n",
              "      <td>0.00</td>\n",
              "      <td>0.10</td>\n",
              "      <td>6.16</td>\n",
              "      <td>8.04</td>\n",
              "      <td>0.02</td>\n",
              "      <td>1.47</td>\n",
              "      <td>0.00</td>\n",
              "      <td>6.16</td>\n",
              "      <td>2.64</td>\n",
              "      <td>2.34</td>\n",
              "    </tr>\n",
              "    <tr>\n",
              "      <th>Misc</th>\n",
              "      <td>6.56</td>\n",
              "      <td>0.08</td>\n",
              "      <td>0.70</td>\n",
              "      <td>8.57</td>\n",
              "      <td>7.37</td>\n",
              "      <td>0.17</td>\n",
              "      <td>4.56</td>\n",
              "      <td>7.71</td>\n",
              "      <td>7.07</td>\n",
              "      <td>12.53</td>\n",
              "      <td>6.88</td>\n",
              "    </tr>\n",
              "    <tr>\n",
              "      <th>Platform</th>\n",
              "      <td>8.61</td>\n",
              "      <td>0.92</td>\n",
              "      <td>0.06</td>\n",
              "      <td>3.52</td>\n",
              "      <td>6.99</td>\n",
              "      <td>0.00</td>\n",
              "      <td>0.62</td>\n",
              "      <td>2.45</td>\n",
              "      <td>16.03</td>\n",
              "      <td>2.09</td>\n",
              "      <td>0.80</td>\n",
              "    </tr>\n",
              "    <tr>\n",
              "      <th>Puzzle</th>\n",
              "      <td>1.74</td>\n",
              "      <td>0.00</td>\n",
              "      <td>0.00</td>\n",
              "      <td>0.04</td>\n",
              "      <td>0.02</td>\n",
              "      <td>0.00</td>\n",
              "      <td>0.06</td>\n",
              "      <td>0.00</td>\n",
              "      <td>1.34</td>\n",
              "      <td>0.00</td>\n",
              "      <td>0.00</td>\n",
              "    </tr>\n",
              "    <tr>\n",
              "      <th>Racing</th>\n",
              "      <td>0.00</td>\n",
              "      <td>0.00</td>\n",
              "      <td>0.94</td>\n",
              "      <td>7.32</td>\n",
              "      <td>11.57</td>\n",
              "      <td>0.00</td>\n",
              "      <td>0.10</td>\n",
              "      <td>0.00</td>\n",
              "      <td>7.24</td>\n",
              "      <td>3.32</td>\n",
              "      <td>8.83</td>\n",
              "    </tr>\n",
              "    <tr>\n",
              "      <th>Role-Playing</th>\n",
              "      <td>44.61</td>\n",
              "      <td>0.00</td>\n",
              "      <td>4.71</td>\n",
              "      <td>17.08</td>\n",
              "      <td>25.78</td>\n",
              "      <td>1.03</td>\n",
              "      <td>10.87</td>\n",
              "      <td>0.00</td>\n",
              "      <td>1.46</td>\n",
              "      <td>4.65</td>\n",
              "      <td>9.46</td>\n",
              "    </tr>\n",
              "    <tr>\n",
              "      <th>Shooter</th>\n",
              "      <td>0.06</td>\n",
              "      <td>0.00</td>\n",
              "      <td>9.10</td>\n",
              "      <td>33.37</td>\n",
              "      <td>75.32</td>\n",
              "      <td>0.00</td>\n",
              "      <td>1.84</td>\n",
              "      <td>0.00</td>\n",
              "      <td>5.61</td>\n",
              "      <td>36.12</td>\n",
              "      <td>51.59</td>\n",
              "    </tr>\n",
              "    <tr>\n",
              "      <th>Simulation</th>\n",
              "      <td>9.32</td>\n",
              "      <td>0.25</td>\n",
              "      <td>7.12</td>\n",
              "      <td>0.83</td>\n",
              "      <td>0.77</td>\n",
              "      <td>0.00</td>\n",
              "      <td>0.04</td>\n",
              "      <td>0.17</td>\n",
              "      <td>0.21</td>\n",
              "      <td>0.97</td>\n",
              "      <td>0.54</td>\n",
              "    </tr>\n",
              "    <tr>\n",
              "      <th>Sports</th>\n",
              "      <td>1.85</td>\n",
              "      <td>0.03</td>\n",
              "      <td>1.92</td>\n",
              "      <td>33.27</td>\n",
              "      <td>50.10</td>\n",
              "      <td>0.73</td>\n",
              "      <td>2.60</td>\n",
              "      <td>1.21</td>\n",
              "      <td>2.57</td>\n",
              "      <td>26.04</td>\n",
              "      <td>23.98</td>\n",
              "    </tr>\n",
              "    <tr>\n",
              "      <th>Strategy</th>\n",
              "      <td>1.25</td>\n",
              "      <td>0.00</td>\n",
              "      <td>4.73</td>\n",
              "      <td>0.65</td>\n",
              "      <td>0.42</td>\n",
              "      <td>0.02</td>\n",
              "      <td>0.31</td>\n",
              "      <td>0.34</td>\n",
              "      <td>1.22</td>\n",
              "      <td>0.30</td>\n",
              "      <td>0.39</td>\n",
              "    </tr>\n",
              "  </tbody>\n",
              "</table>\n",
              "</div>"
            ],
            "text/plain": [
              "Platform        3DS    DS    PC    PS3    PS4  ...    PSV   Wii   WiiU   X360   XOne\n",
              "Genre                                          ...                                  \n",
              "Action        32.83  0.67  6.91  73.78  84.70  ...  11.61  3.22  14.90  49.06  33.78\n",
              "Adventure      3.24  0.03  0.47   4.53   4.70  ...   3.77  0.27   0.19   2.12   2.49\n",
              "Fighting       8.08  0.00  0.10   6.16   8.04  ...   1.47  0.00   6.16   2.64   2.34\n",
              "Misc           6.56  0.08  0.70   8.57   7.37  ...   4.56  7.71   7.07  12.53   6.88\n",
              "Platform       8.61  0.92  0.06   3.52   6.99  ...   0.62  2.45  16.03   2.09   0.80\n",
              "Puzzle         1.74  0.00  0.00   0.04   0.02  ...   0.06  0.00   1.34   0.00   0.00\n",
              "Racing         0.00  0.00  0.94   7.32  11.57  ...   0.10  0.00   7.24   3.32   8.83\n",
              "Role-Playing  44.61  0.00  4.71  17.08  25.78  ...  10.87  0.00   1.46   4.65   9.46\n",
              "Shooter        0.06  0.00  9.10  33.37  75.32  ...   1.84  0.00   5.61  36.12  51.59\n",
              "Simulation     9.32  0.25  7.12   0.83   0.77  ...   0.04  0.17   0.21   0.97   0.54\n",
              "Sports         1.85  0.03  1.92  33.27  50.10  ...   2.60  1.21   2.57  26.04  23.98\n",
              "Strategy       1.25  0.00  4.73   0.65   0.42  ...   0.31  0.34   1.22   0.30   0.39\n",
              "\n",
              "[12 rows x 11 columns]"
            ]
          },
          "metadata": {},
          "execution_count": 92
        }
      ]
    },
    {
      "cell_type": "code",
      "source": [
        "df_15 = pd.DataFrame(plat_gen.iloc[0]).sort_values(by='Action', ascending=False) # action\n",
        "df_15 = df_15.iloc[:-3]\n",
        "df_16 = pd.DataFrame(plat_gen.iloc[8]).sort_values(by='Shooter', ascending=False) # shooter\n",
        "df_16 = df_16.iloc[:-4]               \n",
        "df_17 = pd.DataFrame(plat_gen.iloc[10]).sort_values(by='Sports', ascending=False) # sports\n",
        "df_17 = df_17.iloc[:-4]\n",
        "df_18 = pd.DataFrame(plat_gen.iloc[7]).sort_values(by='Role-Playing', ascending=False) # role-playing\n",
        "df_18 = df_18.iloc[:-4]"
      ],
      "metadata": {
        "id": "mf2MGsXxzUI6"
      },
      "execution_count": null,
      "outputs": []
    },
    {
      "cell_type": "code",
      "source": [
        "colors = sns.color_palette('RdPu',11)\n",
        "plt.figure(figsize=(23,7))\n",
        "\n",
        "plt.subplot(141) \n",
        "plt.pie(df_15['Action'], labels=df_15.index, autopct='%.1f%%', colors=colors)\n",
        "plt.title('Action')\n",
        "\n",
        "plt.subplot(142) \n",
        "plt.pie(df_16['Shooter'], labels=df_16.index, autopct='%.1f%%', colors=colors)\n",
        "plt.title('Shooter')\n",
        "\n",
        "plt.subplot(143) \n",
        "plt.pie(df_17['Sports'], labels=df_17.index, autopct='%.1f%%', colors=colors)\n",
        "plt.title('Sports')\n",
        "\n",
        "plt.subplot(144) \n",
        "plt.pie(df_18['Role-Playing'], labels=df_18.index, autopct='%.1f%%', colors=colors)\n",
        "plt.title('Role-Playing')"
      ],
      "metadata": {
        "id": "FX22O3zdzZrV",
        "outputId": "328148de-737a-4b3e-dbfb-832b84ef55eb",
        "colab": {
          "base_uri": "https://localhost:8080/",
          "height": 344
        }
      },
      "execution_count": null,
      "outputs": [
        {
          "output_type": "execute_result",
          "data": {
            "text/plain": [
              "Text(0.5, 1.0, 'Role-Playing')"
            ]
          },
          "metadata": {},
          "execution_count": 95
        },
        {
          "output_type": "display_data",
          "data": {
            "image/png": "[encoded data removed]",
            "text/plain": [
              "<Figure size 1656x504 with 4 Axes>"
            ]
          },
          "metadata": {}
        }
      ]
    },
    {
      "cell_type": "markdown",
      "source": [
        "\n",
        "\n",
        "*   매출 상위권 장르를 살펴보면 Platform에서 **PS**와 **XBOX**가 절대적인 비중을 차지한다. 2가지 Platform만으로 50%에 가까운 비중을 달성할 수 있다. \n",
        "*   Role-Playing은 **3DS**가 가장 점유율이 높지만, **PS**시리즈는 여전히 인기가 많다.\n",
        "\n"
      ],
      "metadata": {
        "id": "oxxin8YCzebR"
      }
    },
    {
      "cell_type": "markdown",
      "source": [
        "## 게임 개발 전략방향"
      ],
      "metadata": {
        "id": "ASMDwDVmziD8"
      }
    },
    {
      "cell_type": "markdown",
      "source": [
        "단기 전략\n",
        "*   주력시장**(북미, 유럽)**에서 인기있는 Platform 특화된 게임을 출시한다.\n",
        "*   대표적 플랫폼인 **PS, XBOX** 두가지로 출시하는 것이 주요하며, 가장 인기있는 장르  **Action, Shooter** 중에서 자사가 기술적 강점을 가진 장르로 선정한다.\n",
        "\n",
        "\n",
        "장기 전략\n",
        "\n",
        "*   현재 게임시장이 PC 및 모바일이 큰 비중을 차지하게 변화하였다. 콘솔게임과 PC게임의 경계도 사라지는 추세이며, 연결된 동일한 온라인 서버를 공유하며 플랫폼 및 기기간 교류가 가능한 게임들에 대한 고객 니즈가 많아지고 있다. 각각의 특징을 간략히 살펴보면,\n",
        "*   1) **모바일 게임**: 게임을 할 수 있는 시간적 제약이 적다. 하지만 하드웨어 한계로 구현가능한 게임이 한정적이고, 일부 게임플레이에 적합도가 낮다.\n",
        "*   2) **PC,콘솔게임**: 기기 성능이 더 좋지만 휴대성이 떨어진다. \n",
        "\n",
        "* **크로스 플랫폼 지원하는 방향으로 개발 필요** : 콘솔 + 모바일 + PC, 최소2가지 지원, 다양한 기기에서 동일한 게임 지원\n",
        "*   필요에 따라 플랫폼을 바꿔가며 플레이 할 수 있게 되면 **게임시간을 증가**시킬 수 있다. 또한 **플레이어의 커뮤니티를 확장**할 수 있는데 서로 다른 플랫폼을 선호하는 사람들을 만나 함께 플레이 할 수 있는 환경이 조성되므로 게임 선호도가 상승할 수 있다. 다만 개발의 복잡도가 증가하므로, 개발 시간이 증가할 수 있다. 장기적 방향성으로 잡고 진행할 필요가 있다. \n",
        "\n",
        "\n",
        "\n",
        "\n",
        "\n"
      ],
      "metadata": {
        "id": "seS-4M3Fzk6F"
      }
    }
  ]
}